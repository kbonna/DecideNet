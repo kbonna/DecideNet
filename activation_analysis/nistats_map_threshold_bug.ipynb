{
 "cells": [
  {
   "cell_type": "code",
   "execution_count": 1,
   "metadata": {},
   "outputs": [
    {
     "name": "stderr",
     "output_type": "stream",
     "text": [
      "<ipython-input-1-a1dab9486424>:1: FutureWarning: \n",
      "\n",
      " | Starting with Nilearn 0.7.0, all Nistats functionality has been incorporated into Nilearn's stats & reporting modules.\n",
      " | Nistats package will no longer be updated or maintained.\n",
      "\n",
      "  from nistats.thresholding import map_threshold\n"
     ]
    }
   ],
   "source": [
    "from nistats.thresholding import map_threshold\n",
    "from nistats.reporting import get_clusters_table\n",
    "import nibabel as nib\n",
    "import numpy as np\n",
    "import copy"
   ]
  },
  {
   "cell_type": "code",
   "execution_count": 2,
   "metadata": {},
   "outputs": [],
   "source": [
    "spm = nib.load(('/home/kmb/Desktop/Neuroscience/Projects/BONNA_decide_net/data/' \n",
    "               'main_fmri_study/derivatives/nistats/second_level_output/'\n",
    "               'statmap-2nd_effect-perr_combined_pos.nii'))"
   ]
  },
  {
   "cell_type": "code",
   "execution_count": 3,
   "metadata": {},
   "outputs": [
    {
     "name": "stdout",
     "output_type": "stream",
     "text": [
      "threshold for alpha=0.0001:   4.565349803782683\n",
      "threshold for alpha=0.00001:  5.186664795363691\n",
      "threshold for alpha=0.0001:   4.597391809542178\n",
      "threshold for alpha=0.00001:  5.206475120366608\n",
      "threshold for alpha=0.0001:   4.606463336236314\n",
      "threshold for alpha=0.00001:  5.206475120366608\n",
      "threshold for alpha=0.0001:   4.606463336236314\n",
      "threshold for alpha=0.00001:  5.206475120366608\n"
     ]
    }
   ],
   "source": [
    "_, threshold = map_threshold(spm, alpha=0.0001, height_control='fdr')\n",
    "print(f'threshold for alpha=0.0001:  ', threshold)\n",
    "_ = get_clusters_table(spm, stat_threshold=threshold, cluster_threshold=20)\n",
    "\n",
    "_, threshold = map_threshold(spm, alpha=0.00001, height_control='fdr')\n",
    "print(f'threshold for alpha=0.00001: ', threshold)\n",
    "_ = get_clusters_table(spm, stat_threshold=threshold, cluster_threshold=20)\n",
    "\n",
    "_, threshold = map_threshold(spm, alpha=0.0001, height_control='fdr')\n",
    "print(f'threshold for alpha=0.0001:  ', threshold)\n",
    "_ = get_clusters_table(spm, stat_threshold=threshold, cluster_threshold=20)\n",
    "\n",
    "_, threshold = map_threshold(spm, alpha=0.00001, height_control='fdr')\n",
    "print(f'threshold for alpha=0.00001: ', threshold)\n",
    "_ = get_clusters_table(spm, stat_threshold=threshold, cluster_threshold=20)\n",
    "\n",
    "_, threshold = map_threshold(spm, alpha=0.0001, height_control='fdr')\n",
    "print(f'threshold for alpha=0.0001:  ', threshold)\n",
    "_ = get_clusters_table(spm, stat_threshold=threshold, cluster_threshold=20)\n",
    "\n",
    "_, threshold = map_threshold(spm, alpha=0.00001, height_control='fdr')\n",
    "print(f'threshold for alpha=0.00001: ', threshold)\n",
    "_ = get_clusters_table(spm, stat_threshold=threshold, cluster_threshold=20)\n",
    "\n",
    "_, threshold = map_threshold(spm, alpha=0.0001, height_control='fdr')\n",
    "print(f'threshold for alpha=0.0001:  ', threshold)\n",
    "_ = get_clusters_table(spm, stat_threshold=threshold, cluster_threshold=20)\n",
    "\n",
    "_, threshold = map_threshold(spm, alpha=0.00001, height_control='fdr')\n",
    "print(f'threshold for alpha=0.00001: ', threshold)\n",
    "_ = get_clusters_table(spm, stat_threshold=threshold, cluster_threshold=20)"
   ]
  }
 ],
 "metadata": {
  "kernelspec": {
   "display_name": "Python 3.8 64-bit ('decidenet': conda)",
   "language": "python",
   "name": "decidenet"
  },
  "language_info": {
   "codemirror_mode": {
    "name": "ipython",
    "version": 3
   },
   "file_extension": ".py",
   "mimetype": "text/x-python",
   "name": "python",
   "nbconvert_exporter": "python",
   "pygments_lexer": "ipython3",
   "version": "3.8.3"
  }
 },
 "nbformat": 4,
 "nbformat_minor": 4
}
