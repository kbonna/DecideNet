{
 "cells": [
  {
   "cell_type": "markdown",
   "metadata": {},
   "source": [
    "## Reporting GLM results\n",
    "\n",
    "This script creates activation plots and clusters table used to report GLM findings. Responsibilities:\n",
    "- loads second level statistical parametric maps (spm's)\n",
    "- threshold spm's and extract information about active clusters\n",
    "- generates tables with information about active clusters and figures with thresholded activation maps\n",
    "- saves files to drive\n",
    "\n",
    "> Warning! To reproduce this analysis use nilearn version > 0.7.0 which incorporates nistats functions\n",
    "\n",
    "---\n",
    "**Last update**: 04.08.2020 "
   ]
  },
  {
   "cell_type": "code",
   "execution_count": 2,
   "metadata": {},
   "outputs": [],
   "source": [
    "%matplotlib inline\n",
    "import matplotlib as mpl\n",
    "import matplotlib.pyplot as plt\n",
    "import scipy.stats as ss\n",
    "import nibabel as nib\n",
    "import pandas as pd\n",
    "import numpy as np\n",
    "import json\n",
    "import sys\n",
    "import os\n",
    "\n",
    "from nilearn import plotting, image\n",
    "from nilearn.reporting import get_clusters_table\n",
    "from nilearn.glm.thresholding import threshold_stats_img\n",
    "\n",
    "path_root = os.environ.get('DECIDENET_PATH')\n",
    "path_code = os.path.join(path_root, 'code')\n",
    "if path_code not in sys.path:\n",
    "    sys.path.append(path_code)\n",
    "from dn_utils.glm_utils import (add_clusters_labels, load_first_level_stat_maps,\n",
    "    extract_img_value_for_mni_coords)\n",
    "from dn_utils.plotting import barplot_annotate_brackets"
   ]
  },
  {
   "cell_type": "code",
   "execution_count": 3,
   "metadata": {},
   "outputs": [],
   "source": [
    "path_nistats = os.path.join(path_root, 'data/main_fmri_study/derivatives/nistats')\n",
    "path_exclusion_csv = os.path.join(path_nistats, 'exclusion/exclusion.csv')\n",
    "path_first_level_output = os.path.join(path_nistats, 'first_level_output')\n",
    "path_second_level_output = os.path.join(path_nistats, 'second_level_output')\n",
    "path_templates = os.path.join(path_nistats, 'templates')\n",
    "path_atlases_summary = os.path.join(path_templates, 'atlases_summary.json')\n",
    "\n",
    "# Directory to save resulting figures\n",
    "path_out = os.path.join(path_nistats, 'results')\n",
    "os.makedirs(path_out, exist_ok=True)"
   ]
  },
  {
   "cell_type": "markdown",
   "metadata": {},
   "source": [
    "### Load brain template\n",
    "\n",
    "Here, anatomical brain template is loaded to serve as a background for activation maps. We use the same template that is used in fmriprep for coregistration, i.e. MNI 2009c asymmetric template. Two image files are loaded and one is created:\n",
    "- `img_mni_09c_t1`: T1 version of template without brain extraction\n",
    "- `img_mni_09c_mask`: brain mask for T1 template image\n",
    "- `img_mni_09c_clipped`: masked T1 template (brain extracted from T1)"
   ]
  },
  {
   "cell_type": "code",
   "execution_count": 4,
   "metadata": {},
   "outputs": [],
   "source": [
    "# Load MNI 2009c template\n",
    "path_mni = os.path.join(\n",
    "    path_templates, \n",
    "    'mni_icbm152_nlin_asym_09c_nifti/mni_icbm152_nlin_asym_09c')\n",
    "img_mni_09c_t1 = nib.load(\n",
    "    os.path.join(path_mni, 'mni_icbm152_t1_tal_nlin_asym_09c.nii'))\n",
    "img_mni_09c_mask = nib.load(\n",
    "    os.path.join(path_mni, 'mni_icbm152_t1_tal_nlin_asym_09c_mask.nii'))\n",
    "img_mni_09c_clipped = nib.Nifti1Image(\n",
    "    img_mni_09c_t1.get_fdata() * img_mni_09c_mask.get_fdata(), \n",
    "    img_mni_09c_t1.affine, \n",
    "    img_mni_09c_t1.header)"
   ]
  },
  {
   "cell_type": "code",
   "execution_count": 5,
   "metadata": {},
   "outputs": [],
   "source": [
    "# Load second level SPMs\n",
    "spm_perr_inc = nib.load(os.path.join(\n",
    "    path_second_level_output, \n",
    "    'statmap-2nd_effect-perr_combined_pos.nii'))\n",
    "spm_perr_dec = nib.load(os.path.join(\n",
    "    path_second_level_output, \n",
    "    'statmap-2nd_effect-perr_combined_neg.nii'))\n",
    "spm_perr_rew_minus_pun = nib.load(os.path.join(\n",
    "    path_second_level_output, \n",
    "    'statmap-2nd_effect-perr_rew_minus_pun.nii'))\n",
    "spm_perr_pun_minus_rew = nib.load(os.path.join(\n",
    "    path_second_level_output, \n",
    "    'statmap-2nd_effect-perr_pun_minus_rew.nii'))"
   ]
  },
  {
   "cell_type": "markdown",
   "metadata": {},
   "source": [
    "### Load brain atlases"
   ]
  },
  {
   "cell_type": "code",
   "execution_count": 6,
   "metadata": {},
   "outputs": [],
   "source": [
    "intigerize_keys = lambda dict_: {int(k): v for k, v in dict_.items()}\n",
    "\n",
    "# Load atlases summary\n",
    "atlases_summary = json.loads(open(path_atlases_summary, 'r').read())\n",
    "\n",
    "# Extract relevant information\n",
    "names_atlases = atlases_summary.keys()\n",
    "img_atlases = [nib.load(atlas_dict['path_nifti']) \n",
    "               for atlas_dict in atlases_summary.values()]\n",
    "label_codes_atlases = [intigerize_keys(atlas_dict['label_codes']) \n",
    "                       for atlas_dict in atlases_summary.values()]\n",
    "\n",
    "def extend_clusters_table(clusters_table):\n",
    "    '''Add rogion label columns according to different brain atlases.'''\n",
    "    for name, img, label_codes in zip(names_atlases, \n",
    "                                      img_atlases, \n",
    "                                      label_codes_atlases):\n",
    "        add_clusters_labels(clusters_table, img, label_codes, name, inplace=True) "
   ]
  },
  {
   "cell_type": "markdown",
   "metadata": {},
   "source": [
    "## Combined effect of prediction error encoding\n",
    "\n",
    "Here we threshold second level statistical paramet maps (spm's) for prediction error effect combined for both task conditions. We use two-sided test with false discovery rate (FDR) correction to detect brain regions:\n",
    "- with activity scaling positively with increasing prediction error (+PE regions)\n",
    "- with activity scaling negatively with increasing prediction error (-PE regions)\n",
    "\n",
    "We used corrected p-value threshold of 0.0001 and cluster forming threshold of 20 connected voxels."
   ]
  },
  {
   "cell_type": "code",
   "execution_count": 7,
   "metadata": {},
   "outputs": [],
   "source": [
    "activations_perr_inc, thr_perr_inc = threshold_stats_img(\n",
    "    spm_perr_inc,\n",
    "    mask_img=img_mni_09c_mask,\n",
    "    alpha=0.0001,\n",
    "    height_control='fdr',\n",
    "    cluster_threshold=20,\n",
    "    two_sided=True\n",
    ")\n",
    "\n",
    "clusters_perr_inc = get_clusters_table(\n",
    "    spm_perr_inc, \n",
    "    stat_threshold=thr_perr_inc, \n",
    "    cluster_threshold=20)\n",
    "clusters_perr_dec = get_clusters_table(\n",
    "    spm_perr_dec, \n",
    "    stat_threshold=thr_perr_inc, \n",
    "    cluster_threshold=20)\n",
    "\n",
    "extend_clusters_table(clusters_perr_inc)\n",
    "extend_clusters_table(clusters_perr_dec)\n",
    "\n",
    "# Export clusters table\n",
    "clusters_perr_inc.to_csv(os.path.join(\n",
    "    path_out, 'clusters_perr_inc_alpha_0_0001.csv'))\n",
    "clusters_perr_dec.to_csv(os.path.join(\n",
    "    path_out, 'clusters_perr_dec_alpha_0_0001.csv'))"
   ]
  },
  {
   "cell_type": "markdown",
   "metadata": {},
   "source": [
    "## Difference in prediction error coding between reward and punishment conditions\n",
    "\n",
    "Here we threshold second level statistical paramet maps (spm's) for prediction error effect difference between reward and punishment conditions. We use two-sided test with false discovery rate (FDR) correction to detect brain regions:\n",
    "- for which slope of relationship between activity and PE is larger in reward than in punishemnt condition\n",
    "- for which slope of relationship between activity and PE is smaller in reward than in punishemnt condition\n",
    "\n",
    "We used corrected p-value threshold of 0.001 and cluster forming threshold of 20 connected voxels."
   ]
  },
  {
   "cell_type": "code",
   "execution_count": 8,
   "metadata": {},
   "outputs": [],
   "source": [
    "activations_perr_rew_minus_pun, thr_perr_rew_minus_pun = threshold_stats_img(\n",
    "    spm_perr_rew_minus_pun,\n",
    "    mask_img=img_mni_09c_mask,\n",
    "    alpha=0.001,\n",
    "    height_control='fdr',\n",
    "    cluster_threshold=20,\n",
    "    two_sided=True\n",
    ")\n",
    "\n",
    "clusters_perr_rew_minus_pun = get_clusters_table(\n",
    "    spm_perr_rew_minus_pun, \n",
    "    stat_threshold=thr_perr_rew_minus_pun, \n",
    "    cluster_threshold=20)\n",
    "\n",
    "extend_clusters_table(clusters_perr_rew_minus_pun)\n",
    "\n",
    "# Export clusters table\n",
    "clusters_perr_rew_minus_pun.to_csv(os.path.join(\n",
    "    path_out, 'clusters_perr_rew_minus_pun_alpha_0_001.csv'))"
   ]
  },
  {
   "cell_type": "markdown",
   "metadata": {},
   "source": [
    "## Post-hoc test"
   ]
  },
  {
   "cell_type": "code",
   "execution_count": 9,
   "metadata": {},
   "outputs": [],
   "source": [
    "# Load exclusion table\n",
    "df_exclusion = pd.read_csv(path_exclusion_csv, index_col=0)\n",
    "ok_index = df_exclusion.index[df_exclusion['ok_all']]\n",
    "\n",
    "# Load first level stat maps\n",
    "stat_maps = load_first_level_stat_maps(\n",
    "    os.path.join(path_first_level_output, 'out_perr'), \n",
    "    ['prlrew', 'prlpun'])\n",
    "stat_maps_ok = {con: [stat_maps[con][i] for i in ok_index] for con in stat_maps}\n",
    "n_subjects_ok = len(ok_index)\n",
    "\n",
    "# Extract individual beta values for clusters\n",
    "peaks_individual_betas = []\n",
    "\n",
    "for _, cluster in clusters_perr_rew_minus_pun.iterrows():\n",
    "    \n",
    "    # Filter out subpeaks\n",
    "    if cluster['Cluster Size (mm3)']:\n",
    "        \n",
    "        peak_mni_coords = np.array(cluster.loc[['X', 'Y', 'Z']], dtype='float')\n",
    "        betas_prlrew = [extract_img_value_for_mni_coords(peak_mni_coords, img) \n",
    "                        for img in stat_maps_ok['prlrew']]\n",
    "        betas_prlpun = [extract_img_value_for_mni_coords(peak_mni_coords, img) \n",
    "                        for img in stat_maps_ok['prlpun']]\n",
    "        \n",
    "        peaks_individual_betas.append(\n",
    "            pd.DataFrame(data={'prlrew': betas_prlrew, 'prlpun': betas_prlpun}))"
   ]
  },
  {
   "cell_type": "markdown",
   "metadata": {},
   "source": [
    "## Generate figures"
   ]
  },
  {
   "cell_type": "code",
   "execution_count": 20,
   "metadata": {},
   "outputs": [
    {
     "data": {
      "image/png": "[encoded data removed]",
      "text/plain": [
       "<Figure size 1008x216 with 6 Axes>"
      ]
     },
     "metadata": {},
     "output_type": "display_data"
    }
   ],
   "source": [
    "# Manual region labels\n",
    "cluster_labels_perr_rew_minus_pun = ['V3/V4 R', 'Supramarginal R', \n",
    "                                     'Precuneus R', 'SPL R',\n",
    "                                     'V3/V4 L', 'V1 R', 'Precentral R']\n",
    "\n",
    "# Figure settings\n",
    "mpl.rcParams.update({\n",
    "    'font.size': 14, \n",
    "    'axes.titlesize': 14,\n",
    "    'ytick.major.width': 1.3,\n",
    "    'lines.linewidth': 1.3,\n",
    "    'axes.linewidth': 1.3,\n",
    "    'legend.framealpha': 0,\n",
    "})\n",
    "\n",
    "bar_xticks = (0.3, 0.7) \n",
    "bar_xlim = (0, 1)\n",
    "bar_ylim = (-2, 3.25)\n",
    "bar_width = 0.3\n",
    "bar_colors = ['#f49915', '#5E88CA']\n",
    "bar_bracket_offset = 0.03 \n",
    "\n",
    "fig_legend_position = [1.1, 0.75]\n",
    "fig_subplots_gap = 0.2 \n",
    "fig_size = (14, 3)\n",
    "\n",
    "error_kw = {\n",
    "    'capsize': 3, \n",
    "    'elinewidth': 1.3, \n",
    "    'capthick': 1.3,\n",
    "}\n",
    "\n",
    "fig, ax = plt.subplots(ncols=6, figsize=fig_size, facecolor='w', sharey=True)\n",
    "\n",
    "for idx, (df_peak, label) in enumerate(zip(peaks_individual_betas[:5],\n",
    "                                           cluster_labels_perr_rew_minus_pun[:5])):\n",
    "\n",
    "    # Calculate paired t-stat and p-value\n",
    "    tstat = ss.ttest_ind(df_peak['prlrew'], df_peak['prlpun'])\n",
    "    annotation = '***' if tstat.pvalue < 0.0001 else '?'\n",
    "    \n",
    "    ax[idx].bar(\n",
    "        x=bar_xticks, \n",
    "        height=df_peak.mean(),\n",
    "        width=bar_width,\n",
    "        color=bar_colors,\n",
    "        yerr=df_peak.std() / (n_subjects_ok ** (0.5)),\n",
    "        linewidth=0,\n",
    "        error_kw=error_kw,\n",
    "    )\n",
    "    ax[idx].axhline(0, color='k')\n",
    "    ax[idx].set_xlim(bar_xlim)\n",
    "    ax[idx].set_xticks([])\n",
    "    ax[idx].set_title(label)\n",
    "    ax[idx].set_ylim(bar_ylim)\n",
    "    \n",
    "    barplot_annotate_brackets(\n",
    "        ax=ax[idx], \n",
    "        num1=0, \n",
    "        num2=1, \n",
    "        text=annotation, \n",
    "        center=bar_xticks, \n",
    "        height=df_peak.mean(), \n",
    "        yerr=df_peak.std() / (n_subjects_ok ** (0.5)),\n",
    "        dh=bar_bracket_offset\n",
    "    )\n",
    "\n",
    "# Add yLabel\n",
    "firstSubplot = ax[0]\n",
    "firstSubplot.set_ylabel('Mean z-score')\n",
    "\n",
    "# Add legend\n",
    "lastSubplot = ax[-1]\n",
    "lastSubplot.set_frame_on(False)\n",
    "lastSubplot.get_xaxis().set_visible(False)\n",
    "lastSubplot.get_yaxis().set_visible(False)\n",
    "lastSubplot.legend(\n",
    "    handles=ax[0].patches, \n",
    "    labels=['Reward', 'Punishment'],\n",
    "    bbox_to_anchor=fig_legend_position,\n",
    "    \n",
    ")\n",
    "\n",
    "plt.subplots_adjust(wspace=fig_subplots_gap)\n",
    "\n",
    "fig.savefig(\n",
    "    os.path.join(path_out, 'peaks_perr_rew_minus_pun_alpha_0_001.svg'),\n",
    "    bbox_inches='tight'\n",
    ")"
   ]
  },
  {
   "cell_type": "code",
   "execution_count": 18,
   "metadata": {},
   "outputs": [],
   "source": [
    "plotting.plot_img(\n",
    "    activations_perr_inc, \n",
    "    bg_img=img_mni_09c_clipped,\n",
    "    display_mode='z',\n",
    "    cut_coords=(-12, 2, 34, 45, 70),\n",
    "    threshold=thr_perr_inc,\n",
    "    vmax=9,\n",
    "    vmin=-9,\n",
    "    black_bg=False,\n",
    "    colorbar=True,\n",
    "    cmap='cold_hot',\n",
    "    output_file=os.path.join(path_out, 'spm_perr_alpha_0_0001.svg')\n",
    ")"
   ]
  },
  {
   "cell_type": "code",
   "execution_count": 19,
   "metadata": {},
   "outputs": [],
   "source": [
    "plotting.plot_img(\n",
    "    activations_perr_rew_minus_pun, \n",
    "    bg_img=img_mni_09c_clipped,\n",
    "    display_mode='z',\n",
    "    cut_coords=(-3, 23, 30, 48, 58),\n",
    "    threshold=thr_perr_rew_minus_pun,\n",
    "    black_bg=False,\n",
    "    colorbar=True,\n",
    "    vmin=0,\n",
    "    vmax=9,\n",
    "    cmap='hot',\n",
    "    output_file=os.path.join(path_out, 'spm_perr_rew_minus_pun_alpha_0_001.svg')\n",
    ")"
   ]
  }
 ],
 "metadata": {
  "kernelspec": {
   "display_name": "Python 3.8 64-bit ('decidenet': conda)",
   "language": "python",
   "name": "decidenet"
  },
  "language_info": {
   "codemirror_mode": {
    "name": "ipython",
    "version": 3
   },
   "file_extension": ".py",
   "mimetype": "text/x-python",
   "name": "python",
   "nbconvert_exporter": "python",
   "pygments_lexer": "ipython3",
   "version": "3.8.3"
  }
 },
 "nbformat": 4,
 "nbformat_minor": 4
}
