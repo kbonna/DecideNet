{
 "cells": [
  {
   "cell_type": "markdown",
   "metadata": {},
   "source": [
    "## Second level GLM analysis\n",
    "\n",
    "This script performs group level modeling of BOLD response. Script features: \n",
    "- loads statistical maps from first level GLM analysis\n",
    "- discard data from excluded subjects\n",
    "- performs second level GLM analysis\n",
    "\n",
    "---\n",
    "**Last update**: 24.07.2020 "
   ]
  },
  {
   "cell_type": "code",
   "execution_count": null,
   "metadata": {},
   "outputs": [],
   "source": [
    "%matplotlib inline\n",
    "import matplotlib.pyplot as plt\n",
    "import nibabel as nib\n",
    "import pandas as pd\n",
    "import numpy as np\n",
    "import sys\n",
    "import os\n",
    "\n",
    "from nistats.second_level_model import SecondLevelModel\n",
    "\n",
    "path_root = os.environ.get('DECIDENET_PATH')\n",
    "path_code = os.path.join(path_root, 'code')\n",
    "if path_code not in sys.path:\n",
    "    sys.path.append(path_code)\n",
    "from dn_utils.behavioral_models import load_behavioral_data\n",
    "from dn_utils.glm_utils import load_first_level_stat_maps"
   ]
  },
  {
   "cell_type": "code",
   "execution_count": null,
   "metadata": {},
   "outputs": [],
   "source": [
    "# Directory to save second level output\n",
    "path_out = os.path.join(path_root, \n",
    "                        'data/main_fmri_study/derivatives/nistats/second_level_output')\n",
    "os.makedirs(path_out, exist_ok=True)\n",
    "\n",
    "# Load behavioral data\n",
    "path_beh = os.path.join(path_root, 'data/main_fmri_study/sourcedata/behavioral')\n",
    "beh, meta = load_behavioral_data(path=path_beh, verbose=False)\n",
    "n_subjects, n_conditions, n_trials, _ = beh.shape"
   ]
  },
  {
   "cell_type": "markdown",
   "metadata": {},
   "source": [
    "Before constructing second level GLM, data from excluded subjects is discarded. To exclude subjects, filter vectors are used:\n",
    "- `ok_all`: True / False vector of length `n_subjects` specifying if given subject should be included in second level analysis\n",
    "- `ok_index`: vector of indices for included subjects\n",
    "- `n_subjects_ok`: final group size, number of included subjects (`len(ok_index) is n_subjects_ok`)"
   ]
  },
  {
   "cell_type": "code",
   "execution_count": null,
   "metadata": {},
   "outputs": [],
   "source": [
    "path_nistats = os.path.join(path_root, 'data/main_fmri_study/derivatives/nistats')\n",
    "path_first_level_output = os.path.join(path_nistats, 'first_level_output')\n",
    "path_exclusion_csv = os.path.join(path_nistats, 'exclusion/exclusion.csv')\n",
    "\n",
    "# Load exclusion table\n",
    "df_exclusion = pd.read_csv(path_exclusion_csv, index_col=0)\n",
    "ok_all = df_exclusion['ok_all']\n",
    "ok_index = df_exclusion.index[ok_all]\n",
    "n_subjects_ok = ok_all.sum()"
   ]
  },
  {
   "cell_type": "markdown",
   "metadata": {},
   "source": [
    "## Group analysis\n",
    "\n",
    "Here, group analysis is performed for model-based prediction error regressor, outcome onset regressor and button press regressor. Data from subjects excluded from the analysis is discarded at this point. Second level GLMs are created and fitted, then the resultant statistical map is displayed on the MNI152 non-linear asymmetric template (version 2009c; default template for fmriprep)."
   ]
  },
  {
   "cell_type": "code",
   "execution_count": null,
   "metadata": {},
   "outputs": [],
   "source": [
    "# Define second level model\n",
    "second_level_model = SecondLevelModel(smoothing_fwhm=None)\n",
    "\n",
    "# Create second level design matrix\n",
    "effect_con_rew = np.vstack((np.ones((n_subjects_ok, 1)), \n",
    "                            np.zeros((n_subjects_ok, 1))))\n",
    "effect_con_pun = np.vstack((np.zeros((n_subjects_ok, 1)), \n",
    "                            np.ones((n_subjects_ok, 1))))\n",
    "effect_sub = np.vstack((np.eye(n_subjects_ok), np.eye(n_subjects_ok)))\n",
    "design_matrix = pd.DataFrame(\n",
    "    np.hstack((effect_con_rew, effect_con_pun, effect_sub)),\n",
    "    columns=['rew', 'pun'] + [meta['dim1'][i] for i in ok_index]\n",
    ")\n",
    "\n",
    "# Compute statistical map for difference between conditions contrast\n",
    "condition_rew = np.array(design_matrix.columns == 'rew', dtype='float')\n",
    "condition_pun = np.array(design_matrix.columns == 'pun', dtype='float')"
   ]
  },
  {
   "cell_type": "markdown",
   "metadata": {},
   "source": [
    "Conditions are modeled separately as different \"sessions\", within subject effect of repeated measures is also modeled.\n",
    "\n",
    "### **Effect 1**: *Combined effect of prediction error coding*\n",
    "- name: `perr_combined_pos` / `perr_combined_neg` \n",
    "- queston: Which brain structures scale their BOLD activity according to magnitude of prediction error regardless of outcome valence?\n",
    "\n",
    "### **Effect 2**: *Difference in prediction error coding depending on outcome valence*\n",
    "- name: `perr_rew_minus_pun` / `perr_pun_minus_rew` \n",
    "- question: Does prediction error processing differ between reward and punishment condition? \n",
    "\n",
    "### **Effect 3**: *Combined effect of expected probability of winning*\n",
    "Which brain structures respond to expected probability of correct choice regardless of outcome valence?\n",
    "\n",
    "### **Effect 4**: *Combined effect of difference betweem left and right button press*\n",
    "Which brain structures invoke left button presses and supress their activity for right button press (or vice versa) regardless of outcome valence?"
   ]
  },
  {
   "cell_type": "code",
   "execution_count": null,
   "metadata": {},
   "outputs": [],
   "source": [
    "# Define effects of interest\n",
    "effects = [\n",
    "    {\n",
    "        'name': 'perr_combined_pos',\n",
    "        'first_level_contrast': 'out_perr',\n",
    "        'second_level_contrast': condition_pun + condition_rew\n",
    "    },\n",
    "    {\n",
    "        'name': 'perr_combined_neg',\n",
    "        'first_level_contrast': 'out_perr',\n",
    "        'second_level_contrast': (-1) * condition_pun - condition_rew\n",
    "    },\n",
    "    {\n",
    "        'name': 'perr_rew_minus_pun',\n",
    "        'first_level_contrast': 'out_perr',\n",
    "        'second_level_contrast': condition_rew - condition_pun\n",
    "    },\n",
    "    {\n",
    "        'name': 'perr_pun_minus_rew',\n",
    "        'first_level_contrast': 'out_perr',\n",
    "        'second_level_contrast': condition_pun - condition_rew\n",
    "    }\n",
    "]"
   ]
  },
  {
   "cell_type": "code",
   "execution_count": null,
   "metadata": {},
   "outputs": [],
   "source": [
    "for effect in effects:\n",
    "    \n",
    "    effect_name = effect['name']\n",
    "    first_level_contrast = effect['first_level_contrast']\n",
    "    second_level_contrast = effect['second_level_contrast']\n",
    "\n",
    "    # Load stat-map images (first level output)\n",
    "    path_contrast = os.path.join(path_first_level_output, first_level_contrast)\n",
    "    stat_maps = load_first_level_stat_maps(path_contrast, ['prlrew', 'prlpun'])\n",
    "\n",
    "    # Filter out excluded subjects\n",
    "    stat_maps_ok = {con: [stat_maps[con][i] for i in ok_index] for con in stat_maps}\n",
    "\n",
    "    # Create second level GLM input\n",
    "    second_level_input = [stat_map \n",
    "                          for con in ['prlrew', 'prlpun'] \n",
    "                          for stat_map in stat_maps_ok[con]]\n",
    "\n",
    "    # Fit second level model\n",
    "    second_level_model.fit(second_level_input, design_matrix=design_matrix)\n",
    "\n",
    "    # Calculalte second level stat map\n",
    "    stat_map_2nd = second_level_model.compute_contrast(\n",
    "        second_level_contrast=second_level_contrast,\n",
    "        output_type='z_score')\n",
    "    \n",
    "    stat_map_2nd_fname = f'statmap-2nd_effect-{effect_name}'\n",
    "    nib.save(stat_map_2nd, os.path.join(path_out, stat_map_2nd_fname))"
   ]
  }
 ],
 "metadata": {
  "kernelspec": {
   "display_name": "Python 3",
   "language": "python",
   "name": "python3"
  },
  "language_info": {
   "codemirror_mode": {
    "name": "ipython",
    "version": 3
   },
   "file_extension": ".py",
   "mimetype": "text/x-python",
   "name": "python",
   "nbconvert_exporter": "python",
   "pygments_lexer": "ipython3",
   "version": "3.8.3"
  }
 },
 "nbformat": 4,
 "nbformat_minor": 4
}
