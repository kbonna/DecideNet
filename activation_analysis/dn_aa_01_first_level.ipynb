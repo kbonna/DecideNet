{
 "cells": [
  {
   "cell_type": "markdown",
   "metadata": {},
   "source": [
    "# TODO \n",
    "- wrap and document plot_later()\n",
    "- add full range of regressors\n",
    "- run whole first level analysis\n",
    "- add proper markdown description"
   ]
  },
  {
   "cell_type": "code",
   "execution_count": 17,
   "metadata": {},
   "outputs": [],
   "source": [
    "import sys\n",
    "import os\n",
    "import matplotlib.pyplot as plt\n",
    "import pandas as pd\n",
    "import numpy as np\n",
    "\n",
    "sys.path.append('/home/kmb/Desktop/Neuroscience/Projects/BONNA_decide_net/code')\n",
    "from dn_utils.behavioral_models import load_behavioral_data                    \n",
    "from dn_utils.glm_utils import Regressor, my_make_first_level_design_matrix\n",
    "\n",
    "import nibabel as nib\n",
    "from bids import BIDSLayout\n",
    "from nilearn.plotting import plot_stat_map, plot_anat, plot_img, show\n",
    "from nistats.first_level_model import FirstLevelModel\n",
    "from nistats.reporting import plot_design_matrix\n",
    "from nistats.thresholding import map_threshold\n",
    "from nistats.design_matrix import make_first_level_design_matrix"
   ]
  },
  {
   "cell_type": "code",
   "execution_count": 22,
   "metadata": {},
   "outputs": [],
   "source": [
    "def plot_later():\n",
    "    # (optional) Display first-level results in the brain space\n",
    "    _, threshold = map_threshold(\n",
    "        z_map, \n",
    "        level=.05, \n",
    "        height_control='fpr')\n",
    "\n",
    "    plot_stat_map(\n",
    "        z_map, \n",
    "        bg_img=anat_img,\n",
    "        threshold=3,\n",
    "        display_mode='z')"
   ]
  },
  {
   "cell_type": "markdown",
   "metadata": {},
   "source": [
    "### Load task onsets\n",
    "\n",
    "Load behavioral data containg relevant task onsets. "
   ]
  },
  {
   "cell_type": "code",
   "execution_count": 3,
   "metadata": {},
   "outputs": [
    {
     "name": "stdout",
     "output_type": "stream",
     "text": [
      "Shape of beh array: (32, 2, 110, 21)\n",
      "Conditions [(0, 'rew'), (1, 'pun')]\n",
      "Columns: [(0, 'block'), (1, 'rwd'), (2, 'magn_left'), (3, 'magn_right'), (4, 'response'), (5, 'rt'), (6, 'won_bool'), (7, 'won_magn'), (8, 'acc_after_trial'), (9, 'onset_iti'), (10, 'onset_iti_plan'), (11, 'onset_iti_glob'), (12, 'onset_dec'), (13, 'onset_dec_plan'), (14, 'onset_dec_glob'), (15, 'onset_isi'), (16, 'onset_isi_plan'), (17, 'onset_isi_glob'), (18, 'onset_out'), (19, 'onset_out_plan'), (20, 'onset_out_glob')]\n"
     ]
    }
   ],
   "source": [
    "beh_dir = \"/home/kmb/Desktop/Neuroscience/Projects/BONNA_decide_net/\" \\\n",
    "          \"data/main_fmri_study/sourcedata/behavioral\"\n",
    "beh, meta = load_behavioral_data(root=beh_dir)\n",
    "n_subjects, n_conditions, n_trials, _ = beh.shape"
   ]
  },
  {
   "cell_type": "markdown",
   "metadata": {},
   "source": [
    "### Query neuroimaging dataset (path extraction)\n",
    "\n",
    "Using BIDSLayout object query BIDS dataset to pull out necessary files.\n",
    "- `anat_files`: sorted list of preprocessed T1w images\n",
    "- `fmri_files`: list of two lists containing sorted (by subject number) paths to imaging files, first list corresponds to reward condition of PRL task and second list corresponds to punishment condition of PRL task\n",
    "- `conf_files`: list of two lists containing sorted (by subject number) paths to confound files\n",
    "- `mask_files`: brain mask files for fmri sequencnes"
   ]
  },
  {
   "cell_type": "code",
   "execution_count": 6,
   "metadata": {},
   "outputs": [],
   "source": [
    "bids_dir = \"/home/kmb/Desktop/Neuroscience/Projects/BONNA_decide_net/data/main_fmri_study\"\n",
    "\n",
    "layout = BIDSLayout(\n",
    "    root=bids_dir,\n",
    "    derivatives=True,\n",
    "    validate=True,\n",
    "    index_metadata=False\n",
    ")\n",
    "\n",
    "anat_filter = {\n",
    "    \"extension\": [\".nii.gz\"],\n",
    "    \"space\": \"MNI152NLin2009cAsym\",\n",
    "    \"suffix\": \"T1w\",\n",
    "    \"desc\": \"preproc\",\n",
    "    \"return_type\": \"filename\"\n",
    "}\n",
    "\n",
    "fmri_filter = {\n",
    "    \"extension\": [\".nii\", \".nii.gz\"],\n",
    "    \"space\": \"MNI152NLin2009cAsym\",\n",
    "    \"suffix\": \"bold\",\n",
    "    \"desc\": \"preproc\",\n",
    "    \"return_type\": \"filename\"\n",
    "}\n",
    "\n",
    "conf_filter = {\n",
    "    \"extension\": \"tsv\",\n",
    "    \"desc\": \"confounds\",\n",
    "    \"return_type\": \"filename\"\n",
    "}\n",
    "\n",
    "mask_filter = {\n",
    "    \"extension\": [\".nii.gz\"],\n",
    "    \"space\": \"MNI152NLin2009cAsym\",\n",
    "    \"desc\": \"brain\",\n",
    "    \"suffix\": \"mask\",\n",
    "    \"return_type\": \"filename\"\n",
    "}\n",
    "\n",
    "anat_files = layout.get(**anat_filter)\n",
    "\n",
    "fmri_files, conf_files, mask_files = [], [], []\n",
    "\n",
    "for task_dict in [{\"task\": \"prlrew\"}, {\"task\": \"prlpun\"}]:\n",
    "    fmri_filter.update(task_dict)\n",
    "    conf_filter.update(task_dict)\n",
    "    mask_filter.update(task_dict)\n",
    "    fmri_files.append(layout.get(**fmri_filter))\n",
    "    conf_files.append(layout.get(**conf_filter))\n",
    "    mask_files.append(layout.get(**mask_filter))\n",
    "    \n",
    "# Load model-based regresssor(s)\n",
    "epw_regressors = np.load('data/epw_regressors.npy')\n",
    "erew_regressors = np.load('data/erew_regressors.npy')\n",
    "pe_regressors = np.load('data/pe_regressors.npy')"
   ]
  },
  {
   "cell_type": "markdown",
   "metadata": {},
   "source": [
    "### Single subject analysis\n",
    "\n",
    "Here, first level GLM analysis is performed for each subject. For each imaging sequence following steps are applied:\n",
    "1. relevant files are loaded: anatomical, functional, brain mask for functional file\n",
    "2. `events` DataFrame containing left and right button presses (and misses) events is created. Event onset is assumed to be decision phase onset shifted by response time of participant. Button press events are modeled as zero-duration impulses\n",
    "3. `confounds` dataframe is loaded and filtered. Included confounds are: six motion parameters and first five a_comp_cor regressors\n",
    "4. glm model is evaluated (beta estimates for all regressors)\n",
    "5. contrast of interest is defined. Here, contrast of interest, `left_minus_right`, is the difference between left button press and right button press events.\n",
    "6. statistical t-map is calculated for defined contrast and saved under BIDS-like name in `bids_dir/derivatives/nistats/buttonpress` directory"
   ]
  },
  {
   "cell_type": "code",
   "execution_count": 18,
   "metadata": {},
   "outputs": [],
   "source": [
    "# Root folder for storing output nistats derivatives\n",
    "out_root = \"/home/kmb/Desktop/Neuroscience/Projects/BONNA_decide_net/data/\"\\\n",
    "           \"main_fmri_study/derivatives/nistats\"\n",
    "\n",
    "# Directiories for different contrasts \n",
    "# TODO: remove it later\n",
    "out_dir_btn = os.path.join(out_root, \"buttonpress\")\n",
    "out_dir_pesign = os.path.join(out_root, \"pesign\")\n",
    "out_dir_pefull = os.path.join(out_root, \"pefull\")\n",
    "out_dir_pesurp = os.path.join(out_root, \"pesurp\")\n",
    "out_dir_epw = os.path.join(out_root, \"epw\")\n",
    "out_dir_erew = os.path.join(out_root, \"erew\")\n",
    "\n",
    "# Specify GLM\n",
    "fmri_glm = FirstLevelModel(\n",
    "    t_r=2,\n",
    "    noise_model='ar1',\n",
    "    drift_model='cosine',\n",
    "    period_cut=128,\n",
    "    standardize=False,\n",
    "    hrf_model='spm',\n",
    "    smoothing_fwhm=6)\n",
    "\n",
    "# Filtering confounds\n",
    "confounds_relevant = ['a_comp_cor_00', 'a_comp_cor_01', 'a_comp_cor_02', \n",
    "                      'a_comp_cor_03', 'a_comp_cor_04', 'trans_x', 'trans_y', \n",
    "                      'trans_z', 'rot_x', 'rot_y', 'rot_z']\n",
    "\n",
    "# Times of image acquisition in seconds\n",
    "n_scans, t_r = 730, 2\n",
    "frame_times = np.arange(n_scans) * t_r"
   ]
  },
  {
   "cell_type": "code",
   "execution_count": null,
   "metadata": {},
   "outputs": [],
   "source": [
    "for sub_idx in range(n_subjects):\n",
    "\n",
    "    for con_idx in range(n_conditions):\n",
    "\n",
    "        # Load subject data\n",
    "        anat_img = nib.load(anat_files[sub_idx])\n",
    "        fmri_img = nib.load(fmri_files[con_idx][sub_idx])\n",
    "        fmri_glm.mask = nib.load(mask_files[0][0])\n",
    "        confounds = pd.read_csv(conf_files[con_idx][sub_idx], sep='\\t')\n",
    "        confounds = confounds[confounds_relevant]\n",
    "        confounds.index = frame_times # Standard time representation (in seconds)\n",
    "\n",
    "        # Setup events\n",
    "        resp_type = beh[sub_idx, con_idx, :, meta['dim4'].index('response')]\n",
    "        onset_dec_phase = beh[sub_idx, con_idx, :, meta['dim4'].index('onset_dec')] \n",
    "        onset_dec = beh[sub_idx, con_idx, :, meta['dim4'].index('onset_dec')] + \\\n",
    "                    beh[sub_idx, con_idx, :, meta['dim4'].index('rt')]\n",
    "        onset_out = beh[sub_idx, con_idx, :, meta['dim4'].index('onset_out')]\n",
    "\n",
    "        pe_regressor = pe_regressors[sub_idx, con_idx, resp_type != 0]\n",
    "        epw_regressor = epw_regressors[sub_idx, con_idx, resp_type != 0]\n",
    "        erew_regressor = erew_regressors[sub_idx, con_idx, resp_type != 0]\n",
    "\n",
    "        #---> choice phase regressors\n",
    "        reg_lbp = Regressor('lbp', frame_times, onset_dec[resp_type==-1])\n",
    "        reg_rbp = Regressor('rbp', frame_times, onset_dec[resp_type==1])\n",
    "        reg_miss = Regressor('miss', frame_times, onset_dec[resp_type==0])\n",
    "        reg_epw = Regressor(\n",
    "            'epw', \n",
    "            frame_times, \n",
    "            onset_dec_phase[resp_type != 0],\n",
    "            duration=beh[sub_idx, con_idx, resp_type != 0, meta['dim4'].index('rt')],\n",
    "            modulation=epw_regressor\n",
    "        )\n",
    "        reg_erew = Regressor(\n",
    "            'erew', \n",
    "            frame_times, \n",
    "            onset_dec_phase[resp_type != 0],\n",
    "            duration=beh[sub_idx, con_idx, resp_type != 0, meta['dim4'].index('rt')],\n",
    "            modulation=erew_regressor\n",
    "        )\n",
    "\n",
    "        #---> outcome phase regressors\n",
    "        reg_pe_full = Regressor(\n",
    "            'pe_full', frame_times, onset_out[resp_type != 0], \n",
    "            modulation=pe_regressor\n",
    "        )\n",
    "        reg_pe_sign = Regressor(\n",
    "            'pe_sign', frame_times, onset_out[resp_type != 0],\n",
    "            modulation=np.sign(pe_regressor)\n",
    "        )\n",
    "        reg_pe_surp = Regressor(\n",
    "            'pe_surp', frame_times, onset_out[resp_type != 0], \n",
    "            modulation=np.abs(pe_regressor)\n",
    "        )\n",
    "        reg_pe_miss = Regressor(\n",
    "            'pe_miss', frame_times, onset_out[resp_type == 0]\n",
    "        )\n",
    "\n",
    "        ############################################################################\n",
    "        ############### paste rest of the code from below cells here ###############\n",
    "        ############################################################################"
   ]
  },
  {
   "cell_type": "markdown",
   "metadata": {},
   "source": [
    "### Expected probability of winning"
   ]
  },
  {
   "cell_type": "code",
   "execution_count": 24,
   "metadata": {},
   "outputs": [],
   "source": [
    "dm, conditions = my_make_first_level_design_matrix(\n",
    "    [reg_lbp, reg_rbp, reg_epw], confounds)\n",
    "\n",
    "# Fit GLM\n",
    "fmri_glm = fmri_glm.fit(fmri_img, design_matrices=dm)\n",
    "\n",
    "# Define contrast\n",
    "conditions['epw']\n",
    "\n",
    "# Compute statistical map and save it\n",
    "z_map = fmri_glm.compute_contrast(\n",
    "    conditions['epw'],\n",
    "    stat_type='t')\n",
    "\n",
    "z_map_fname = f\"sub-{meta['dim1'][sub_idx]}_\" + \\\n",
    "              f\"task-prl{meta['dim2'][con_idx]}_desc-epw_tmap\"\n",
    "# nib.save(z_map, os.path.join(out_dir_epw, z_map_fname))"
   ]
  },
  {
   "cell_type": "markdown",
   "metadata": {},
   "source": [
    "### Button press contrast"
   ]
  },
  {
   "cell_type": "code",
   "execution_count": null,
   "metadata": {},
   "outputs": [],
   "source": [
    "dm, conditions = my_make_first_level_design_matrix(\n",
    "    [reg_lbp, reg_rbp, reg_miss], confounds)\n",
    "\n",
    "# Fit GLM\n",
    "fmri_glm = fmri_glm.fit(fmri_img, design_matrices=dm)\n",
    "\n",
    "# Define contrast\n",
    "left_minus_right = conditions['lbp'] - conditions['rbp']\n",
    "\n",
    "# Compute statistical map and save it\n",
    "z_map = fmri_glm.compute_contrast(\n",
    "    left_minus_right,\n",
    "    stat_type='t')\n",
    "\n",
    "z_map_fname = f\"sub-{meta['dim1'][sub_idx]}_\" + \\\n",
    "              f\"task-prl{meta['dim2'][con_idx]}_desc-buttonpress_tmap\"\n",
    "# nib.save(z_map, os.path.join(out_dir_btn, z_map_fname))"
   ]
  },
  {
   "cell_type": "markdown",
   "metadata": {},
   "source": [
    "### Full prediction error"
   ]
  },
  {
   "cell_type": "code",
   "execution_count": null,
   "metadata": {},
   "outputs": [],
   "source": [
    "dm, conditions = my_make_first_level_design_matrix(\n",
    "    [reg_lbp, reg_rbp, reg_miss, reg_pe_full, reg_pe_miss],\n",
    "    confounds\n",
    ")\n",
    "\n",
    "# Fit GLM\n",
    "fmri_glm = fmri_glm.fit(fmri_img, design_matrices=dm)\n",
    "\n",
    "# Compute statistical map and save it\n",
    "z_map = fmri_glm.compute_contrast(\n",
    "    conditions['pe_full'],\n",
    "    stat_type='t')\n",
    "\n",
    "z_map_fname = f\"sub-{meta['dim1'][sub_idx]}_\" + \\\n",
    "              f\"task-prl{meta['dim2'][con_idx]}_desc-pefull_tmap\"\n",
    "# nib.save(z_map, os.path.join(out_dir_pefull, z_map_fname))"
   ]
  },
  {
   "cell_type": "markdown",
   "metadata": {},
   "source": [
    "### Prediction error sign"
   ]
  },
  {
   "cell_type": "code",
   "execution_count": null,
   "metadata": {},
   "outputs": [],
   "source": [
    "dm, conditions = my_make_first_level_design_matrix(\n",
    "    [reg_lbp, reg_rbp, reg_miss, reg_pe_sgn, reg_pe_miss],\n",
    "    confounds\n",
    ")\n",
    "\n",
    "# Fit GLM\n",
    "fmri_glm = fmri_glm.fit(fmri_img, design_matrices=dm)\n",
    "\n",
    "# Compute statistical map and save it\n",
    "z_map = fmri_glm.compute_contrast(\n",
    "    conditions['pe_sgn'],\n",
    "    stat_type='t')\n",
    "\n",
    "z_map_fname = f\"sub-{meta['dim1'][sub_idx]}_\" + \\\n",
    "              f\"task-prl{meta['dim2'][con_idx]}_desc-pesign_tmap\"\n",
    "# nib.save(z_map, os.path.join(out_dir_pesign, z_map_fname))"
   ]
  },
  {
   "cell_type": "markdown",
   "metadata": {},
   "source": [
    "### Prediction error absolute value (surprise)"
   ]
  },
  {
   "cell_type": "code",
   "execution_count": null,
   "metadata": {},
   "outputs": [],
   "source": [
    "dm, conditions = my_make_first_level_design_matrix(\n",
    "    [reg_lbp, reg_rbp, reg_miss, reg_pe_sur, reg_pe_miss],\n",
    "    confounds\n",
    ")\n",
    "\n",
    "# Fit GLM\n",
    "fmri_glm = fmri_glm.fit(fmri_img, design_matrices=dm)\n",
    "\n",
    "# Define contrast\n",
    "conditions['pe_sur']\n",
    "\n",
    "# Compute statistical map and save it\n",
    "z_map = fmri_glm.compute_contrast(\n",
    "    conditions['pe_sur'],\n",
    "    stat_type='t')\n",
    "\n",
    "z_map_fname = f\"sub-{meta['dim1'][sub_idx]}_\" + \\\n",
    "              f\"task-prl{meta['dim2'][con_idx]}_desc-pesurp_tmap\"\n",
    "# nib.save(z_map, os.path.join(out_dir_pesurp, z_map_fname))"
   ]
  },
  {
   "cell_type": "markdown",
   "metadata": {},
   "source": [
    "## Explore correlation between regressors"
   ]
  },
  {
   "cell_type": "code",
   "execution_count": 15,
   "metadata": {},
   "outputs": [],
   "source": [
    "# Calculate correlation between expected probability of winning and expected value\n",
    "reg_corr = np.zeros((n_subjects, n_conditions))\n",
    "\n",
    "for sub_idx in range(n_subjects):\n",
    "    for con_idx in range(n_conditions):\n",
    "\n",
    "        # Load decision phase regressors\n",
    "        onset_dec = beh[sub_idx, con_idx, :, meta['dim4'].index('onset_dec')] + \\\n",
    "            beh[sub_idx, con_idx, :, meta['dim4'].index('rt')]\n",
    "        resp_type = beh[sub_idx, con_idx, :, meta['dim4'].index('response')]\n",
    "        epw_regressor = epw_regressors[sub_idx, con_idx, resp_type != 0]\n",
    "        erew_regressor = erew_regressors[sub_idx, con_idx, resp_type != 0]\n",
    "        \n",
    "        # Grab correlation between decision phase regressors\n",
    "        reg_epw = Regressor('epw', frame_times, onset_dec[resp_type!=0], \n",
    "                            modulation=epw_regressor)\n",
    "        reg_erew = Regressor('erew', frame_times, onset_dec[resp_type!=0],\n",
    "                             modulation=erew_regressor)\n",
    "        reg_corr[sub_idx, con_idx] = Regressor.corrcoef(reg_epw, reg_erew)"
   ]
  }
 ],
 "metadata": {
  "kernelspec": {
   "display_name": "Python 3",
   "language": "python",
   "name": "python3"
  },
  "language_info": {
   "codemirror_mode": {
    "name": "ipython",
    "version": 3
   },
   "file_extension": ".py",
   "mimetype": "text/x-python",
   "name": "python",
   "nbconvert_exporter": "python",
   "pygments_lexer": "ipython3",
   "version": "3.7.4"
  }
 },
 "nbformat": 4,
 "nbformat_minor": 4
}
