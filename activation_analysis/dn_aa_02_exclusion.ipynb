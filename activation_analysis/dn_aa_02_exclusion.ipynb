{
 "cells": [
  {
   "cell_type": "markdown",
   "metadata": {},
   "source": [
    "## Data Quality Assurance (QA)\n",
    "\n",
    "This script identify bad quality data (e.g. with motion artifacts) and returns vector specifying which subject can be included in second-level analysis. Script features:\n",
    "- identifies high motion subjects\n",
    "- returns vector specifying final sample with high quality data\n",
    "\n",
    "---\n",
    "**Last update**: 17.02.2020 "
   ]
  },
  {
   "cell_type": "code",
   "execution_count": null,
   "metadata": {},
   "outputs": [],
   "source": [
    "import os\n",
    "import pandas as pd\n",
    "import numpy as np\n",
    "\n",
    "from bids import BIDSLayout\n",
    "\n",
    "path_root = os.environ.get('DECIDENET_PATH')\n",
    "path_code = os.path.join(path_root, 'code')\n",
    "if path_code not in sys.path:\n",
    "    sys.path.append(path_code)\n",
    "from dn_utils.behavioral_models import load_behavioral_data "
   ]
  },
  {
   "cell_type": "code",
   "execution_count": null,
   "metadata": {},
   "outputs": [],
   "source": [
    "# Directory to save exclusion table\n",
    "path_out = os.path.join(path_root, \n",
    "                        'data/main_fmri_study/derivatives/nistats/exclusion')\n",
    "os.makedirs(path_out, exist_ok=True)\n",
    "\n",
    "# Load behavioral data\n",
    "path_beh = os.path.join(path_root, 'data/main_fmri_study/sourcedata/behavioral')\n",
    "beh, meta = load_behavioral_data(path=path_beh)\n",
    "n_subjects, n_conditions, n_trials, _ = beh.shape"
   ]
  },
  {
   "cell_type": "code",
   "execution_count": null,
   "metadata": {},
   "outputs": [],
   "source": [
    "path_bids = os.path.join(path_root, 'data/main_fmri_study')\n",
    "\n",
    "layout = BIDSLayout(\n",
    "    root=path_bids,\n",
    "    derivatives=True,\n",
    "    index_metadata=False\n",
    ")\n",
    "\n",
    "conf_filter = {\n",
    "    \"extension\": \"tsv\",\n",
    "    \"desc\": \"confounds\",\n",
    "    \"return_type\": \"filename\"\n",
    "}\n",
    "\n",
    "conf_files = []\n",
    "\n",
    "for task_dict in [{\"task\": \"prlrew\"}, {\"task\": \"prlpun\"}]:\n",
    "    conf_filter.update(task_dict)\n",
    "    conf_files.append(layout.get(**conf_filter))"
   ]
  },
  {
   "cell_type": "code",
   "execution_count": null,
   "metadata": {},
   "outputs": [],
   "source": [
    "fd_stats = np.zeros((n_subjects, n_conditions, 3))\n",
    "\n",
    "for sub in range(n_subjects):\n",
    "    for con in range(n_conditions):\n",
    "\n",
    "        df = pd.read_csv(conf_files[con][sub], sep='\\t')\n",
    "\n",
    "        fd_mean = df['framewise_displacement'].mean()\n",
    "        fd_max = df['framewise_displacement'].max()\n",
    "        fd_gt05 = (df['framewise_displacement'] > 0.5).sum()\n",
    "        \n",
    "        fd_stats[sub, con, :] = [fd_mean, fd_max, fd_gt05]"
   ]
  },
  {
   "cell_type": "markdown",
   "metadata": {},
   "source": [
    "### Additional excluded subjects\n",
    "- `sub-m19`: flipped response grips\n",
    "- `sub-m32`: failed realignment in prlpun (TODO)"
   ]
  }
 ],
 "metadata": {
  "kernelspec": {
   "display_name": "Python 3",
   "language": "python",
   "name": "python3"
  },
  "language_info": {
   "codemirror_mode": {
    "name": "ipython",
    "version": 3
   },
   "file_extension": ".py",
   "mimetype": "text/x-python",
   "name": "python",
   "nbconvert_exporter": "python",
   "pygments_lexer": "ipython3",
   "version": "3.8.1"
  }
 },
 "nbformat": 4,
 "nbformat_minor": 4
}
