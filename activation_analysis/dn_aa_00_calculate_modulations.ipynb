{
 "cells": [
  {
   "cell_type": "markdown",
   "metadata": {},
   "source": [
    "## Calculating trial-wise parametric modulations\n",
    "\n",
    "This script calculates values of model variables like value estimation or prediction error for each trial. Script features:\n",
    "- loads point estimations of model parameters (e.g. learning rates)\n",
    "- calculates trial-wise estimates of different model tracking variables (e.g. prediction error)\n",
    "- saves these parametric modulations to file\n",
    "\n",
    "(*Note*) Usually subjects are trying to minimize overal prediction error. Here it is not precisely the case, because sometimes subject pick probabilistically worse option to maximize their winnings.\n",
    "\n",
    "---\n",
    "**Last update**: 07.02.2020 "
   ]
  },
  {
   "cell_type": "code",
   "execution_count": null,
   "metadata": {},
   "outputs": [],
   "source": [
    "import matplotlib.pyplot as plt\n",
    "import numpy as np\n",
    "import sys\n",
    "import os\n",
    "\n",
    "path_root = os.environ.get('DECIDENET_PATH')\n",
    "path_code = os.path.join(path_root, 'code')\n",
    "if path_code not in sys.path:\n",
    "    sys.path.append(path_code)\n",
    "\n",
    "from dn_utils.behavioral_models import (load_behavioral_data, \n",
    "    estimate_wbci_pd, estimate_modulation)\n",
    "from dn_utils.plotting import plot_trial_modulation"
   ]
  },
  {
   "cell_type": "code",
   "execution_count": null,
   "metadata": {},
   "outputs": [],
   "source": [
    "# Directory to save modulations\n",
    "path_out = os.path.join(path_root, 'data/main_fmri_study/derivatives/nistats/modulations')\n",
    "os.makedirs(path_out, exist_ok=True)\n",
    "\n",
    "# Load behavioral data\n",
    "path_beh = os.path.join(path_root, 'data/main_fmri_study/sourcedata/behavioral')\n",
    "beh, meta = load_behavioral_data(path_beh)\n",
    "n_subjects, n_conditions, n_trials, _ = beh.shape\n",
    "\n",
    "# Load point estimates for learning rates\n",
    "path_param = os.path.join(path_code, 'behavioral_analysis/matjags-dn/data/' + \\\n",
    "                                     'subjects_point_estimates/alpha_pdci_mle.npy')\n",
    "alpha_pdci_mle = np.load(path_param)"
   ]
  },
  {
   "cell_type": "markdown",
   "metadata": {},
   "source": [
    "### Calculate and save parametric modulations.\n",
    "Here parametric modulations reflecting three relevant model variables are calculated:\n",
    "- `modulations_wcor`: parametric modulation during choice phase reflecting estimated probability of choosing correct (winning / not loosing) box\n",
    "- `modulations_exvl`: parametric modulation during choice phase reflecting Pascalian expected value\n",
    "- `modulations_perr`: parametric modulation during outcome phase reflecting prediction error on box probability \n",
    "    - equals `1 - wcor` for correct anwers\n",
    "    - equals `0 - wcor` for incorrect answers"
   ]
  },
  {
   "cell_type": "code",
   "execution_count": null,
   "metadata": {},
   "outputs": [],
   "source": [
    "modulations_wcor = np.zeros((n_subjects, n_conditions, n_trials))\n",
    "modulations_exvl = np.zeros((n_subjects, n_conditions, n_trials))\n",
    "modulations_perr = np.zeros((n_subjects, n_conditions, n_trials))\n",
    "\n",
    "for sub in range(n_subjects):\n",
    "    for con in range(n_conditions):\n",
    "        \n",
    "        wbci = estimate_wbci_pd(\n",
    "            beh, meta, sub, con,\n",
    "            alpha_plus=alpha_pdci_mle[sub, 0], \n",
    "            alpha_minus=alpha_pdci_mle[sub, 1]\n",
    "        )\n",
    "        \n",
    "        wcor, exvl, perr = estimate_modulation(beh, meta, sub, con, wbci)\n",
    "        \n",
    "        modulations_wcor[sub, con, :] = wcor\n",
    "        modulations_exvl[sub, con, :] = exvl\n",
    "        modulations_perr[sub, con, :] = perr\n",
    "\n",
    "np.save(os.path.join(path_out,'modulations_wcor'), modulations_wcor)\n",
    "np.save(os.path.join(path_out,'modulations_exvl'), modulations_exvl)\n",
    "np.save(os.path.join(path_out,'modulations_perr'), modulations_perr)"
   ]
  },
  {
   "cell_type": "code",
   "execution_count": null,
   "metadata": {},
   "outputs": [],
   "source": [
    "# Plot example regressors\n",
    "sub, con = 1, 0\n",
    "\n",
    "plot_trial_modulation(beh, meta, sub, con, modulations_perr[sub, con, :])\n",
    "plot_trial_modulation(beh, meta, sub, con, modulations_wcor[sub, con, :])\n",
    "plot_trial_modulation(beh, meta, sub, con, modulations_exvl[sub, con, :])"
   ]
  }
 ],
 "metadata": {
  "kernelspec": {
   "display_name": "Python 3",
   "language": "python",
   "name": "python3"
  },
  "language_info": {
   "codemirror_mode": {
    "name": "ipython",
    "version": 3
   },
   "file_extension": ".py",
   "mimetype": "text/x-python",
   "name": "python",
   "nbconvert_exporter": "python",
   "pygments_lexer": "ipython3",
   "version": "3.8.1"
  }
 },
 "nbformat": 4,
 "nbformat_minor": 4
}
