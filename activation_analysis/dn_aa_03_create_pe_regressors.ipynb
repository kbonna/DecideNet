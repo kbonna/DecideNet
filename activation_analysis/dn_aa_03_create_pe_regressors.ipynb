{
 "cells": [
  {
   "cell_type": "code",
   "execution_count": 11,
   "metadata": {},
   "outputs": [],
   "source": [
    "import matplotlib.pyplot as plt\n",
    "import numpy as np\n",
    "import sys\n",
    "\n",
    "sys.path.append('./../../code/')\n",
    "from dn_utils.behavioral_models import (load_behavioral_data, \n",
    "    estimate_values_pd, estimate_pred_err)"
   ]
  },
  {
   "cell_type": "markdown",
   "metadata": {},
   "source": [
    "### Observation\n",
    "Usually subjects are trying to minimize overal prediction error. Here it is not precisely the case, because sometimes subject pick probabilistically worse option to maximize their winnings."
   ]
  },
  {
   "cell_type": "code",
   "execution_count": 18,
   "metadata": {},
   "outputs": [
    {
     "name": "stdout",
     "output_type": "stream",
     "text": [
      "Shape of beh array: (32, 2, 110, 21)\n",
      "Conditions [(0, 'rew'), (1, 'pun')]\n",
      "Columns: [(0, 'block'), (1, 'rwd'), (2, 'magn_left'), (3, 'magn_right'), (4, 'response'), (5, 'rt'), (6, 'won_bool'), (7, 'won_magn'), (8, 'acc_after_trial'), (9, 'onset_iti'), (10, 'onset_iti_plan'), (11, 'onset_iti_glob'), (12, 'onset_dec'), (13, 'onset_dec_plan'), (14, 'onset_dec_glob'), (15, 'onset_isi'), (16, 'onset_isi_plan'), (17, 'onset_isi_glob'), (18, 'onset_out'), (19, 'onset_out_plan'), (20, 'onset_out_glob')]\n"
     ]
    }
   ],
   "source": [
    "# Load data\n",
    "beh_path = '/home/kmb/Desktop/Neuroscience/Projects/BONNA_decide_net/' \\\n",
    "           'data/main_fmri_study/sourcedata/behavioral'\n",
    "param_path = '/home/kmb/Desktop/Neuroscience/Projects/BONNA_decide_net/' \\\n",
    "             'code/behavioral_analysis/matjags-dn/data/alpha_pd_mle.npy'\n",
    "\n",
    "beh, meta = load_behavioral_data(beh_path)\n",
    "alpha_pd_mle = np.load(param_path)\n",
    "\n",
    "n_subjects = len(meta['dim1'])\n",
    "n_conditions = len(meta['dim2'])\n",
    "n_trials = len(meta['dim3'])"
   ]
  },
  {
   "cell_type": "markdown",
   "metadata": {},
   "source": [
    "### Calculate and save PE regressors."
   ]
  },
  {
   "cell_type": "code",
   "execution_count": 27,
   "metadata": {},
   "outputs": [],
   "source": [
    "pe_regressors = np.zeros((n_subjects, n_conditions, n_trials))\n",
    "\n",
    "for sub in range(n_subject):\n",
    "    \n",
    "    for con in range(n_conditions):\n",
    "        \n",
    "        val = estimate_values_pd(\n",
    "            beh, meta, sub, con,\n",
    "            alpha_plus=alpha_pd_mle[sub, con, 0], \n",
    "            alpha_minus=alpha_pd_mle[sub, con, 1]\n",
    "        )\n",
    "        pe_regressors[sub, con, :] = estimate_pred_err(\n",
    "            beh, meta, sub, con, val\n",
    "        )\n",
    "        \n",
    "np.save('data/pe_regressors', pe_regressors)"
   ]
  }
 ],
 "metadata": {
  "kernelspec": {
   "display_name": "Python 3",
   "language": "python",
   "name": "python3"
  },
  "language_info": {
   "codemirror_mode": {
    "name": "ipython",
    "version": 3
   },
   "file_extension": ".py",
   "mimetype": "text/x-python",
   "name": "python",
   "nbconvert_exporter": "python",
   "pygments_lexer": "ipython3",
   "version": "3.7.3"
  }
 },
 "nbformat": 4,
 "nbformat_minor": 4
}
