{
 "cells": [
  {
   "cell_type": "markdown",
   "metadata": {},
   "source": [
    "### Deface"
   ]
  },
  {
   "cell_type": "code",
   "execution_count": 3,
   "metadata": {},
   "outputs": [],
   "source": [
    "import os\n",
    "\n",
    "bids_path = '/home/connectomics/Pulpit/mounted_data/BONNA_decide_net/data/main_fmri_study'\n",
    "\n",
    "# Find files\n",
    "t1w_files = []\n",
    "\n",
    "for dirpath, dirnames, filenames in os.walk(bids_path):\n",
    "    for filename in filenames:\n",
    "        if ('T1w.nii' in filename) and (bids_path + '/sub' in os.path.join(dirpath, filename)):\n",
    "            t1w_files.append(os.path.join(dirpath, filename))\n",
    "\n",
    "with open('t1w_files.txt', 'w') as f:\n",
    "    for file in t1w_files:\n",
    "        f.write(\"%s\\n\" % file)"
   ]
  },
  {
   "cell_type": "markdown",
   "metadata": {},
   "source": [
    "Run bash script using following syntax:\n",
    "\n",
    "```\n",
    "./deface.sh $(< t1w_files.txt)\n",
    "```"
   ]
  },
  {
   "cell_type": "markdown",
   "metadata": {},
   "source": [
    "```bash\n",
    "#!/bin/bash\n",
    "for file in $1\n",
    "do\n",
    "    echo $file\n",
    "    pydeface $file\n",
    "done\n",
    "```"
   ]
  },
  {
   "cell_type": "markdown",
   "metadata": {},
   "source": [
    "Delete not-defaced files and rename"
   ]
  },
  {
   "cell_type": "code",
   "execution_count": 5,
   "metadata": {},
   "outputs": [
    {
     "data": {
      "text/plain": [
       "Ellipsis"
      ]
     },
     "execution_count": 5,
     "metadata": {},
     "output_type": "execute_result"
    }
   ],
   "source": [
    "..."
   ]
  }
 ],
 "metadata": {
  "kernelspec": {
   "display_name": "Python 3",
   "language": "python",
   "name": "python3"
  },
  "language_info": {
   "codemirror_mode": {
    "name": "ipython",
    "version": 3
   },
   "file_extension": ".py",
   "mimetype": "text/x-python",
   "name": "python",
   "nbconvert_exporter": "python",
   "pygments_lexer": "ipython3",
   "version": "3.6.5"
  }
 },
 "nbformat": 4,
 "nbformat_minor": 2
}
