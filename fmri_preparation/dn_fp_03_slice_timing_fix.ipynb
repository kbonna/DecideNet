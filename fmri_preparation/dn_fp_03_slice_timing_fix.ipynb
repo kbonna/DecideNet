{
 "cells": [
  {
   "cell_type": "code",
   "execution_count": 37,
   "metadata": {},
   "outputs": [],
   "source": [
    "import json\n",
    "import os"
   ]
  },
  {
   "cell_type": "markdown",
   "metadata": {},
   "source": [
    "### Fix slice-timing .json field for entire dataset"
   ]
  },
  {
   "cell_type": "code",
   "execution_count": null,
   "metadata": {},
   "outputs": [],
   "source": [
    "# Specify path to BIDS dataset\n",
    "bids_path = '/home/kmb/Desktop/Neuroscience/Projects/BONNA_decide_net/' \\\n",
    "            'data/pilot_fmri_study_60hz'"
   ]
  },
  {
   "cell_type": "code",
   "execution_count": 38,
   "metadata": {},
   "outputs": [
    {
     "name": "stdout",
     "output_type": "stream",
     "text": [
      "Correct file: /home/kmb/Desktop/Neuroscience/Projects/BONNA_decide_net/data/pilot_fmri_study_60hz/sub-p01/func/sub-p01_task-prlrew_bold.json\n",
      "Correct file: /home/kmb/Desktop/Neuroscience/Projects/BONNA_decide_net/data/pilot_fmri_study_60hz/sub-p01/func/sub-p01_task-prlpun_bold.json\n"
     ]
    }
   ],
   "source": [
    "def fix_json(fname):\n",
    "    '''This function fixes slice timing field in json files.'''\n",
    "    \n",
    "    flag = False\n",
    "    with open(fname, \"r\") as read_file:\n",
    "        data = json.load(read_file)\n",
    "\n",
    "    if max(data['SliceTiming']) < 1: # Ensure that fixing is needed\n",
    "        \n",
    "        flag = True \n",
    "        data['SliceTiming'] = [time * 10000 for time in data['SliceTiming']]\n",
    "\n",
    "        with open(fname, \"w\") as write_file:\n",
    "            json.dump(data, write_file, \n",
    "                      sort_keys=True, \n",
    "                      indent=4, \n",
    "                      separators=(',', ': ')\n",
    "                     )\n",
    "    return flag\n",
    "\n",
    "# Get all subject \n",
    "sub_folders = [folder for folder in os.listdir(bids_path) if 'sub' in folder]\n",
    "\n",
    "for sub_folder in sub_folders:\n",
    "    \n",
    "    func_path = os.path.join(bids_path, sub_folder, 'func')\n",
    "    jsns = [fname for fname in os.listdir(func_path) if 'bold.json' in fname]\n",
    "    \n",
    "    for jsn in jsns:\n",
    "\n",
    "        flag = fix_json(os.path.join(func_path, jsn))\n",
    "        if flag:\n",
    "            print('Fixed file: {}'.format(os.path.join(func_path, jsn)))\n",
    "        else:\n",
    "            print('Correct file: {}'.format(os.path.join(func_path, jsn)))"
   ]
  }
 ],
 "metadata": {
  "kernelspec": {
   "display_name": "Python 3",
   "language": "python",
   "name": "python3"
  },
  "language_info": {
   "codemirror_mode": {
    "name": "ipython",
    "version": 3
   },
   "file_extension": ".py",
   "mimetype": "text/x-python",
   "name": "python",
   "nbconvert_exporter": "python",
   "pygments_lexer": "ipython3",
   "version": "3.7.1"
  }
 },
 "nbformat": 4,
 "nbformat_minor": 2
}
