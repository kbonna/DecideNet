{
 "cells": [
  {
   "cell_type": "markdown",
   "metadata": {},
   "source": [
    "### BIDS conversion: creation of desired folder structure, file move and cleanup. "
   ]
  },
  {
   "cell_type": "code",
   "execution_count": 97,
   "metadata": {},
   "outputs": [],
   "source": [
    "import os\n",
    "import json\n",
    "import datetime"
   ]
  },
  {
   "cell_type": "code",
   "execution_count": 118,
   "metadata": {},
   "outputs": [],
   "source": [
    "bids_path = \"/home/connectomics/Pulpit/mounted_data/BONNA_decide_net/data/main_fmri_study\"\n",
    "nii_path = \"/home/connectomics/Pulpit/mounted_data/BONNA_decide_net/data/main_fmri_study_nii\"\n",
    "n_subjects = 33\n",
    "\n",
    "t1w_name = \"Ax_3D_T1FSPGR_BRAVO_new\"\n",
    "task_rew_name = \"fmri_prl_rew\"\n",
    "task_pun_name = \"fmri_prl_pun\"\n",
    "\n",
    "t1w_bids_suffix = \"T1w\" \n",
    "task_rew_bids_suffix = \"task-prlrew_bold\"\n",
    "task_pun_bids_suffix = \"task-prlpun_bold\""
   ]
  },
  {
   "cell_type": "markdown",
   "metadata": {},
   "source": [
    "List all available neuroimaging files. After running look at `img_files` and resolve manually potential conflicts: missing files, duplicates, naming problems. Missing files and duplicates will be detected by the script and printed to the console."
   ]
  },
  {
   "cell_type": "code",
   "execution_count": 42,
   "metadata": {},
   "outputs": [],
   "source": [
    "# Store all filenames\n",
    "img_files = {}\n",
    "\n",
    "for subject_i in range(1, n_subjects+1):\n",
    "    \n",
    "    subject_id = f\"m{subject_i:02}\"\n",
    "    subject_files = [file for file in os.listdir(nii_path) if subject_id in file]\n",
    "    \n",
    "    if subject_files: \n",
    "        \n",
    "        t1_files = [file for file in subject_files if t1w_name in file]\n",
    "        fmri_rew_files = [file for file in subject_files if task_rew_name in file]\n",
    "        fmri_pun_files = [file for file in subject_files if task_pun_name in file]\n",
    "\n",
    "        # Create dictionary entry\n",
    "        img_files[subject_id] = {\n",
    "            't1w_files': t1_files,\n",
    "            'fmri_rew_files': fmri_rew_files,\n",
    "            'fmri_pun_files': fmri_pun_files,\n",
    "            'all_files': subject_files\n",
    "        }\n",
    "        \n",
    "for subject_key in img_files:\n",
    "    if len(img_files[subject_key]['t1w_files']) != 2:\n",
    "        print(f\"Incorrect number of t1w files for subject {subject_key}\")\n",
    "    if len(img_files[subject_key]['fmri_rew_files']) != 2:\n",
    "        print(f\"Incorrect number of fmri files (reward) for subject {subject_key}\")\n",
    "    if len(img_files[subject_key]['fmri_pun_files']) != 2:\n",
    "        print(f\"Incorrect number of fmri files (punishment) for subject {subject_key}\")\n",
    "        \n",
    "subjects = list(img_files.keys())"
   ]
  },
  {
   "cell_type": "markdown",
   "metadata": {},
   "source": [
    "Create basic folder structure"
   ]
  },
  {
   "cell_type": "code",
   "execution_count": 37,
   "metadata": {},
   "outputs": [],
   "source": [
    "def mkdir_protected(path: str):\n",
    "    '''Creates directory if it doesn't exist'''\n",
    "    if not os.path.exists(path):\n",
    "        os.mkdir(path)\n",
    "    else:\n",
    "        print(f'{path} already exists')"
   ]
  },
  {
   "cell_type": "code",
   "execution_count": null,
   "metadata": {},
   "outputs": [],
   "source": [
    "for folder in ['derivatives', 'code', 'sourcedata']:\n",
    "    mkdir_protected(os.path.join(bids_path, folder))\n",
    "\n",
    "for subject in subjects:\n",
    "    \n",
    "    subject_path = os.path.join(bids_path, f'sub-{subject}')\n",
    "    img_files[subject]['subject_path'] = subject_path\n",
    "    mkdir_protected(subject_path)\n",
    "    \n",
    "    for folder in ['func', 'anat']:\n",
    "        \n",
    "        subject_inner_folder = os.path.join(subject_path, folder) \n",
    "        mkdir_protected(subject_inner_folder)\n",
    "        img_files[subject][f\"subject_path_{folder}\"] = subject_inner_folder "
   ]
  },
  {
   "cell_type": "markdown",
   "metadata": {},
   "source": [
    "Create additional entries to `img_files` dictionary:\n",
    "\n",
    "- `t1w_bids_name`: proper name of T1 file acording (BIDS compliant)\n",
    "- ..."
   ]
  },
  {
   "cell_type": "code",
   "execution_count": 119,
   "metadata": {},
   "outputs": [],
   "source": [
    "for subject in subjects:\n",
    "    \n",
    "    # Bids names\n",
    "    img_files[subject][\"t1w_bids_name\"] = f\"sub-{subject}_{t1w_bids_suffix}\"\n",
    "    img_files[subject][\"task_rew_bids_name\"] = f\"sub-{subject}_{task_rew_bids_suffix}\"\n",
    "    img_files[subject][\"task_pun_bids_name\"] = f\"sub-{subject}_{task_pun_bids_suffix}\"\n",
    "    \n",
    "    # Original names\n",
    "    img_files[subject][\"t1w_orig_name\"] = f\"{t1w_name}_{subject}\"\n",
    "    img_files[subject][\"task_rew_orig_name\"] = f\"{task_rew_name}_{subject}\"\n",
    "    img_files[subject][\"task_pun_orig_name\"] = f\"{task_pun_name}_{subject}\""
   ]
  },
  {
   "cell_type": "markdown",
   "metadata": {},
   "source": [
    "Move and rename imaging sequences."
   ]
  },
  {
   "cell_type": "code",
   "execution_count": 89,
   "metadata": {},
   "outputs": [],
   "source": [
    "for subject in subjects:\n",
    "  \n",
    "    # T1w file\n",
    "    for file in img_files[subject][\"t1w_files\"]:\n",
    "        \n",
    "        extension = os.path.splitext(file)[1]\n",
    "        if extension == \".gz\": extension = \".nii.gz\"\n",
    "        \n",
    "        oldname = os.path.join(\n",
    "            nii_path, \n",
    "            file\n",
    "        ) \n",
    "        newname = os.path.join(\n",
    "            img_files[subject][\"subject_path_anat\"], \n",
    "            img_files[subject][\"t1w_bids_name\"] + extension\n",
    "        ) \n",
    "        \n",
    "        try:    os.rename(oldname, newname)\n",
    "        except: print(f\"file {oldname} not found!\")\n",
    "            \n",
    "    # EPI files\n",
    "    for condition in [\"rew\", \"pun\"]:\n",
    "        \n",
    "        for file in img_files[subject][f\"fmri_{condition}_files\"]:\n",
    "            \n",
    "            extension = os.path.splitext(file)[1]\n",
    "            if extension == \".gz\": extension = \".nii.gz\"\n",
    "                \n",
    "            oldname = os.path.join(\n",
    "                nii_path, \n",
    "                file\n",
    "            ) \n",
    "            newname = os.path.join(\n",
    "                img_files[subject][\"subject_path_func\"], \n",
    "                img_files[subject][f\"task_{condition}_bids_name\"] + extension\n",
    "            ) \n",
    "            \n",
    "            try:    os.rename(oldname, newname)\n",
    "            except: print(f\"file {oldname} not found!\")"
   ]
  },
  {
   "cell_type": "markdown",
   "metadata": {},
   "source": [
    "Save metadata"
   ]
  },
  {
   "cell_type": "code",
   "execution_count": 94,
   "metadata": {},
   "outputs": [],
   "source": [
    "def add_meta(path: str, data: dict):\n",
    "    '''Check if meta exists, and if not saves data as .json file.'''\n",
    "    if not os.path.exists(path):\n",
    "        if type(data) not in [dict, str]:\n",
    "            raise TypeError('data should be either dict or str')   \n",
    "        with open(path, 'w') as f:\n",
    "            if type(data) is dict:\n",
    "                json.dump(data, f, indent= 4)\n",
    "            if type(data) is str:\n",
    "                f.write(data)\n",
    "    else:\n",
    "        print(f'{path} already exists')"
   ]
  },
  {
   "cell_type": "code",
   "execution_count": 121,
   "metadata": {},
   "outputs": [],
   "source": [
    "add_meta(os.path.join(bids_path, \"derivatives\", \"img_files\"), img_files)"
   ]
  },
  {
   "cell_type": "markdown",
   "metadata": {},
   "source": [
    "### Add metadata files\n",
    "    - dataset_description.json\n",
    "    - README\n",
    "    - CHANGES\n",
    "    - task-prlrew_bold.json\n",
    "    - task-prlpun_bold.json"
   ]
  },
  {
   "cell_type": "code",
   "execution_count": 96,
   "metadata": {},
   "outputs": [],
   "source": [
    "dataset_description = {\n",
    "    'Name': 'DecideNet Main fMRI Study',\n",
    "    'BIDSVersion': '1.2.0',\n",
    "    'Authors': ['Kamil Bonna', 'Karolina Finc', 'Jaromir Patyk']\n",
    "}\n",
    "\n",
    "dataset_description_path = os.path.join(bids_path, 'dataset_description.json')\n",
    "add_meta(dataset_description_path, dataset_description)"
   ]
  },
  {
   "cell_type": "code",
   "execution_count": 99,
   "metadata": {},
   "outputs": [],
   "source": [
    "readme = '''# Project\n",
    "\n",
    "This BIDS folder contains data from main fMRI study in DecideNet project.'''\n",
    "readme_path = os.path.join(bids_path, 'README')\n",
    "add_meta(readme_path, readme)\n",
    "\n",
    "changes = f'''\n",
    "1.0.0 {str(datetime.date.today())}\n",
    "    - initial release\n",
    "'''\n",
    "changes_path = os.path.join(bids_path, 'CHANGES')\n",
    "add_meta(changes_path, changes)"
   ]
  },
  {
   "cell_type": "code",
   "execution_count": 107,
   "metadata": {},
   "outputs": [],
   "source": [
    "for condition in [\"rew\", \"pun\"]:\n",
    "\n",
    "    if condition == \"rew\":   condition_full = \"reward\"\n",
    "    elif condition == \"pun\": condition_full = \"punishment\"\n",
    "\n",
    "    task_dict = {\n",
    "        \"TaskName\": f\"Probabilistic Reversal Learning ({condition_full} condition)\",\n",
    "        \"RepetitionTime\": 2,\n",
    "        \"EchoTime\": 0.03,\n",
    "        \"InstitutionName\": \"Nicolaus Copernicus University in Torun\"\n",
    "    }\n",
    "\n",
    "    task_meta_path = os.path.join(bids_path, f\"task-prl{condition}_bold.json\")\n",
    "    add_meta(task_meta_path, task_dict)"
   ]
  },
  {
   "cell_type": "markdown",
   "metadata": {},
   "source": [
    "### Fix values in .PhaseEncodingDirection field in json sidecar for functional files\n",
    "    - value \"j?\" should be changed to \"j-\""
   ]
  },
  {
   "cell_type": "code",
   "execution_count": 122,
   "metadata": {},
   "outputs": [],
   "source": [
    "for subject in subjects:\n",
    "    for file in os.listdir(os.path.join(bids_path, 'sub-'+subject, 'func')):\n",
    "        if '.json' in file:\n",
    "            \n",
    "            fname_full = os.path.join(bids_path, 'sub-'+subject, 'func', file)\n",
    "            \n",
    "            with open(fname_full, 'r') as f:\n",
    "                data = json.load(f)\n",
    "\n",
    "            os.remove(fname_full)\n",
    "            if data['PhaseEncodingDirection'] == 'j?':\n",
    "                data['PhaseEncodingDirection'] = 'j-' # Apply fix\n",
    "            \n",
    "            with open(fname_full, 'w') as f:\n",
    "                json.dump(data, f, indent= 4)"
   ]
  }
 ],
 "metadata": {
  "kernelspec": {
   "display_name": "Python 3",
   "language": "python",
   "name": "python3"
  },
  "language_info": {
   "codemirror_mode": {
    "name": "ipython",
    "version": 3
   },
   "file_extension": ".py",
   "mimetype": "text/x-python",
   "name": "python",
   "nbconvert_exporter": "python",
   "pygments_lexer": "ipython3",
   "version": "3.6.5"
  }
 },
 "nbformat": 4,
 "nbformat_minor": 2
}
