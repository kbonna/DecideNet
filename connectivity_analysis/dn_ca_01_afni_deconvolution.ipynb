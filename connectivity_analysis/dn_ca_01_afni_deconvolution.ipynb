{
 "cells": [
  {
   "cell_type": "code",
   "execution_count": 1,
   "metadata": {},
   "outputs": [],
   "source": [
    "%matplotlib inline\n",
    "import matplotlib.pyplot as plt\n",
    "import pandas as pd\n",
    "import numpy as np\n",
    "import os\n",
    "import subprocess\n",
    "\n",
    "import scipy.signal\n",
    "from nistats import hemodynamic_models\n",
    "from sklearn.preprocessing import normalize\n",
    "\n",
    "path_root = os.environ.get('DECIDENET_PATH')\n",
    "path_code = os.path.join(path_root, 'code')\n",
    "if path_code not in sys.path:\n",
    "    sys.path.append(path_code)"
   ]
  },
  {
   "cell_type": "code",
   "execution_count": 2,
   "metadata": {},
   "outputs": [],
   "source": [
    "# Directory for PPI analysis\n",
    "path_out = os.path.join(path_root, \n",
    "                        'data/main_fmri_study/derivatives/ppi')\n",
    "os.makedirs(path_out, exist_ok=True)\n",
    "\n",
    "# Timeseries directory\n",
    "path_timeries = os.path.join(path_out, 'timeseries')\n",
    "\n",
    "# Load timeseries\n",
    "time_series_all = np.load(os.path.join(path_timeries, 'time_series_clean_all.npy'))\n",
    "\n",
    "n_volumes, t_r = 730, 2"
   ]
  },
  {
   "cell_type": "markdown",
   "metadata": {},
   "source": [
    "### Sample and store hemodynamic response function"
   ]
  },
  {
   "cell_type": "code",
   "execution_count": 3,
   "metadata": {},
   "outputs": [
    {
     "name": "stdout",
     "output_type": "stream",
     "text": [
      "HRF samples counts: 13\n"
     ]
    }
   ],
   "source": [
    "hrf_duration = 26\n",
    "\n",
    "hrf_spm = hemodynamic_models.spm_hrf(\n",
    "    t_r, \n",
    "    oversampling=1, \n",
    "    time_length=hrf_duration, \n",
    "    onset=0.0\n",
    "    )\n",
    "hrf_glover = hemodynamic_models.glover_hrf(\n",
    "    t_r, \n",
    "    oversampling=1,\n",
    "    time_length=hrf_duration, \n",
    "    onset=0.0\n",
    "    )\n",
    "\n",
    "pd.Series(hrf_spm).to_csv(os.path.join(path_timeries, 'spmHRF.1D'), index=False, header=False)\n",
    "pd.Series(hrf_glover).to_csv(os.path.join(path_timeries, 'gloverHRF.1D'), index=False, header=False)\n",
    "\n",
    "print(f'HRF samples counts: {len(hrf_spm)}')"
   ]
  },
  {
   "cell_type": "code",
   "execution_count": 4,
   "metadata": {},
   "outputs": [
    {
     "data": {
      "image/png": "[encoded data removed]",
      "text/plain": [
       "<Figure size 576x216 with 1 Axes>"
      ]
     },
     "metadata": {},
     "output_type": "display_data"
    }
   ],
   "source": [
    "fig, ax = plt.subplots(figsize=(8, 3), facecolor='w')\n",
    "\n",
    "x_vals = np.arange(0, hrf_duration, t_r) \n",
    "\n",
    "ax.plot(x_vals, hrf_spm, 'o-', color='r', label='SPM HRF')\n",
    "ax.plot(x_vals, hrf_glover, 'o-', color='maroon', label='Glover HRF')\n",
    "\n",
    "ax.set_xlabel('Time [s]')\n",
    "ax.legend()\n",
    "plt.show()"
   ]
  },
  {
   "cell_type": "markdown",
   "metadata": {},
   "source": [
    "### Deconvolve"
   ]
  },
  {
   "cell_type": "code",
   "execution_count": null,
   "metadata": {},
   "outputs": [],
   "source": [
    "### Inputs #########################################################################################\n",
    "path_hrf = os.path.join(path_timeries, 'afni_hrf/spmHRF.1D')\n",
    "ts = time_series_all[0, 0, :, 0]\n",
    "\n",
    "### Function #######################################################################################\n",
    "ts_fname, ts_neural_fname = 'ts.1D', 'ts_neural.1D'\n",
    "pd.Series(ts).to_csv(ts_fname, index=False, header=False)\n",
    "\n",
    "# Deconvolve\n",
    "cmd = f'3dTfitter -RHS {ts_fname} -FALTUNG {path_hrf} {ts_neural_fname} 012 0'\n",
    "subprocess.run(cmd, shell=True)\n",
    "\n",
    "ts_neural = np.loadtxt(ts_neural_fname)\n",
    "\n",
    "os.remove(ts_fname)\n",
    "os.remove(ts_neural_fname)"
   ]
  },
  {
   "cell_type": "code",
   "execution_count": null,
   "metadata": {},
   "outputs": [],
   "source": [
    "normalize_1d = lambda x: normalize(x[:,np.newaxis], axis=0).ravel()\n",
    "\n",
    "fig, ax = plt.subplots(figsize=(15, 3), facecolor='w')\n",
    "\n",
    "ax.plot(np.arange(0, 300, 2), normalize_1d(ts[:150]), 'r', label='BOLD')\n",
    "ax.plot(np.arange(0, 300, 2), normalize_1d(ts_neural[:150]), 'b', label='neural')\n",
    "\n",
    "ax.set_xlabel('Time [s]')\n",
    "ax.set_ylabel('a.u.')\n",
    "\n",
    "ax.legend()"
   ]
  },
  {
   "cell_type": "code",
   "execution_count": null,
   "metadata": {},
   "outputs": [],
   "source": [
    "spm_hrf_matrix = np.zeros((n_volumes, n_volumes))\n",
    "\n",
    "for vol in range(n_volumes):\n",
    "    spm_hrf_matrix[:, vol] = hemodynamic_models.spm_hrf(\n",
    "        t_r, \n",
    "        oversampling=1, \n",
    "        time_length=t_r*n_volumes, \n",
    "        onset=float(vol*t_r)\n",
    "    )\n",
    "    \n",
    "spm_hrf_matrix = np.nan_to_num(spm_hrf_matrix)\n",
    "    \n",
    "plt.imshow(spm_hrf_matrix[:30,:30], cmap='gray')\n",
    "plt.colorbar()\n",
    "plt.show()"
   ]
  },
  {
   "cell_type": "code",
   "execution_count": null,
   "metadata": {},
   "outputs": [],
   "source": [
    "neural_condition = np.zeros((3, n_volumes))\n",
    "frame_times = np.arange(0, n_volumes*t_r, t_r)\n",
    "\n",
    "for vol, amplitude in enumerate(ts_neural):\n",
    "    neural_condition[:, vol] = (vol * t_r, 0, amplitude)\n",
    "    \n",
    "ts_recreated_upsampled = hemodynamic_models.compute_regressor(\n",
    "    neural_condition, \n",
    "    'spm', \n",
    "    frame_times,\n",
    "    oversampling=50, \n",
    "    fir_delays=None)[0].ravel()\n",
    "\n",
    "ts_recreated = spm_hrf_matrix.dot(ts_neural)"
   ]
  },
  {
   "cell_type": "code",
   "execution_count": null,
   "metadata": {},
   "outputs": [],
   "source": [
    "fig, ax = plt.subplots(figsize=(15, 3), facecolor='w')\n",
    "\n",
    "ax.plot(np.arange(0, 300, 2), normalize_1d(ts[:150]), 'r', label='BOLD')\n",
    "ax.plot(np.arange(0, 300, 2), normalize_1d(ts_recreated_upsampled[:150]), 'g', label='BOLD regenerated')\n",
    "\n",
    "ax.set_xlabel('Time [s]')\n",
    "ax.set_ylabel('a.u.')\n",
    "\n",
    "ax.legend()\n",
    "plt.show()"
   ]
  }
 ],
 "metadata": {
  "kernelspec": {
   "display_name": "Python 3.8 64-bit ('decidenet': conda)",
   "language": "python",
   "name": "decidenet"
  },
  "language_info": {
   "codemirror_mode": {
    "name": "ipython",
    "version": 3
   },
   "file_extension": ".py",
   "mimetype": "text/x-python",
   "name": "python",
   "nbconvert_exporter": "python",
   "pygments_lexer": "ipython3",
   "version": "3.8.1"
  }
 },
 "nbformat": 4,
 "nbformat_minor": 4
}
