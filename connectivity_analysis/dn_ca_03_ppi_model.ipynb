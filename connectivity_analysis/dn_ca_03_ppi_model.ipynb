{
 "cells": [
  {
   "cell_type": "markdown",
   "metadata": {},
   "source": [
    "## PPI General Linear Model"
   ]
  },
  {
   "cell_type": "code",
   "execution_count": null,
   "metadata": {},
   "outputs": [],
   "source": [
    "%matplotlib inline\n",
    "import matplotlib.pyplot as plt\n",
    "import statsmodels as sm\n",
    "import pandas as pd\n",
    "import numpy as np\n",
    "import os\n",
    "\n",
    "from bids import BIDSLayout\n",
    "from scipy import io\n",
    "\n",
    "path_root = os.environ.get('DECIDENET_PATH')\n",
    "path_code = os.path.join(path_root, 'code')\n",
    "if path_code not in sys.path:\n",
    "    sys.path.append(path_code)\n",
    "from dn_utils.behavioral_models import load_behavioral_data\n",
    "from dn_utils.glm_utils import convolve, Regressor"
   ]
  },
  {
   "cell_type": "code",
   "execution_count": null,
   "metadata": {},
   "outputs": [],
   "source": [
    "# Directory for PPI analysis\n",
    "path_out = os.path.join(path_root, 'data/main_fmri_study/derivatives/ppi')\n",
    "path_timeries = os.path.join(path_out, 'timeseries')\n",
    "\n",
    "# Load behavioral data\n",
    "path_beh = os.path.join(path_root, 'data/main_fmri_study/sourcedata/behavioral')\n",
    "beh, meta = load_behavioral_data(path=path_beh, verbose=True)\n",
    "n_subjects, n_conditions, n_trials, _ = beh.shape\n",
    "n_volumes = 730\n",
    "t_r = 2\n",
    "\n",
    "# Load trial modulations\n",
    "path_modulations = os.path.join(path_root, 'data/main_fmri_study/derivatives/nistats/modulations')\n",
    "modulations_perr = np.load(os.path.join(path_modulations, 'modulations_perr.npy'))\n",
    "\n",
    "# Load neural & BOLD timeseries\n",
    "data = io.loadmat(os.path.join(path_timeries, 'time_series_neural_all.mat'))\n",
    "time_series_neural_all = data['time_series_neural_all']\n",
    "time_series_clean_all = np.load(os.path.join(path_timeries, 'time_series_clean_all.npy'))\n",
    "downsamples = data['k'].flatten()"
   ]
  },
  {
   "cell_type": "code",
   "execution_count": null,
   "metadata": {},
   "outputs": [],
   "source": [
    "sub = 0\n",
    "con = 0\n",
    "\n",
    "idx_seed = 0\n",
    "idx_target = 1"
   ]
  },
  {
   "cell_type": "markdown",
   "metadata": {},
   "source": [
    "#### Create design matrix"
   ]
  },
  {
   "cell_type": "code",
   "execution_count": null,
   "metadata": {},
   "outputs": [],
   "source": [
    "def upsampled_events(onsets, n_volumes, duration, t_r, sampling_rate=1/16):\n",
    "    '''...'''\n",
    "    n_frames_per_event = int(duration / (t_r * sampling_rate))\n",
    "    frame_times_up = np.arange(0, n_volumes*t_r, t_r*sampling_rate)\n",
    "    ts_event_up = np.zeros(frame_times_up.shape)\n",
    "\n",
    "    for event in onsets:\n",
    "        first_frame = np.argmax(frame_times_up > event)\n",
    "        ts_event_up[range(first_frame, first_frame + n_frames_per_event)] = 1\n",
    "        \n",
    "    return ts_event_up - ts_event_up.mean()"
   ]
  },
  {
   "cell_type": "code",
   "execution_count": null,
   "metadata": {},
   "outputs": [],
   "source": [
    "sampling_rate = 1/16\n",
    "onset_out = beh[sub, con, :, meta['dim4'].index('onset_out')]\n",
    "frame_times = np.arange(n_volumes) * t_r\n",
    "\n",
    "y = time_series_clean_all[sub, con, :, idx_target]\n",
    "\n",
    "reg_physio = time_series_clean_all[sub, con, :, idx_seed]\n",
    "reg_psycho = Regressor(\n",
    "    name='prediction error', \n",
    "    frame_times=frame_times,\n",
    "    duration=np.ones(n_trials) * t_r,\n",
    "    onset=onset_out,\n",
    "    modulation=modulations_perr[sub, con]\n",
    ").dm_column\n",
    "\n",
    "ts_neural_up = time_series_neural_all[sub, con, :, idx_seed]\n",
    "ts_event_up = upsampled_events(onset_out, n_volumes=n_volumes, duration=t_r, t_r=t_r)\n",
    "ts_ppi_up = ts_neural_up * ts_event_up\n",
    "\n",
    "reg_ppi = convolve(ts_ppi_up, t_r=t_r*sampling_rate)[downsamples]"
   ]
  }
 ],
 "metadata": {
  "kernelspec": {
   "display_name": "Python 3.8 64-bit ('decidenet': conda)",
   "language": "python",
   "name": "decidenet"
  },
  "language_info": {
   "codemirror_mode": {
    "name": "ipython",
    "version": 3
   },
   "file_extension": ".py",
   "mimetype": "text/x-python",
   "name": "python",
   "nbconvert_exporter": "python",
   "pygments_lexer": "ipython3",
   "version": "3.8.1"
  }
 },
 "nbformat": 4,
 "nbformat_minor": 4
}
