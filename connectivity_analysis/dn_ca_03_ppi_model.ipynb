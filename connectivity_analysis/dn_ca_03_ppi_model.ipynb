{
 "cells": [
  {
   "cell_type": "markdown",
   "metadata": {},
   "source": [
    "## PPI General Linear Model"
   ]
  },
  {
   "cell_type": "code",
   "execution_count": 1,
   "metadata": {},
   "outputs": [],
   "source": [
    "%matplotlib inline\n",
    "from IPython.display import clear_output\n",
    "import matplotlib.pyplot as plt\n",
    "import statsmodels.regression.linear_model as sm\n",
    "import pandas as pd\n",
    "import numpy as np\n",
    "import os\n",
    "\n",
    "from bids import BIDSLayout\n",
    "from scipy import io\n",
    "from scipy.stats import zscore\n",
    "\n",
    "path_root = os.environ.get('DECIDENET_PATH')\n",
    "path_code = os.path.join(path_root, 'code')\n",
    "if path_code not in sys.path:\n",
    "    sys.path.append(path_code)\n",
    "from dn_utils.behavioral_models import load_behavioral_data\n",
    "from dn_utils.glm_utils import convolve, Regressor"
   ]
  },
  {
   "cell_type": "code",
   "execution_count": 2,
   "metadata": {},
   "outputs": [
    {
     "name": "stdout",
     "output_type": "stream",
     "text": [
      "Shape of beh array: (32, 2, 110, 23)\n",
      "Conditions [(0, 'rew'), (1, 'pun')]\n",
      "Columns: [(0, 'block'), (1, 'block_bci'), (2, 'side'), (3, 'side_bci'), (4, 'magn_left'), (5, 'magn_right'), (6, 'response'), (7, 'rt'), (8, 'won_bool'), (9, 'won_magn'), (10, 'acc_after_trial'), (11, 'onset_iti'), (12, 'onset_iti_plan'), (13, 'onset_iti_glob'), (14, 'onset_dec'), (15, 'onset_dec_plan'), (16, 'onset_dec_glob'), (17, 'onset_isi'), (18, 'onset_isi_plan'), (19, 'onset_isi_glob'), (20, 'onset_out'), (21, 'onset_out_plan'), (22, 'onset_out_glob')]\n"
     ]
    }
   ],
   "source": [
    "# Directory for PPI analysis\n",
    "path_out = os.path.join(path_root, 'data/main_fmri_study/derivatives/ppi')\n",
    "path_networks = os.path.join(path_out, 'networks')\n",
    "path_timeries = os.path.join(path_out, 'timeseries')\n",
    "\n",
    "# Load behavioral data\n",
    "path_beh = os.path.join(path_root, 'data/main_fmri_study/sourcedata/behavioral')\n",
    "beh, meta = load_behavioral_data(path=path_beh, verbose=True)\n",
    "n_subjects, n_conditions, n_trials, _ = beh.shape\n",
    "n_volumes = 730\n",
    "n_roi = 300\n",
    "t_r = 2\n",
    "\n",
    "# Load trial modulations\n",
    "path_modulations = os.path.join(path_root, 'data/main_fmri_study/derivatives/nistats/modulations')\n",
    "modulations_perr = np.load(os.path.join(path_modulations, 'modulations_perr.npy'))\n",
    "\n",
    "# Load neural & BOLD timeseries\n",
    "data = io.loadmat(os.path.join(path_timeries, 'time_series_neural_all.mat'))\n",
    "time_series_neural_all = data['time_series_neural_all']\n",
    "time_series_clean_all = np.load(os.path.join(path_timeries, 'time_series_clean_all.npy'))\n",
    "downsamples = data['k'].flatten()"
   ]
  },
  {
   "cell_type": "markdown",
   "metadata": {},
   "source": [
    "#### Create design matrix"
   ]
  },
  {
   "cell_type": "code",
   "execution_count": 3,
   "metadata": {},
   "outputs": [],
   "source": [
    "def upsampled_events(onsets, n_volumes, duration, t_r, modulation=None, sampling_rate=1/16):\n",
    "    '''...'''\n",
    "    if modulation is None:\n",
    "        modulation = np.ones((len(onsets), ))\n",
    "    \n",
    "    n_frames_per_event = int(duration / (t_r * sampling_rate))\n",
    "    frame_times_up = np.arange(0, n_volumes*t_r, t_r*sampling_rate)\n",
    "    ts_event_up = np.zeros(frame_times_up.shape)\n",
    "\n",
    "    for event, amplitude in zip(onsets, modulation):\n",
    "        first_frame = np.argmax(frame_times_up > event)\n",
    "        ts_event_up[range(first_frame, first_frame + n_frames_per_event)] = amplitude\n",
    "        \n",
    "    return ts_event_up - ts_event_up.mean()"
   ]
  },
  {
   "cell_type": "code",
   "execution_count": null,
   "metadata": {},
   "outputs": [
    {
     "name": "stdout",
     "output_type": "stream",
     "text": [
      "Analyzing: m33 / pun / seed: 284\n"
     ]
    }
   ],
   "source": [
    "for sub, sub_name in enumerate(meta['dim1']):\n",
    "    for con, con_name in enumerate(meta['dim2']):\n",
    "        \n",
    "        corr_mats = np.zeros((n_roi, n_roi, 9))\n",
    "\n",
    "        # Grab task events\n",
    "        resp_type = beh[sub, con, :, meta['dim4'].index('response')]\n",
    "        onset_out = beh[sub, con, :, meta['dim4'].index('onset_out')]\n",
    "        onset_dec = beh[sub, con, :, meta['dim4'].index('onset_dec')] \n",
    "        onset_res = beh[sub, con, :, meta['dim4'].index('onset_dec')] + \\\n",
    "                    beh[sub, con, :, meta['dim4'].index('rt')]\n",
    "\n",
    "        sampling_rate = 1/16\n",
    "        event_duration = 1\n",
    "        frame_times = np.arange(n_volumes) * t_r\n",
    "\n",
    "        for idx_seed in range(n_roi):\n",
    "\n",
    "            # Physiological regressor (seed time-series)\n",
    "            reg_physio = pd.DataFrame(time_series_clean_all[sub, con, :, idx_seed],\n",
    "                                      columns=['physio'], index=frame_times)\n",
    "\n",
    "            # Psychological regressors \n",
    "            reg_perr_full = Regressor(name='perr_full', frame_times=frame_times,\n",
    "                                      duration=np.ones(n_trials) * event_duration, \n",
    "                                      onset=onset_out,\n",
    "                                      modulation=modulations_perr[sub, con]).dm_column\n",
    "            reg_perr_onset = Regressor(name='perr_ons', frame_times=frame_times,\n",
    "                                       duration=np.ones(n_trials) * event_duration, \n",
    "                                       onset=onset_out).dm_column\n",
    "\n",
    "            # PPI regressors\n",
    "            ts_neural_up = time_series_neural_all[sub, con, :, idx_seed]\n",
    "\n",
    "            ts_perr_full_up = upsampled_events(onset_out, n_volumes=n_volumes, duration=event_duration, \n",
    "                                               t_r=t_r, modulation=modulations_perr[sub, con])\n",
    "            ts_perr_onset_up = upsampled_events(onset_out, n_volumes=n_volumes, duration=event_duration, \n",
    "                                                t_r=t_r)\n",
    "            ts_ppi_perr_full_up = ts_neural_up * ts_perr_full_up\n",
    "            ts_ppi_perr_onset_up = ts_neural_up * ts_perr_onset_up\n",
    "\n",
    "            reg_ppi_perr_full = pd.DataFrame(\n",
    "                convolve(ts_ppi_perr_full_up, t_r=t_r*sampling_rate)[downsamples],\n",
    "                columns=['ppi_perr_full'],\n",
    "                index=frame_times)\n",
    "            reg_ppi_perr_onset = pd.DataFrame(\n",
    "                convolve(ts_ppi_perr_onset_up, t_r=t_r*sampling_rate)[downsamples],\n",
    "                columns=['ppi_perr_ons'], \n",
    "                index=frame_times)\n",
    "\n",
    "            # No-interest regressors\n",
    "            reg_dec_ons = Regressor('dec_ons', frame_times, onset_dec[resp_type != 0]).dm_column\n",
    "            reg_res_lbp = Regressor('res_lbp', frame_times, onset_res[resp_type==-1]).dm_column\n",
    "            reg_res_rbp = Regressor('res_rbp', frame_times, onset_res[resp_type==1]).dm_column\n",
    "            reg_res_miss = Regressor('res_miss', frame_times, onset_dec[resp_type==0] + 2).dm_column\n",
    "            if reg_res_miss.shape[1] == 0:\n",
    "                reg_res_miss = pd.DataFrame(\n",
    "                    np.zeros(n_volumes, ), \n",
    "                    index=frame_times, \n",
    "                    columns=['res_miss'])\n",
    "\n",
    "            # Create design matrix\n",
    "            regressors = [reg_physio, reg_perr_onset, reg_perr_full, \n",
    "                          reg_ppi_perr_onset, reg_ppi_perr_full,\n",
    "                          reg_dec_ons, reg_res_lbp, reg_res_rbp, reg_res_miss]\n",
    "\n",
    "            X = pd.concat([r for r in regressors], axis=1, sort=False)\n",
    "\n",
    "            clear_output()\n",
    "            print(f'Analyzing: {sub_name} / {con_name} / seed: {idx_seed}')\n",
    "            \n",
    "            for idx_target in range(n_roi):        \n",
    "\n",
    "                # Modeled response (target time-series)\n",
    "                y = pd.DataFrame(time_series_clean_all[sub, con, :, idx_target],\n",
    "                                 columns=['target'], index=frame_times)\n",
    "\n",
    "                # Fit GLM\n",
    "                model = sm.OLS(y, X, hasconst=False)\n",
    "                results = model.fit()\n",
    "\n",
    "                corr_mats[idx_target, idx_seed] = results.params\n",
    "                \n",
    "        fname = os.path.join(\n",
    "            path_networks, \n",
    "            f'sub-{sub_name}_task-{con_name}_duration-1s_corrmats.npy')\n",
    "        np.save(fname, corr_mats)"
   ]
  },
  {
   "cell_type": "code",
   "execution_count": null,
   "metadata": {},
   "outputs": [],
   "source": [
    "fig, ax = plt.subplots(figsize=(6, 6))\n",
    "plt.imshow(X.corr(), cmap='RdBu_r', clim=[-1, 1])\n",
    "plt.colorbar()\n",
    "plt.yticks(range(9), X.columns)\n",
    "plt.xticks(range(9), X.columns, rotation=90)\n",
    "plt.title('Correlation between regressors')\n",
    "plt.show()"
   ]
  }
 ],
 "metadata": {
  "kernelspec": {
   "display_name": "Python 3.8 64-bit ('decidenet': conda)",
   "language": "python",
   "name": "decidenet"
  },
  "language_info": {
   "codemirror_mode": {
    "name": "ipython",
    "version": 3
   },
   "file_extension": ".py",
   "mimetype": "text/x-python",
   "name": "python",
   "nbconvert_exporter": "python",
   "pygments_lexer": "ipython3",
   "version": "3.8.1"
  }
 },
 "nbformat": 4,
 "nbformat_minor": 4
}
