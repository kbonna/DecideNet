{
 "cells": [
  {
   "cell_type": "markdown",
   "metadata": {},
   "source": [
    "# Betaseries extraction\n",
    "\n",
    "This script combines calculated whole brain trial beta-maps with brain parcellation and extracts trial beta-series for predefined set of brain regions. This analysis step has to be conducted separately for each parcellation. `NiftiSpheresMasker` is used for signal extraction with parameters:\n",
    "- `allow_overlap=False`: ensures that parcellation has no everlapping spheres\n",
    "- `standardize=True`: z-scores signal along trials dimension\n",
    "- `detrend=False`: disable detrending since we are no longer in a time domain\n",
    "- `high_pass=None`: disable high-pass filtering\n",
    "- `low_pass=None`: disable low-pass filtering\n",
    "\n",
    "Use of brain mask can be enabled / disabled by setting `use_mask` flag. Note that due to signal dropout in orbitofrontal regions, that will likely lead to an error raised by masker (some ROIs will fall out of the mask). Therefore by default `use_mask=False`. Spheres outside of the brain mask – i.e. these without signal, will be removed in the next analysis step during network construction. \n",
    "\n",
    "Here, data from all subject and both task conditions are also aggregated into single `.npy` file for convenience. Output file is stored as:\n",
    "\n",
    "> `betaseries/<atlas_name>/betaseries_aggregated.npy`\n",
    "\n",
    "Output array has shape `n_subjects` x `n_conditions` x `n_trials` x `n_rois`. Metadata corresponding to first thee dimensions can be found in `behavioral_data_clean_all.json` file.  "
   ]
  },
  {
   "cell_type": "code",
   "execution_count": null,
   "metadata": {},
   "outputs": [],
   "source": [
    "import json\n",
    "import os\n",
    "from os.path import join\n",
    "from pathlib import Path\n",
    "\n",
    "import matplotlib.pyplot as plt\n",
    "import nibabel as nib\n",
    "import numpy as np\n",
    "import pandas as pd\n",
    "from dn_utils.behavioral_models import load_behavioral_data\n",
    "from nilearn.input_data import NiftiSpheresMasker"
   ]
  },
  {
   "cell_type": "code",
   "execution_count": null,
   "metadata": {},
   "outputs": [],
   "source": [
    "path_root = os.environ.get('DECIDENET_PATH')\n",
    "\n",
    "path_derivatives = join(path_root, 'data/main_fmri_study/derivatives') \n",
    "path_sourcedata = join(path_root, 'data/main_fmri_study/sourcedata') \n",
    "\n",
    "path_beh = join(path_sourcedata, 'behavioral')\n",
    "path_bsc = join(path_derivatives, 'bsc')\n",
    "path_parcellations = join(path_derivatives, 'parcellations')\n",
    "path_data_paths = join(path_derivatives, 'data_paths')\n",
    "\n",
    "path_betamaps = join(path_bsc, 'betamaps')\n",
    "path_betaseries = join(path_bsc, 'betaseries')\n",
    "\n",
    "Path(path_betaseries).mkdir(exist_ok=True)"
   ]
  },
  {
   "cell_type": "markdown",
   "metadata": {},
   "source": [
    "### Select brain parcellation & masker options"
   ]
  },
  {
   "cell_type": "code",
   "execution_count": null,
   "metadata": {},
   "outputs": [],
   "source": [
    "atlas = 'combined_roi'\n",
    "roi_table_fname = 'combined_roi_table.csv'\n",
    "\n",
    "# Arguments for NiftiSpheresMasker\n",
    "masker_kwargs = {\n",
    "    'allow_overlap': False, \n",
    "    'standardize': True, \n",
    "    'detrend': False, \n",
    "    'high_pass': None,\n",
    "    'low_pass': None\n",
    "}\n",
    "\n",
    "# Whether to use individual brain mask during signal extraction\n",
    "use_mask = False"
   ]
  },
  {
   "cell_type": "code",
   "execution_count": null,
   "metadata": {},
   "outputs": [],
   "source": [
    "# Load ROI data\n",
    "df_roi = pd.read_csv(join(path_parcellations, atlas, roi_table_fname))\n",
    "\n",
    "# Load behavioral data\n",
    "beh, meta = load_behavioral_data(path_beh, verbose=False)\n",
    "n_subjects = beh.shape[0]\n",
    "n_conditions = beh.shape[1]\n",
    "n_trials = beh.shape[2]\n",
    "\n",
    "# Load masks\n",
    "with open(join(path_data_paths, 'mask_filenames.json'), 'r') as f:\n",
    "    mask_files = json.loads(f.read())\n",
    "\n",
    "# Load betamats\n",
    "imgs = {'prlrew': [], 'prlpun': []}\n",
    "for con_idx, con in enumerate(meta['dim2']):\n",
    "    for sub_idx, sub in enumerate(meta['dim1']):\n",
    "        img_fname = f'sub-{sub}_task-prl{con}_betamaps.nii.gz' \n",
    "        imgs[f'prl{con}'].append(nib.load(join(path_betamaps, img_fname)))\n",
    "        \n",
    "df_roi.head()"
   ]
  },
  {
   "cell_type": "code",
   "execution_count": null,
   "metadata": {},
   "outputs": [],
   "source": [
    "n_rois = len(df_roi)\n",
    "seeds = [tuple(coords[1]) for coords in df_roi[['x', 'y', 'z']].iterrows()]\n",
    "\n",
    "maskers = {}\n",
    "\n",
    "for radius in df_roi['radius(mm)'].unique():\n",
    "    # Select ROIs with given radius\n",
    "    roi_indices = np.flatnonzero(df_roi['radius(mm)'] == radius)\n",
    "    \n",
    "    # Create masker for single radius value\n",
    "    masker = NiftiSpheresMasker(\n",
    "        [seeds[idx] for idx in roi_indices], \n",
    "        radius=radius,                \n",
    "        mask_img=None,\n",
    "        **masker_kwargs\n",
    "    )\n",
    "    \n",
    "    maskers[radius] = {'masker': masker, 'indices': roi_indices}"
   ]
  },
  {
   "cell_type": "code",
   "execution_count": null,
   "metadata": {},
   "outputs": [],
   "source": [
    "betaseries_aggregated = np.zeros((n_subjects, n_conditions, n_trials, n_rois))\n",
    "\n",
    "for sub_idx, sub in enumerate(meta['dim1']):\n",
    "    for con_idx, con in enumerate(meta['dim2']):\n",
    "        print(f'sub {sub} con {con}')\n",
    "        mask_img = nib.load(mask_files[f'prl{con}'][sub_idx])\n",
    "        beta_img = imgs[f'prl{con}'][sub_idx]\n",
    "\n",
    "        betaseries = np.zeros((n_trials, n_rois))\n",
    "\n",
    "        for radius in maskers:\n",
    "            # Get indices to insert computed timeseries into right positions\n",
    "            roi_indices = maskers[radius]['indices']\n",
    "\n",
    "            # Get right spheres masker and add right whole-brain mask \n",
    "            masker = maskers[radius]['masker']\n",
    "            \n",
    "            # Apply mask\n",
    "            if use_mask:\n",
    "                masker.mask_img = mask_img\n",
    "\n",
    "            # Extract timeseries          \n",
    "            betaseries[:, roi_indices] = masker.fit_transform(beta_img)\n",
    "                \n",
    "        betaseries_aggregated[sub_idx, con_idx] = betaseries\n",
    "        \n",
    "# Store betaseries\n",
    "Path(join(path_betaseries, atlas)).mkdir(exist_ok=True, parents=True)\n",
    "np.save(join(path_betaseries, atlas, 'betaseries_aggregated.npy'), \n",
    "        betaseries_aggregated)"
   ]
  }
 ],
 "metadata": {
  "kernelspec": {
   "display_name": "Python 3",
   "language": "python",
   "name": "python3"
  },
  "language_info": {
   "codemirror_mode": {
    "name": "ipython",
    "version": 3
   },
   "file_extension": ".py",
   "mimetype": "text/x-python",
   "name": "python",
   "nbconvert_exporter": "python",
   "pygments_lexer": "ipython3",
   "version": "3.8.3"
  }
 },
 "nbformat": 4,
 "nbformat_minor": 4
}
