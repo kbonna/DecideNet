{
 "cells": [
  {
   "cell_type": "code",
   "execution_count": 1,
   "metadata": {},
   "outputs": [
    {
     "name": "stderr",
     "output_type": "stream",
     "text": [
      "/home/kmb/Desktop/Neuroscience/Projects/BONNA_decide_net/code/dn_utils/glm_utils.py:13: FutureWarning: \n",
      "\n",
      " | Starting with Nilearn 0.7.0, all Nistats functionality has been incorporated into Nilearn's stats & reporting modules.\n",
      " | Nistats package will no longer be updated or maintained.\n",
      "\n",
      "  from nistats import design_matrix\n"
     ]
    }
   ],
   "source": [
    "import json\n",
    "import os\n",
    "from os.path import join\n",
    "from pathlib import Path\n",
    "\n",
    "import matplotlib.pyplot as plt\n",
    "import nibabel as nib\n",
    "import numpy as np\n",
    "import pandas as pd\n",
    "from dn_utils.behavioral_models import load_behavioral_data\n",
    "from dn_utils.plotting import aligned_imshow_cbar\n",
    "from nilearn.input_data import NiftiSpheresMasker\n",
    "import seaborn as sns\n",
    "\n",
    "import statsmodels.api as sm\n",
    "from statsmodels.formula.api import ols\n",
    "from dn_utils.networks import zscore_network\n",
    "\n",
    "%matplotlib inline"
   ]
  },
  {
   "cell_type": "code",
   "execution_count": 2,
   "metadata": {},
   "outputs": [],
   "source": [
    "path_root = os.environ.get('DECIDENET_PATH')\n",
    "\n",
    "path_derivatives = join(path_root, 'data/main_fmri_study/derivatives') \n",
    "path_sourcedata = join(path_root, 'data/main_fmri_study/sourcedata') \n",
    "\n",
    "path_beh = join(path_sourcedata, 'behavioral')\n",
    "path_bsc = join(path_derivatives, 'bsc')\n",
    "path_parcellations = join(path_derivatives, 'parcellations')\n",
    "path_data_paths = join(path_derivatives, 'data_paths')\n",
    "path_nistats = join(path_derivatives, 'nistats')\n",
    "\n",
    "path_betamaps = join(path_bsc, 'betamaps')\n",
    "path_betaseries = join(path_bsc, 'betaseries')\n",
    "path_exclusion_csv = join(path_nistats, 'exclusion/exclusion.csv')\n",
    "\n",
    "Path(path_betaseries).mkdir(exist_ok=True)"
   ]
  },
  {
   "cell_type": "code",
   "execution_count": 5,
   "metadata": {},
   "outputs": [],
   "source": [
    "atlas = 'meta_roi'\n",
    "\n",
    "# Load ROI data\n",
    "df_roi = pd.read_csv(join(path_parcellations, atlas, f'{atlas}_table.csv'))\n",
    "df_roi = df_roi.drop(19)\n",
    "\n",
    "n_rois = len(df_roi)\n",
    "n_perr_sign = 2\n",
    "\n",
    "# Load behavioral data\n",
    "beh, meta = load_behavioral_data(path_beh, verbose=False)\n",
    "n_subjects = beh.shape[0]\n",
    "n_conditions = beh.shape[1]\n",
    "n_trials = beh.shape[2]\n",
    "\n",
    "# Load betaseries\n",
    "betaseries_aggregated = np.load(join(path_betaseries, atlas, \n",
    "                                     'betaseries_aggregated.npy'))\n",
    "\n",
    "# Load exclusion table\n",
    "df_exclusion = pd.read_csv(path_exclusion_csv, index_col=0)\n",
    "ok_index = df_exclusion.index[df_exclusion['ok_all']]"
   ]
  },
  {
   "cell_type": "code",
   "execution_count": 13,
   "metadata": {},
   "outputs": [
    {
     "data": {
      "text/plain": [
       "<matplotlib.colorbar.Colorbar at 0x7f45d0ca4220>"
      ]
     },
     "execution_count": 13,
     "metadata": {},
     "output_type": "execute_result"
    },
    {
     "data": {
      "image/png": "[encoded data removed]",
      "text/plain": [
       "<Figure size 1440x720 with 2 Axes>"
      ]
     },
     "metadata": {
      "needs_background": "light"
     },
     "output_type": "display_data"
    }
   ],
   "source": [
    "fig, ax = plt.subplots(figsize=(20, 10))\n",
    "im = ax.imshow(betaseries_aggregated[0,0].T, aspect='auto', interpolation='none')\n",
    "plt.colorbar(im)"
   ]
  },
  {
   "cell_type": "code",
   "execution_count": null,
   "metadata": {},
   "outputs": [],
   "source": [
    "mats = np.zeros((n_subjects, n_conditions, n_perr_sign, n_rois, n_rois))\n",
    "\n",
    "for sub_idx, sub in enumerate(meta['dim1']):\n",
    "    for con_idx, con in enumerate(meta['dim2']):\n",
    "        \n",
    "        betaseries = betaseries_aggregated[sub_idx, con_idx]\n",
    "        \n",
    "        won_bool_idx = meta['dim4'].index('won_bool')\n",
    "        won_bool = beh[sub_idx, con_idx, :, won_bool_idx].astype(bool)\n",
    "        \n",
    "        # Calculate BSC networks\n",
    "        #mats[sub_idx, con_idx, 0] = zscore_network(np.corrcoef(betaseries[won_bool, :].T))\n",
    "        #mats[sub_idx, con_idx, 1] = zscore_network(np.corrcoef(betaseries[~won_bool, :].T))\n",
    "        mats[sub_idx, con_idx, 0] = np.corrcoef(betaseries[won_bool, :].T)\n",
    "        mats[sub_idx, con_idx, 1] = np.corrcoef(betaseries[~won_bool, :].T)"
   ]
  },
  {
   "cell_type": "code",
   "execution_count": null,
   "metadata": {},
   "outputs": [],
   "source": [
    "plt.imshow(mats[0,1,1], clim=[-3, 3], cmap='RdBu_r')\n",
    "plt.xticks([])\n",
    "plt.yticks([])\n",
    "plt.tight_layout()"
   ]
  },
  {
   "cell_type": "code",
   "execution_count": null,
   "metadata": {},
   "outputs": [],
   "source": [
    "mats_submean = np.mean(mats[ok_index], 0)\n",
    "\n",
    "fig, axs = plt.subplots(nrows=2, ncols=2, figsize=(10, 10))\n",
    "\n",
    "for con_idx, con in enumerate(meta['dim2']):\n",
    "    for perr_sign_idx, perr_sign in enumerate(['pos', 'neg']):\n",
    "        ax = axs[con_idx][perr_sign_idx]\n",
    "        im = ax.imshow(\n",
    "            mats_submean[con_idx, perr_sign_idx],\n",
    "            clim=(-3, 3),\n",
    "            cmap='RdBu_r',\n",
    "        )\n",
    "        ax.set_title(f'Condition {con} | PE: {perr_sign}')\n",
    "        aligned_imshow_cbar(ax, im)\n",
    "        \n",
    "plt.tight_layout()"
   ]
  },
  {
   "cell_type": "code",
   "execution_count": null,
   "metadata": {},
   "outputs": [],
   "source": [
    "nets_diff = np.zeros((n_subjects, n_conditions, 2, 2))\n",
    "mats_diff = mats[:, :, 0, :, :] - mats[:, :, 1, :, :]\n",
    "\n",
    "network_names = ['perr_inc', 'perr_dec']\n",
    "\n",
    "for i, net_i in enumerate(network_names):\n",
    "    for j, net_j in enumerate(network_names):\n",
    "        net_i_idx = df_roi[df_roi['netName'] == net_i].index\n",
    "        net_j_idx = df_roi[df_roi['netName'] == net_j].index\n",
    "        nets_diff[:, :, i, j] = np.nanmean(\n",
    "            mats_diff[:, :, net_i_idx, :][:, :, :, net_j_idx], \n",
    "            axis=(-1, -2))"
   ]
  },
  {
   "cell_type": "code",
   "execution_count": null,
   "metadata": {},
   "outputs": [],
   "source": [
    "plt.imshow(np.nanmean(mats_diff[ok_index, 0], axis=0), clim=[-1, 1], cmap='RdBu_r')\n",
    "plt.show()\n",
    "plt.imshow(np.nanmean(mats_diff[ok_index, 1], axis=0), clim=[-1, 1], cmap='RdBu_r')\n",
    "plt.show()"
   ]
  },
  {
   "cell_type": "code",
   "execution_count": null,
   "metadata": {},
   "outputs": [],
   "source": [
    "data = []\n",
    "nets_dict = {'↑pe': (0, 0), '↓pe': (1, 1)}\n",
    "\n",
    "for sub, sub_name in enumerate(df_exclusion.loc[ok_index, 'sub']):\n",
    "    for con, con_name in enumerate(meta['dim2']):\n",
    "        for net, netidx in nets_dict.items():\n",
    "            data.append(\n",
    "                [\n",
    "                    nets_diff[sub, con, netidx[0], netidx[1]],\n",
    "                    sub_name,\n",
    "                    con_name,\n",
    "                    net\n",
    "                ]\n",
    "            )\n",
    "\n",
    "df = pd.DataFrame(data, columns=['connectivity', 'sub_name', 'condition', 'net'])\n",
    "            \n",
    "# Two-way ANOVA\n",
    "model = ols('connectivity ~ C(condition) + C(net) + C(condition):C(net)', data=df).fit()\n",
    "df_anova = sm.stats.anova_lm(model, typ=2)\n",
    "\n",
    "# Figure \n",
    "fig, ax = plt.subplots(figsize=(5, 4))\n",
    "bp = sns.barplot(\n",
    "    x='condition', \n",
    "    y='connectivity', \n",
    "    hue='net',\n",
    "    data=df,\n",
    "    ax=ax,\n",
    "    palette={'↑pe': '#f49915', '↓pe': '#5E88CA', 'int': 'gray'}\n",
    ")\n",
    "plt.legend(loc='upper right')\n",
    "\n",
    "df_anova"
   ]
  }
 ],
 "metadata": {
  "kernelspec": {
   "display_name": "Python 3",
   "language": "python",
   "name": "python3"
  },
  "language_info": {
   "codemirror_mode": {
    "name": "ipython",
    "version": 3
   },
   "file_extension": ".py",
   "mimetype": "text/x-python",
   "name": "python",
   "nbconvert_exporter": "python",
   "pygments_lexer": "ipython3",
   "version": "3.8.3"
  }
 },
 "nbformat": 4,
 "nbformat_minor": 4
}
