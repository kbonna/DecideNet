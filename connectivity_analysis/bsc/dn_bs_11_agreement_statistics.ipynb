{
 "cells": [
  {
   "cell_type": "markdown",
   "id": "varied-accuracy",
   "metadata": {},
   "source": [
    "# rmANOVA on agreement values\n",
    "\n",
    "> **Analysis type**: Single γ (calculations)"
   ]
  },
  {
   "cell_type": "code",
   "execution_count": 1,
   "id": "secure-engine",
   "metadata": {},
   "outputs": [],
   "source": [
    "import json\n",
    "from itertools import combinations_with_replacement\n",
    "from os.path import join\n",
    "\n",
    "import numpy as np\n",
    "import pandas as pd\n",
    "from dn_utils.misc import tidy_data\n",
    "from dn_utils.path import path\n",
    "from statsmodels.stats.anova import AnovaRM\n",
    "from tqdm.notebook import tqdm"
   ]
  },
  {
   "cell_type": "code",
   "execution_count": 2,
   "id": "periodic-glory",
   "metadata": {},
   "outputs": [],
   "source": [
    "atlas = \"combined_roi_4and5\"\n",
    "gamma = 2"
   ]
  },
  {
   "cell_type": "code",
   "execution_count": 3,
   "id": "ordinary-london",
   "metadata": {},
   "outputs": [],
   "source": [
    "# Create additional paths\n",
    "gamma_str = str(float(gamma)).replace('.', '_')\n",
    "path_corrmats = join(path[\"bsc\"], \"corrmats\")\n",
    "path_corrmats_unthr = join(path_corrmats, atlas, \"unthr\")\n",
    "path_corrmats_unthr_gamma = join(path_corrmats_unthr, f\"gamma_{gamma_str}\")\n",
    "\n",
    "# Load subject exclusion\n",
    "df_exclusion = pd.read_csv(join(path[\"nistats\"], \"exclusion/exclusion.csv\"), \n",
    "                           index_col=0)\n",
    "ok_index = df_exclusion[\"ok_all\"]\n",
    "\n",
    "# Meta information about corrmats dimensions\n",
    "with open(join(path_corrmats, atlas, \"corrmats_aggregated.json\"), \"r\") as f:\n",
    "    corrmats_meta = json.loads(f.read()) \n",
    "\n",
    "# Load graph measures\n",
    "d = np.load(join(path_corrmats_unthr_gamma, \"d_networks.npy\"))    \n",
    "d_null = np.load(join(path_corrmats_unthr_gamma, \"d_networks_null.npy\"))\n",
    "\n",
    "d = d[ok_index]\n",
    "d_null = d_null[:, ok_index]\n",
    "\n",
    "n_reps = len(d_null)\n",
    "n_subjects = len(corrmats_meta[\"dim1\"])\n",
    "n_subjects_ok, n_conditions, n_perr_sign, n_networks, _ = d.shape\n",
    "\n",
    "tidy_labels = [\n",
    "    pd.Series(corrmats_meta[\"dim1\"])[ok_index].to_list(),\n",
    "    corrmats_meta[\"dim2\"],\n",
    "    corrmats_meta[\"dim3\"]\n",
    "]\n",
    "tidy_columns = [\"sub\", \"con\", \"perr_sign\"]"
   ]
  },
  {
   "cell_type": "code",
   "execution_count": 4,
   "id": "impressive-superior",
   "metadata": {},
   "outputs": [],
   "source": [
    "pvals = np.zeros((3, n_networks, n_networks))\n",
    "fstats = np.zeros((3, n_networks, n_networks))\n",
    "\n",
    "# Real data statistics\n",
    "for i, j in combinations_with_replacement(range(n_networks), r=2):\n",
    "    data = tidy_data(d[:, :, :, i, j], tidy_labels, columns=tidy_columns)\n",
    "    res = AnovaRM(\n",
    "        data, \n",
    "        \"depvar\", \n",
    "        subject=\"sub\", \n",
    "        within=[\"con\", \"perr_sign\"]\n",
    "    ).fit()\n",
    "    \n",
    "    # Store F statistic and p-values\n",
    "    fstats[:, i, j] = res.anova_table[\"F Value\"]\n",
    "    pvals[:, i, j] = res.anova_table[\"Pr > F\"]\n",
    "\n",
    "np.save(join(path_corrmats_unthr_gamma, \"d_fstats.npy\"), fstats)\n",
    "np.save(join(path_corrmats_unthr_gamma, \"d_pvals.npy\"), pvals)"
   ]
  },
  {
   "cell_type": "code",
   "execution_count": 5,
   "id": "scenic-lighting",
   "metadata": {},
   "outputs": [
    {
     "data": {
      "application/vnd.jupyter.widget-view+json": {
       "model_id": "81eaa663b4c14443b44d3bf2100f5e24",
       "version_major": 2,
       "version_minor": 0
      },
      "text/plain": [
       "  0%|          | 0/10000 [00:00<?, ?it/s]"
      ]
     },
     "metadata": {},
     "output_type": "display_data"
    }
   ],
   "source": [
    "fstats_null = np.zeros((n_reps, 3, n_networks, n_networks))\n",
    "\n",
    "# Null distribution for F-values\n",
    "for rep in tqdm(range(n_reps)):\n",
    "    for i, j in combinations_with_replacement(range(n_networks), r=2):\n",
    "        data = tidy_data(d_null[rep][:, :, :, i, j], tidy_labels, columns=tidy_columns)\n",
    "        res = AnovaRM(\n",
    "            data, \n",
    "            \"depvar\", \n",
    "            subject=\"sub\", \n",
    "            within=[\"con\", \"perr_sign\"]\n",
    "        ).fit()\n",
    "        \n",
    "        fstats_null[rep, :, i, j] = res.anova_table[\"F Value\"]\n",
    "        \n",
    "np.save(join(path_corrmats_unthr_gamma, \"d_fstats_null.npy\"), fstats_null)"
   ]
  }
 ],
 "metadata": {
  "kernelspec": {
   "display_name": "Python 3",
   "language": "python",
   "name": "python3"
  },
  "language_info": {
   "codemirror_mode": {
    "name": "ipython",
    "version": 3
   },
   "file_extension": ".py",
   "mimetype": "text/x-python",
   "name": "python",
   "nbconvert_exporter": "python",
   "pygments_lexer": "ipython3",
   "version": "3.8.3"
  }
 },
 "nbformat": 4,
 "nbformat_minor": 5
}
