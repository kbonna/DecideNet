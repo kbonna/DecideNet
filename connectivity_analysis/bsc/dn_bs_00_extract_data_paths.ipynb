{
 "cells": [
  {
   "cell_type": "markdown",
   "metadata": {},
   "source": [
    "# Query BIDS dataset and extract full paths to data files\n",
    "\n",
    "This script uses BIDSLayout to query BIDS dataset and extract:\n",
    "- anatomical images: `anat_files` \n",
    "- brain masks: `mask_files`\n",
    "- confounds: `conf_files`\n",
    "- functional images: `fmri_files`\n",
    "\n",
    "All paths are stored as JSON file. Anatomical images paths are stored as a list of files (`anat_filenames.json`), whereas brain masks, confounds and functional images are stored as a dict with two keys corresponding to task condtions (`prlrew` and `prlpun`) and values being list of files for all subjects."
   ]
  },
  {
   "cell_type": "code",
   "execution_count": 1,
   "metadata": {},
   "outputs": [],
   "source": [
    "import json\n",
    "from os.path import join\n",
    "\n",
    "from bids import BIDSLayout\n",
    "from dn_utils.path import path"
   ]
  },
  {
   "cell_type": "code",
   "execution_count": 2,
   "metadata": {},
   "outputs": [],
   "source": [
    "layout = BIDSLayout(\n",
    "    root=path[\"bids\"],\n",
    "    derivatives=True,\n",
    "    validate=True,\n",
    "    index_metadata=False\n",
    ")\n",
    "\n",
    "anat_filter = {\n",
    "    \"extension\": [\".nii.gz\"],\n",
    "    \"space\": \"MNI152NLin2009cAsym\",\n",
    "    \"suffix\": \"T1w\",\n",
    "    \"desc\": \"preproc\",\n",
    "    \"return_type\": \"filename\"\n",
    "}\n",
    "\n",
    "fmri_filter = {\n",
    "    \"extension\": [\".nii\", \".nii.gz\"],\n",
    "    \"space\": \"MNI152NLin2009cAsym\",\n",
    "    \"suffix\": \"bold\",\n",
    "    \"desc\": \"preproc\",\n",
    "    \"return_type\": \"filename\"\n",
    "}\n",
    "\n",
    "conf_filter = {\n",
    "    \"extension\": \"tsv\",\n",
    "    \"desc\": \"confounds\",\n",
    "    \"return_type\": \"filename\"\n",
    "}\n",
    "\n",
    "mask_filter = {\n",
    "    \"extension\": [\".nii.gz\"],\n",
    "    \"space\": \"MNI152NLin2009cAsym\",\n",
    "    \"desc\": \"brain\",\n",
    "    \"suffix\": \"mask\",\n",
    "    \"return_type\": \"filename\"\n",
    "}\n",
    "\n",
    "anat_files = layout.get(**anat_filter)\n",
    "\n",
    "fmri_files, conf_files, mask_files = {}, {}, {}\n",
    "\n",
    "for task_dict in [{\"task\": \"prlrew\"}, {\"task\": \"prlpun\"}]:\n",
    "    fmri_filter.update(task_dict)\n",
    "    conf_filter.update(task_dict)\n",
    "    mask_filter.update(task_dict)\n",
    "    fmri_files[task_dict[\"task\"]] = layout.get(**fmri_filter)\n",
    "    conf_files[task_dict[\"task\"]] = layout.get(**conf_filter)\n",
    "    mask_files[task_dict[\"task\"]] = layout.get(**mask_filter)"
   ]
  },
  {
   "cell_type": "code",
   "execution_count": 3,
   "metadata": {},
   "outputs": [],
   "source": [
    "variable_file_map = {\n",
    "    \"fmri_filenames.json\": fmri_files,\n",
    "    \"conf_filenames.json\": conf_files,\n",
    "    \"mask_filenames.json\": mask_files,\n",
    "    \"anat_filenames.json\": anat_files,\n",
    "}\n",
    "\n",
    "for filename, variable in variable_file_map.items():\n",
    "    with open(join(path[\"data_paths\"], filename), \"w\") as f:\n",
    "        f.write(json.dumps(variable, indent=4))"
   ]
  }
 ],
 "metadata": {
  "kernelspec": {
   "display_name": "Python 3",
   "language": "python",
   "name": "python3"
  },
  "language_info": {
   "codemirror_mode": {
    "name": "ipython",
    "version": 3
   },
   "file_extension": ".py",
   "mimetype": "text/x-python",
   "name": "python",
   "nbconvert_exporter": "python",
   "pygments_lexer": "ipython3",
   "version": "3.8.3"
  }
 },
 "nbformat": 4,
 "nbformat_minor": 4
}
