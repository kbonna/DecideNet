{
 "cells": [
  {
   "cell_type": "markdown",
   "id": "extended-denver",
   "metadata": {},
   "source": [
    "# Hypothesis testing on LSNs agreemnent values\n",
    "\n",
    "> **Analysis type**: Single γ (results)"
   ]
  },
  {
   "cell_type": "code",
   "execution_count": null,
   "id": "quiet-consideration",
   "metadata": {},
   "outputs": [],
   "source": [
    "import json\n",
    "from os.path import join\n",
    "\n",
    "import numpy as np\n",
    "import pandas as pd\n",
    "from dn_utils.networks import fdrcorrection_matrix\n",
    "from dn_utils.path import path\n",
    "from dn_utils.plotting import plot_matrix\n",
    "\n",
    "%matplotlib inline"
   ]
  },
  {
   "cell_type": "code",
   "execution_count": null,
   "id": "automated-indicator",
   "metadata": {},
   "outputs": [],
   "source": [
    "atlas = \"combined_roi_4and5\"\n",
    "gamma = 2"
   ]
  },
  {
   "cell_type": "code",
   "execution_count": null,
   "id": "consistent-advice",
   "metadata": {},
   "outputs": [],
   "source": [
    "# Create additional paths\n",
    "gamma_str = str(float(gamma)).replace('.', '_')\n",
    "path_corrmats = join(path[\"bsc\"], \"corrmats\")\n",
    "path_corrmats_unthr = join(path_corrmats, atlas, \"unthr\")\n",
    "path_corrmats_unthr_gamma = join(path_corrmats_unthr, f\"gamma_{gamma_str}\")\n",
    "\n",
    "# Load subject exclusion\n",
    "df_exclusion = pd.read_csv(join(path[\"nistats\"], \"exclusion/exclusion.csv\"), \n",
    "                           index_col=0)\n",
    "ok_index = df_exclusion[\"ok_all\"]\n",
    "\n",
    "# Meta information about corrmats dimensions\n",
    "with open(join(path_corrmats, atlas, \"corrmats_aggregated.json\"), \"r\") as f:\n",
    "    corrmats_meta = json.loads(f.read()) \n",
    "    \n",
    "# Load ROI information\n",
    "df_roi = pd.read_csv(\n",
    "    join(path_corrmats, atlas, \"roi_table_filtered.csv\"), index_col=0)\n",
    "df_roi = df_roi.reset_index()\n",
    "network_names = df_roi[\"netName\"].unique()\n",
    "    \n",
    "# Load data\n",
    "d = np.load(join(path_corrmats_unthr_gamma, \"d_networks.npy\"))    \n",
    "d_null = np.load(join(path_corrmats_unthr_gamma, \"d_networks_null.npy\"))\n",
    "pvals = np.load(join(path_corrmats_unthr_gamma, \"d_pvals.npy\"))\n",
    "fstats = np.load(join(path_corrmats_unthr_gamma, \"d_fstats.npy\"))\n",
    "fstats_null = np.load(join(path_corrmats_unthr_gamma, \"d_fstats_null.npy\"))\n",
    "\n",
    "d = d[ok_index]\n",
    "d_null = d_null[:, ok_index]\n",
    "\n",
    "n_nets = len(network_names)\n",
    "n_reps = len(d_null)\n",
    "n_subjects = len(corrmats_meta[\"dim1\"])\n",
    "n_subjects_ok, n_conditions, n_perr_sign, n_networks, _ = d.shape"
   ]
  },
  {
   "cell_type": "code",
   "execution_count": null,
   "id": "conscious-director",
   "metadata": {},
   "outputs": [],
   "source": [
    "# Load behavioral model parameters\n",
    "path_parameter_estimates = join(path[\"jags\"], \"parameter_estimates\")\n",
    "alpha = np.load(join(path_parameter_estimates, \"alpha_pdci_mle_3digits.npy\"))\n",
    "beta = np.load(join(path_parameter_estimates, \"beta_pdci_mle_3digits.npy\"))\n",
    "alpha = alpha[ok_index]\n",
    "beta = beta[ok_index]"
   ]
  },
  {
   "cell_type": "code",
   "execution_count": null,
   "id": "retained-surface",
   "metadata": {},
   "outputs": [],
   "source": [
    "# Effects of interest\n",
    "d_interaction = np.mean((d[:, 0] - d[:, 1])[:, 0] - (d[:, 0] - d[:, 1])[:, 1], \n",
    "                        axis=0)\n",
    "d_rew_minus_pun = np.mean(d[:, 0] - d[:, 1], axis=(0, 1))\n",
    "d_inc_minus_dec = np.mean(d[:, :, 0] - d[:, :, 1], axis=(0, 1))\n",
    "d_all = np.mean(d, axis=(0, 1, 2)) \n",
    "\n",
    "# rmANOVA tstat higher than chance\n",
    "pvals_mc = np.mean(fstats < fstats_null, axis=0)\n",
    "\n",
    "# Agreement higher than chance\n",
    "pvals_d_mc = np.mean(d_all < np.mean(d_null, axis=(1, 2, 3)), axis=0)\n",
    "\n",
    "pvals_con = pvals_mc[0] + np.tril(pvals_mc[0].T, k=-1)\n",
    "pvals_perr = pvals_mc[1] + np.tril(pvals_mc[1].T, k=-1)\n",
    "pvals_interaction = pvals_mc[2] + np.tril(pvals_mc[2].T, k=-1)\n",
    "pvals_d_mc = pvals_d_mc + np.tril(pvals_d_mc.T, k=-1)\n",
    "\n",
    "# Multiple comparison correction\n",
    "pvals_con_fdr = fdrcorrection_matrix(pvals_mc[0])\n",
    "pvals_perr_fdr = fdrcorrection_matrix(pvals_mc[1])\n",
    "pvals_interaction_fdr = fdrcorrection_matrix(pvals_mc[2])\n",
    "pvals_d_mc_fdr = fdrcorrection_matrix(pvals_d_mc)"
   ]
  },
  {
   "cell_type": "code",
   "execution_count": null,
   "id": "modified-florist",
   "metadata": {},
   "outputs": [],
   "source": [
    "plot_matrix(\n",
    "    d_all,\n",
    "    labels=network_names,\n",
    "    annotate=pvals_d_mc,\n",
    "    annotate_mask=pvals_d_mc_fdr < 0.05,\n",
    "    title=\"Network associations\"\n",
    ")\n",
    "\n",
    "plot_matrix(\n",
    "    d_rew_minus_pun, \n",
    "    clim=(-.15, .15), \n",
    "    labels=network_names, \n",
    "    annotate=pvals_con, \n",
    "    annotate_mask=pvals_con < 0.05,\n",
    "    title=\"Condition effect\"\n",
    ")\n",
    "\n",
    "plot_matrix(\n",
    "    d_inc_minus_dec, \n",
    "    clim=(-.15, .15), \n",
    "    labels=network_names, \n",
    "    annotate=pvals_perr, \n",
    "    annotate_mask=pvals_perr < 0.05,\n",
    "    title=\"Prediction error effect\"\n",
    ")\n",
    "\n",
    "plot_matrix(\n",
    "    d_interaction, \n",
    "    clim=(-.3, .3), \n",
    "    labels=network_names, \n",
    "    annotate=pvals_interaction_fdr, \n",
    "    annotate_mask=pvals_interaction_fdr < 0.05,\n",
    "    title=\"Interaction effect\"\n",
    ")"
   ]
  },
  {
   "cell_type": "code",
   "execution_count": null,
   "id": "least-genealogy",
   "metadata": {},
   "outputs": [],
   "source": [
    "inc_idx = list(network_names).index(\"perr_inc\")\n",
    "dec_idx = list(network_names).index(\"perr_dec\")\n",
    "fp_idx = list(network_names).index(\"fronto_parietal\")\n",
    "dmn_idx = list(network_names).index(\"default_mode\")\n",
    "sal_idx = list(network_names).index(\"salience\")\n",
    "som_idx = list(network_names).index(\"somatomotor\")\n",
    "q = np.load(join(path_corrmats_unthr_gamma, \"q_aggregated.npy\"))"
   ]
  },
  {
   "cell_type": "code",
   "execution_count": null,
   "id": "intended-tactics",
   "metadata": {},
   "outputs": [],
   "source": [
    "from scipy.stats import pearsonr\n",
    "import matplotlib.pyplot as plt"
   ]
  },
  {
   "cell_type": "code",
   "execution_count": null,
   "id": "cosmetic-divorce",
   "metadata": {},
   "outputs": [],
   "source": [
    "x_rew = np.mean(d[:, :, 0, inc_idx, dec_idx], axis=1)\n",
    "x_pun = np.mean(d[:, :, 1, inc_idx, dec_idx], axis=1)\n",
    "\n",
    "y = alpha[:, 1] - alpha[:, 0]  \n",
    "\n",
    "plt.plot(x_pun, y, 'ro')\n",
    "plt.xlabel(\"Integration incPE – decPE\")\n",
    "plt.ylabel(r\"$\\alpha_+ - \\alpha_-$\")\n",
    "plt.title(\"Punishment\")\n",
    "print(pearsonr(x_pun, y))\n",
    "plt.show()\n",
    "\n",
    "plt.plot(x_rew, y, 'ro')\n",
    "plt.xlabel(\"Integration incPE – decPE\")\n",
    "plt.ylabel(r\"$\\alpha_+ - \\alpha_-$\")\n",
    "plt.title(\"Reward\")\n",
    "print(pearsonr(x_rew, y))\n",
    "plt.show()"
   ]
  }
 ],
 "metadata": {
  "kernelspec": {
   "display_name": "Python 3",
   "language": "python",
   "name": "python3"
  },
  "language_info": {
   "codemirror_mode": {
    "name": "ipython",
    "version": 3
   },
   "file_extension": ".py",
   "mimetype": "text/x-python",
   "name": "python",
   "nbconvert_exporter": "python",
   "pygments_lexer": "ipython3",
   "version": "3.8.3"
  }
 },
 "nbformat": 4,
 "nbformat_minor": 5
}
