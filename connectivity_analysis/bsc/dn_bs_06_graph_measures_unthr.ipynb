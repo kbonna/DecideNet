{
 "cells": [
  {
   "cell_type": "markdown",
   "metadata": {},
   "source": [
    "# Graph measures\n",
    "\n",
    "This script is used to calculate relevant graph metrics on full connectivity matrices.\n",
    "\n",
    "### Graph metrics\n",
    "\n",
    "Graph measures related to modularity are calculated. First, community structure is discovered using `community_louvain` algorithm for undirected, weighted networks with positive connections. Canonical **modularity** quality function is used throughout the search. Module size is controlled by the `louvain_gamma` resolution parameter (default 1). Search is conducted `louvain_reps` times and the division with highest score is stored as a representative for a network. Then node-level measures of centrality – **within-module degree z-score** and **participation coeffiecient** (measuring diversity of intermodular connections) are calculated for each network.\n",
    "\n",
    "### File structure\n",
    "\n",
    "Network metrics are stored under `<atlas_name>/unthr` atlas-specific directory in `bsc` directory. Within `unthr` directory there can be different directories for specific values of louvain gamma parameter named `gamma_<louvain_gamma_value>`. Aggregated graph measures are stored in gamma-specific direcotries as numpy arrays (e.g. `z_aggregated` for within-module degree z-score).\n",
    "\n",
    "```\n",
    "<atlas_name>\n",
    "├── corrmats_aggregated.json\n",
    "├── corrmats_aggregated.npy\n",
    "├── unthr\n",
    "│   ├── gamma_<louvain_gamma_value>\n",
    "│   │   ├── m_aggregated.npy\n",
    "│   │   ├── ppos_aggregated.npy\n",
    "│   │   ├── pneg_aggregated.npy\n",
    "│   │   ├── q_aggregated.npy\n",
    "│   │   └── z_aggregated.npy\n",
    "...\n",
    "└── roi_table_filtered.csv\n",
    "```"
   ]
  },
  {
   "cell_type": "code",
   "execution_count": 1,
   "metadata": {},
   "outputs": [],
   "source": [
    "import json\n",
    "from itertools import product\n",
    "from os.path import join\n",
    "from pathlib import Path\n",
    "\n",
    "import numpy as np\n",
    "import pandas as pd\n",
    "from bct.algorithms.centrality import module_degree_zscore, participation_coef_sign\n",
    "from bct.algorithms.modularity import community_louvain\n",
    "from dn_utils.path import path\n",
    "from tqdm.notebook import tqdm"
   ]
  },
  {
   "cell_type": "markdown",
   "metadata": {},
   "source": [
    "## Settings"
   ]
  },
  {
   "cell_type": "code",
   "execution_count": 2,
   "metadata": {},
   "outputs": [],
   "source": [
    "atlas = \"combined_roi_4and5\"\n",
    "\n",
    "# Modularity\n",
    "louvain_B = \"negative_asym\"\n",
    "louvain_reps = 1_000\n",
    "gamma_range = np.arange(0.5, 2.5, 0.5)\n",
    "\n",
    "# Create output paths\n",
    "path_corrmats = join(path[\"bsc\"], \"corrmats\")\n",
    "path_corrmats_unthr = join(path_corrmats, atlas, f\"unthr\")\n",
    "Path(path_corrmats_unthr).mkdir(exist_ok=True, parents=True)"
   ]
  },
  {
   "cell_type": "markdown",
   "metadata": {},
   "source": [
    "### Load data"
   ]
  },
  {
   "cell_type": "code",
   "execution_count": 3,
   "metadata": {},
   "outputs": [],
   "source": [
    "# Load correlation matrices and metadata\n",
    "corrmats_aggregated = np.load(\n",
    "    join(path_corrmats, atlas, \"corrmats_aggregated.npy\"))\n",
    "with open(join(path_corrmats, atlas, \"corrmats_aggregated.json\"), \"r\") as f:\n",
    "    meta = json.loads(f.read())\n",
    "\n",
    "# Load subject exclusion\n",
    "df_exclusion = pd.read_csv(\n",
    "    join(path[\"nistats\"], \"exclusion/exclusion.csv\"), index_col=0)\n",
    "ok_index = df_exclusion[\"ok_all\"]    \n",
    "    \n",
    "# Load ROI information\n",
    "df_roi = pd.read_csv(join(path_corrmats, atlas, \"roi_table_filtered.csv\"))\n",
    "    \n",
    "n_subjects = len(meta[\"dim1\"])\n",
    "n_conditions = len(meta[\"dim2\"])\n",
    "n_perr_sign = len(meta[\"dim3\"])\n",
    "n_roi = len(df_roi)"
   ]
  },
  {
   "cell_type": "markdown",
   "metadata": {},
   "source": [
    "### Calculate measures"
   ]
  },
  {
   "cell_type": "code",
   "execution_count": 4,
   "metadata": {},
   "outputs": [
    {
     "name": "stdout",
     "output_type": "stream",
     "text": [
      "Calculating graph measures for 𝛾 = 0.5\n"
     ]
    },
    {
     "data": {
      "application/vnd.jupyter.widget-view+json": {
       "model_id": "f93b5f3e0a7c40d5a252154d92b92d7e",
       "version_major": 2,
       "version_minor": 0
      },
      "text/plain": [
       "  0%|          | 0/128 [00:00<?, ?it/s]"
      ]
     },
     "metadata": {},
     "output_type": "display_data"
    },
    {
     "name": "stderr",
     "output_type": "stream",
     "text": [
      "/home/kmb/miniconda3/envs/decidenet/lib/python3.8/site-packages/bct/algorithms/centrality.py:661: RuntimeWarning: invalid value encountered in true_divide\n",
      "  Z[np.where(ci == i)] = (Koi - np.mean(Koi)) / np.std(Koi)\n"
     ]
    },
    {
     "name": "stdout",
     "output_type": "stream",
     "text": [
      "Calculating graph measures for 𝛾 = 1.0\n"
     ]
    },
    {
     "data": {
      "application/vnd.jupyter.widget-view+json": {
       "model_id": "28758d3590a14136903089c0a57de254",
       "version_major": 2,
       "version_minor": 0
      },
      "text/plain": [
       "  0%|          | 0/128 [00:00<?, ?it/s]"
      ]
     },
     "metadata": {},
     "output_type": "display_data"
    },
    {
     "name": "stdout",
     "output_type": "stream",
     "text": [
      "Calculating graph measures for 𝛾 = 1.5\n"
     ]
    },
    {
     "data": {
      "application/vnd.jupyter.widget-view+json": {
       "model_id": "9a710a8abb4a4d3fb02d6413c18bc113",
       "version_major": 2,
       "version_minor": 0
      },
      "text/plain": [
       "  0%|          | 0/128 [00:00<?, ?it/s]"
      ]
     },
     "metadata": {},
     "output_type": "display_data"
    },
    {
     "name": "stdout",
     "output_type": "stream",
     "text": [
      "Calculating graph measures for 𝛾 = 2.0\n"
     ]
    },
    {
     "data": {
      "application/vnd.jupyter.widget-view+json": {
       "model_id": "030135226b7a4012936370088c7723b7",
       "version_major": 2,
       "version_minor": 0
      },
      "text/plain": [
       "  0%|          | 0/128 [00:00<?, ?it/s]"
      ]
     },
     "metadata": {},
     "output_type": "display_data"
    }
   ],
   "source": [
    "for gamma in gamma_range:\n",
    "    \n",
    "    print(f\"Calculating graph measures for 𝛾 = {gamma}\")\n",
    "    \n",
    "    gamma_str = str(float(gamma)).replace(\".\", \"_\")\n",
    "    path_corrmats_unthr_gamma = join(path_corrmats_unthr, f\"gamma_{gamma_str}\")\n",
    "    Path(path_corrmats_unthr_gamma).mkdir(exist_ok=True)\n",
    "\n",
    "    m_aggregated = np.zeros((n_subjects, n_conditions, n_perr_sign, n_roi))\n",
    "    q_aggregated = np.zeros((n_subjects, n_conditions, n_perr_sign))\n",
    "    z_aggregated = np.zeros((n_subjects, n_conditions, n_perr_sign, n_roi))\n",
    "    ppos_aggregated = np.zeros((n_subjects, n_conditions, n_perr_sign, n_roi))\n",
    "    pneg_aggregated = np.zeros((n_subjects, n_conditions, n_perr_sign, n_roi))\n",
    "\n",
    "    iters = product(range(n_subjects), range(n_conditions), range(n_perr_sign))\n",
    "    for sub_idx, con_idx, perr_sign_idx in tqdm(list(iters)):\n",
    "\n",
    "        corrmat = corrmats_aggregated[sub_idx, con_idx, perr_sign_idx]\n",
    "        corrmat[np.diag_indices_from(corrmat)] = 0\n",
    "\n",
    "        best_q = 0 \n",
    "        for _ in range(louvain_reps):\n",
    "            m, q = community_louvain(corrmat, gamma=gamma, B=louvain_B)\n",
    "            if q > best_q:\n",
    "                best_m = m\n",
    "                best_q = q\n",
    "\n",
    "        # Within-module degree z-score\n",
    "        z_aggregated[sub_idx, con_idx, perr_sign_idx] = module_degree_zscore(\n",
    "            W=corrmat, ci=best_m, flag=0)\n",
    "\n",
    "        # Participation coefficient\n",
    "        ppos, pneg = participation_coef_sign(W=corrmat, ci=best_m)\n",
    "        ppos_aggregated[sub_idx, con_idx, perr_sign_idx] = ppos\n",
    "        pneg_aggregated[sub_idx, con_idx, perr_sign_idx] = pneg\n",
    "\n",
    "        # Store best values\n",
    "        m_aggregated[sub_idx, con_idx, perr_sign_idx] = best_m\n",
    "        q_aggregated[sub_idx, con_idx, perr_sign_idx] = best_q\n",
    "\n",
    "\n",
    "    np.save(join(path_corrmats_unthr_gamma, f\"m_aggregated.npy\"), m_aggregated)\n",
    "    np.save(join(path_corrmats_unthr_gamma, f\"q_aggregated.npy\"), q_aggregated)\n",
    "    np.save(join(path_corrmats_unthr_gamma, f\"z_aggregated.npy\"), z_aggregated)\n",
    "    np.save(join(path_corrmats_unthr_gamma, f\"ppos_aggregated.npy\"), ppos_aggregated)    \n",
    "    np.save(join(path_corrmats_unthr_gamma, f\"pneg_aggregated.npy\"), pneg_aggregated)"
   ]
  }
 ],
 "metadata": {
  "kernelspec": {
   "display_name": "Python 3",
   "language": "python",
   "name": "python3"
  },
  "language_info": {
   "codemirror_mode": {
    "name": "ipython",
    "version": 3
   },
   "file_extension": ".py",
   "mimetype": "text/x-python",
   "name": "python",
   "nbconvert_exporter": "python",
   "pygments_lexer": "ipython3",
   "version": "3.8.3"
  }
 },
 "nbformat": 4,
 "nbformat_minor": 4
}
