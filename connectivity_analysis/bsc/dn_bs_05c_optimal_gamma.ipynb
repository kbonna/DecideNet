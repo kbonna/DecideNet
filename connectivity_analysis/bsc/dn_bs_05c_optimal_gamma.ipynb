{
 "cells": [
  {
   "cell_type": "code",
   "execution_count": 1,
   "metadata": {},
   "outputs": [
    {
     "name": "stderr",
     "output_type": "stream",
     "text": [
      "/home/kmb/Desktop/Neuroscience/Projects/BONNA_decide_net/code/dn_utils/glm_utils.py:13: FutureWarning: \n",
      "\n",
      " | Starting with Nilearn 0.7.0, all Nistats functionality has been incorporated into Nilearn's stats & reporting modules.\n",
      " | Nistats package will no longer be updated or maintained.\n",
      "\n",
      "  from nistats import design_matrix\n"
     ]
    }
   ],
   "source": [
    "import json\n",
    "import os\n",
    "from os.path import join\n",
    "from itertools import product\n",
    "from pathlib import Path\n",
    "\n",
    "import matplotlib.pyplot as plt\n",
    "import matplotlib as mpl\n",
    "import numpy as np\n",
    "import pandas as pd\n",
    "from tqdm.notebook import tqdm\n",
    "\n",
    "from bct.algorithms.modularity import community_louvain, partition_distance\n",
    "from dn_utils.plotting import plot_matrix\n",
    "from dn_utils.path import path\n",
    "\n",
    "%matplotlib inline"
   ]
  },
  {
   "cell_type": "code",
   "execution_count": 2,
   "metadata": {},
   "outputs": [],
   "source": [
    "path_corrmats = join(path[\"bsc\"], 'corrmats')"
   ]
  },
  {
   "cell_type": "markdown",
   "metadata": {},
   "source": [
    "## Settings"
   ]
  },
  {
   "cell_type": "code",
   "execution_count": 3,
   "metadata": {},
   "outputs": [],
   "source": [
    "atlas = 'combined_roi'"
   ]
  },
  {
   "cell_type": "markdown",
   "metadata": {},
   "source": [
    "### Load data"
   ]
  },
  {
   "cell_type": "code",
   "execution_count": 4,
   "metadata": {},
   "outputs": [],
   "source": [
    "# Load correlation matrices and metadata\n",
    "corrmats_aggregated = np.load(\n",
    "    join(path_corrmats, atlas, 'corrmats_aggregated.npy'))\n",
    "with open(join(path_corrmats, atlas, 'corrmats_aggregated.json'), 'r') as f:\n",
    "    meta = json.loads(f.read())\n",
    "\n",
    "# Load subject exclusion\n",
    "df_exclusion = pd.read_csv(\n",
    "    join(path[\"nistats\"], 'exclusion/exclusion.csv'), index_col=0)\n",
    "ok_index = df_exclusion['ok_all']    \n",
    "corrmats_aggregated = corrmats_aggregated[ok_index]\n",
    "\n",
    "# Load ROI information\n",
    "df_roi = pd.read_csv(join(path_corrmats, atlas, 'roi_table_filtered.csv'))\n",
    "\n",
    "n_subjects = len(meta['dim1'])\n",
    "n_subjects_ok = sum(ok_index)\n",
    "n_conditions = len(meta['dim2'])\n",
    "n_perr_sign = len(meta['dim3'])\n",
    "n_rois = len(df_roi)\n",
    "\n",
    "iters = product(range(n_subjects_ok), range(n_conditions), range(n_perr_sign))\n",
    "iters = list(iters)"
   ]
  },
  {
   "cell_type": "code",
   "execution_count": 5,
   "metadata": {},
   "outputs": [
    {
     "data": {
      "text/plain": [
       "array([0.05, 0.1 , 0.15, 0.2 , 0.25, 0.3 , 0.35, 0.4 , 0.45, 0.5 , 0.55,\n",
       "       0.6 , 0.65, 0.7 , 0.75, 0.8 , 0.85, 0.9 , 0.95, 1.  , 1.05, 1.1 ,\n",
       "       1.15, 1.2 , 1.25, 1.3 , 1.35, 1.4 , 1.45, 1.5 , 1.55, 1.6 , 1.65,\n",
       "       1.7 , 1.75, 1.8 , 1.85, 1.9 , 1.95, 2.  , 2.05, 2.1 , 2.15, 2.2 ,\n",
       "       2.25, 2.3 , 2.35, 2.4 , 2.45, 2.5 , 2.55, 2.6 , 2.65, 2.7 , 2.75,\n",
       "       2.8 , 2.85, 2.9 , 2.95, 3.  ])"
      ]
     },
     "execution_count": 5,
     "metadata": {},
     "output_type": "execute_result"
    }
   ],
   "source": [
    "louvain_B = 'negative_asym'\n",
    "louvain_reps = 1\n",
    "gamma_range = np.arange(0.05, 3.05, 0.05)\n",
    "gamma_range"
   ]
  },
  {
   "cell_type": "code",
   "execution_count": 6,
   "metadata": {},
   "outputs": [
    {
     "data": {
      "application/vnd.jupyter.widget-view+json": {
       "model_id": "6ea65c62d13e444383c7252737859243",
       "version_major": 2,
       "version_minor": 0
      },
      "text/plain": [
       "  0%|          | 0/60 [00:00<?, ?it/s]"
      ]
     },
     "metadata": {},
     "output_type": "display_data"
    },
    {
     "name": "stdout",
     "output_type": "stream",
     "text": [
      "iteration 0 (gamma=0.05)\n"
     ]
    },
    {
     "name": "stderr",
     "output_type": "stream",
     "text": [
      "/home/kmb/miniconda3/envs/decidenet/lib/python3.8/site-packages/bct/algorithms/modularity.py:1729: RuntimeWarning: invalid value encountered in double_scalars\n",
      "  Min = 2 * (Hx + Hy - Hxy) / (Hx + Hy)\n"
     ]
    },
    {
     "name": "stdout",
     "output_type": "stream",
     "text": [
      "iteration 1 (gamma=0.1)\n",
      "iteration 2 (gamma=0.15000000000000002)\n",
      "iteration 3 (gamma=0.2)\n",
      "iteration 4 (gamma=0.25)\n",
      "iteration 5 (gamma=0.3)\n",
      "iteration 6 (gamma=0.35000000000000003)\n",
      "iteration 7 (gamma=0.4)\n",
      "iteration 8 (gamma=0.45)\n",
      "iteration 9 (gamma=0.5)\n",
      "iteration 10 (gamma=0.55)\n",
      "iteration 11 (gamma=0.6000000000000001)\n",
      "iteration 12 (gamma=0.6500000000000001)\n",
      "iteration 13 (gamma=0.7000000000000001)\n",
      "iteration 14 (gamma=0.7500000000000001)\n",
      "iteration 15 (gamma=0.8)\n",
      "iteration 16 (gamma=0.8500000000000001)\n",
      "iteration 17 (gamma=0.9000000000000001)\n",
      "iteration 18 (gamma=0.9500000000000001)\n",
      "iteration 19 (gamma=1.0)\n",
      "iteration 20 (gamma=1.05)\n",
      "iteration 21 (gamma=1.1)\n",
      "iteration 22 (gamma=1.1500000000000001)\n",
      "iteration 23 (gamma=1.2000000000000002)\n",
      "iteration 24 (gamma=1.2500000000000002)\n",
      "iteration 25 (gamma=1.3)\n",
      "iteration 26 (gamma=1.35)\n",
      "iteration 27 (gamma=1.4000000000000001)\n",
      "iteration 28 (gamma=1.4500000000000002)\n",
      "iteration 29 (gamma=1.5000000000000002)\n",
      "iteration 30 (gamma=1.55)\n",
      "iteration 31 (gamma=1.6)\n",
      "iteration 32 (gamma=1.6500000000000001)\n",
      "iteration 33 (gamma=1.7000000000000002)\n",
      "iteration 34 (gamma=1.7500000000000002)\n",
      "iteration 35 (gamma=1.8)\n",
      "iteration 36 (gamma=1.85)\n",
      "iteration 37 (gamma=1.9000000000000001)\n",
      "iteration 38 (gamma=1.9500000000000002)\n",
      "iteration 39 (gamma=2.0)\n",
      "iteration 40 (gamma=2.05)\n",
      "iteration 41 (gamma=2.1)\n",
      "iteration 42 (gamma=2.15)\n",
      "iteration 43 (gamma=2.1999999999999997)\n",
      "iteration 44 (gamma=2.25)\n",
      "iteration 45 (gamma=2.3)\n",
      "iteration 46 (gamma=2.35)\n",
      "iteration 47 (gamma=2.4)\n",
      "iteration 48 (gamma=2.45)\n",
      "iteration 49 (gamma=2.5)\n",
      "iteration 50 (gamma=2.55)\n",
      "iteration 51 (gamma=2.6)\n",
      "iteration 52 (gamma=2.65)\n",
      "iteration 53 (gamma=2.7)\n",
      "iteration 54 (gamma=2.75)\n",
      "iteration 55 (gamma=2.8)\n",
      "iteration 56 (gamma=2.85)\n",
      "iteration 57 (gamma=2.9)\n",
      "iteration 58 (gamma=2.95)\n",
      "iteration 59 (gamma=3.0)\n"
     ]
    }
   ],
   "source": [
    "stats = np.zeros((len(gamma_range), 6))\n",
    "\n",
    "for gamma_i, gamma in tqdm(list(enumerate(gamma_range))):\n",
    "    print(f\"iteration {gamma_i} (gamma={gamma})\")\n",
    "    \n",
    "    # Calculate modularity for specific gamma\n",
    "    m_aggregated = np.zeros((n_subjects_ok, n_conditions, n_perr_sign, n_rois))\n",
    "    q_aggregated = np.ones((n_subjects_ok, n_conditions, n_perr_sign)) * (-np.inf)\n",
    "\n",
    "    for sub_idx, con_idx, perr_sign_idx in iters:\n",
    "        corrmat = corrmats_aggregated[sub_idx, con_idx, perr_sign_idx]\n",
    "        corrmat[np.diag_indices_from(corrmat)] = 0\n",
    "        for _ in range(louvain_reps):\n",
    "            m, q = community_louvain(corrmat, gamma=gamma, B=louvain_B)\n",
    "            if q > q_aggregated[sub_idx, con_idx, perr_sign_idx]:\n",
    "                m_aggregated[sub_idx, con_idx, perr_sign_idx] = m\n",
    "                q_aggregated[sub_idx, con_idx, perr_sign_idx] = q\n",
    "\n",
    "    # Number of communities\n",
    "    n_communities = np.max(m_aggregated, axis=(3))\n",
    "    n_singleton = np.array(\n",
    "        [\n",
    "            [\n",
    "                [\n",
    "                    np.sum(np.unique(m_aggregated[sub, con, perr], return_counts=True)[1] == 1)\n",
    "                    for perr in range(n_perr_sign)\n",
    "                ]\n",
    "                for con in range(n_conditions)\n",
    "            ]\n",
    "            for sub in range(n_subjects_ok)\n",
    "        ]\n",
    "    )\n",
    "    n_nonsingleton = n_communities - n_singleton\n",
    "\n",
    "    # Partition similarity\n",
    "    m_stacked = np.reshape(\n",
    "        m_aggregated, \n",
    "        (n_subjects_ok * n_conditions * n_perr_sign, n_rois)\n",
    "    )\n",
    "    pd = np.zeros((len(m_stacked), len(m_stacked)))\n",
    "    for i in range(len(m_stacked)):\n",
    "        for j in range(i + 1, len(m_stacked)):\n",
    "            pd[i, j] = partition_distance(m_stacked[i], m_stacked[j])[1]\n",
    "    pd[np.diag_indices_from(pd)] = np.nan\n",
    "\n",
    "    h_total = np.nansum(pd)\n",
    "    h_within = np.nansum(\n",
    "        np.hstack(\n",
    "            [\n",
    "                pd[\n",
    "                    n_subjects_ok * n : n_subjects_ok * (n + 1),\n",
    "                    n_subjects_ok * n : n_subjects_ok * (n + 1),\n",
    "                ]\n",
    "                for n in range(4)\n",
    "            ]\n",
    "        )\n",
    "    )\n",
    "    h_between = h_total - h_within\n",
    "\n",
    "    n_total = (n_subjects_ok * 4) * (n_subjects_ok * 4 - 1) / 2\n",
    "    n_within = 4 * n_subjects_ok * (n_subjects_ok - 1) / 2\n",
    "    n_between = n_total - n_within\n",
    "\n",
    "    h_total_mean = h_total / n_total\n",
    "    h_within_mean = h_within / n_within\n",
    "    h_between_mean = h_between / n_between\n",
    "    \n",
    "    stats[gamma_i] = np.array([\n",
    "        np.mean(n_communities),\n",
    "        np.mean(n_singleton),\n",
    "        np.mean(n_nonsingleton),\n",
    "        h_total_mean,\n",
    "        h_within_mean,\n",
    "        h_between_mean\n",
    "    ])"
   ]
  },
  {
   "cell_type": "code",
   "execution_count": 9,
   "metadata": {},
   "outputs": [
    {
     "data": {
      "text/plain": [
       "<matplotlib.legend.Legend at 0x7fe694c38c40>"
      ]
     },
     "execution_count": 9,
     "metadata": {},
     "output_type": "execute_result"
    },
    {
     "data": {
      "image/png": "[encoded data removed]",
      "text/plain": [
       "<Figure size 720x360 with 1 Axes>"
      ]
     },
     "metadata": {
      "needs_background": "light"
     },
     "output_type": "display_data"
    }
   ],
   "source": [
    "mpl.rcParams[\"font.size\"] = 15\n",
    "fig, ax = plt.subplots(figsize=(10, 5))\n",
    "ax.plot(gamma_range, stats[:, :3])\n",
    "ax.set_xlabel(\"gamma\")\n",
    "ax.set_ylabel(\"communities\")\n",
    "plt.legend([\"all\", \"singleton\", \"non-singleton\"])"
   ]
  },
  {
   "cell_type": "code",
   "execution_count": 30,
   "metadata": {},
   "outputs": [
    {
     "data": {
      "text/plain": [
       "<matplotlib.legend.Legend at 0x7f23bdb30160>"
      ]
     },
     "execution_count": 30,
     "metadata": {},
     "output_type": "execute_result"
    },
    {
     "data": {
      "image/png": "[encoded data removed]",
      "text/plain": [
       "<Figure size 720x360 with 1 Axes>"
      ]
     },
     "metadata": {
      "needs_background": "light"
     },
     "output_type": "display_data"
    }
   ],
   "source": [
    "fig, ax = plt.subplots(figsize=(10, 5))\n",
    "ax.plot(gamma_range, stats[:, 3])\n",
    "ax.set_xlabel(\"gamma\")\n",
    "ax.set_ylabel(\"normalized H\")\n",
    "plt.legend([\"within\", \"between\"])"
   ]
  }
 ],
 "metadata": {
  "kernelspec": {
   "display_name": "Python 3",
   "language": "python",
   "name": "python3"
  },
  "language_info": {
   "codemirror_mode": {
    "name": "ipython",
    "version": 3
   },
   "file_extension": ".py",
   "mimetype": "text/x-python",
   "name": "python",
   "nbconvert_exporter": "python",
   "pygments_lexer": "ipython3",
   "version": "3.8.3"
  }
 },
 "nbformat": 4,
 "nbformat_minor": 4
}
