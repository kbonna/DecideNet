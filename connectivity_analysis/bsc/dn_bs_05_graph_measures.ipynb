{
 "cells": [
  {
   "cell_type": "markdown",
   "metadata": {},
   "source": [
    "# Graph measures\n",
    "\n",
    "This script is used to:\n",
    "\n",
    "1. Threshold raw beta series correlation matrices.\n",
    "2. Calculate relevant graph metrics.\n",
    "\n",
    "### Thresholding\n",
    "\n",
    "Correlation matrices thresholding involves two-step process. First, statistical thresholding is applied on the group level. Matrices for all subjects, both task conditions and both prediction error signs are stacked together. For each connection, two-side t-test against 0 for connection strength is performed. Associated p-values are FDR corrected with specified `alpha_fdr` significance threshold to retain only strongest positive and negative connections. Second, remaining negative connections are removed from analysis. This seems viable since beta-serier correlation matrices are biased towards positive correlation and after typical statistical thresholding only ~10% (for `alpha_fdr=1e-8`).\n",
    "\n",
    "> Note that during statistical thresholding some subjects are excluded based on excessive motion or acquisition failure. However, threshold is then applied to all matrices, so graph measures are caluclated on entire dataset. Relevant exclusion is performed during the last step of statistical analysis of graph measures.\n",
    "\n",
    "### Graph metrics\n",
    "\n",
    "Graph measures related to modularity are calculated. First, community structure is discovered using `community_louvain` algorithm for undirected, weighted networks with positive connections. Canonical **modularity** quality function is used throughout the search. Module size is controlled by the `louvain_gamma` resolution parameter (default 1). Search is conducted `louvain_reps` times and the division with highest score is stored as a representative for a network. Then node-level measures of centrality – **within-module degree z-score** and **participation coeffiecient** (measuring diversity of intermodular connections) are calculated for each network.\n",
    "\n",
    "### File structure\n",
    "\n",
    "Each statistical threshold has its own directory names `fdrthr_<statistical_threshold_value>` under atlas-specific directory in `bsc` directory. Within threshold-specific directories there can be different directories for specific values of louvain gamma parameter named `gamma_<louvain_gamma_value>`. Aggregated graph measures are stored in gamma-specific direcotries as numpy arrays (e.g. `z_aggregated` for within-module degree z-score).\n",
    "\n",
    "```\n",
    "<atlas_name>\n",
    "├── corrmats_aggregated.json\n",
    "├── corrmats_aggregated.npy\n",
    "├── fdrthr_<statistical_threshold_value>\n",
    "│   ├── gamma_<louvain_gamma_value>\n",
    "│   │   ├── m_aggregated.npy\n",
    "│   │   ├── p_aggregated.npy\n",
    "│   │   ├── q_aggregated.npy\n",
    "│   │   └── z_aggregated.npy\n",
    "...\n",
    "│   └── pvalues_mask.npy\n",
    "└── roi_table_filtered.csv\n",
    "```"
   ]
  },
  {
   "cell_type": "code",
   "execution_count": 1,
   "metadata": {},
   "outputs": [
    {
     "name": "stderr",
     "output_type": "stream",
     "text": [
      "/home/kmb/Desktop/Neuroscience/Projects/BONNA_decide_net/code/dn_utils/glm_utils.py:13: FutureWarning: \n",
      "\n",
      " | Starting with Nilearn 0.7.0, all Nistats functionality has been incorporated into Nilearn's stats & reporting modules.\n",
      " | Nistats package will no longer be updated or maintained.\n",
      "\n",
      "  from nistats import design_matrix\n"
     ]
    }
   ],
   "source": [
    "import json\n",
    "import os\n",
    "from os.path import join\n",
    "from itertools import product\n",
    "from pathlib import Path\n",
    "\n",
    "import matplotlib.pyplot as plt\n",
    "from tqdm.notebook import tqdm\n",
    "import numpy as np\n",
    "import pandas as pd\n",
    "\n",
    "from bct.algorithms.modularity import community_louvain\n",
    "from bct.algorithms.clustering import clustering_coef_wu\n",
    "from bct.algorithms.reference import randmio_und_signed\n",
    "from bct.algorithms.centrality import module_degree_zscore, participation_coef\n",
    "from bct.algorithms.distance import efficiency_wei\n",
    "from dn_utils.plotting import plot_matrix\n",
    "from scipy.stats import ttest_1samp\n",
    "from statsmodels.stats.multitest import fdrcorrection\n",
    "\n",
    "%matplotlib inline"
   ]
  },
  {
   "cell_type": "code",
   "execution_count": 2,
   "metadata": {},
   "outputs": [],
   "source": [
    "path_root = os.environ.get('DECIDENET_PATH')\n",
    "\n",
    "path_derivatives = join(path_root, 'data/main_fmri_study/derivatives')\n",
    "path_sourcedata = join(path_root, 'data/main_fmri_study/sourcedata') \n",
    "\n",
    "path_beh = join(path_sourcedata, 'behavioral')\n",
    "path_bsc = join(path_derivatives, 'bsc')\n",
    "path_nistats = join(path_derivatives, 'nistats')\n",
    "path_parcellations = join(path_derivatives, 'parcellations')\n",
    "\n",
    "path_corrmats = join(path_bsc, 'corrmats')"
   ]
  },
  {
   "cell_type": "code",
   "execution_count": 3,
   "metadata": {},
   "outputs": [],
   "source": [
    "def perc_connections(mats, rule, non_network_dims=[]):\n",
    "    '''...\n",
    "    \n",
    "    Args:\n",
    "        mats: \n",
    "            Networks...\n",
    "        rule (function)\n",
    "            ...\n",
    "        non_networks_dims\n",
    "    '''\n",
    "    # Calculate network dimensions\n",
    "    network_dims = set(range(len(mats.shape))) - set(non_network_dims)\n",
    "    n_rois = [mats.shape[dim] for dim in network_dims]\n",
    "    if len(n_rois) != 2 or n_rois[0] != n_rois[1]:\n",
    "        raise ValueError('wrong network dimensions')\n",
    "    n_rois = n_rois[0]\n",
    "\n",
    "    n_connections_rule = np.sum(rule(mats))\n",
    "    n_connections_all = (np.prod([mats.shape[dim] for dim in non_network_dims]) \n",
    "                         * n_rois * (n_rois + 1))\n",
    "    return n_connections_rule / n_connections_all"
   ]
  },
  {
   "cell_type": "markdown",
   "metadata": {},
   "source": [
    "## Settings"
   ]
  },
  {
   "cell_type": "code",
   "execution_count": 4,
   "metadata": {},
   "outputs": [],
   "source": [
    "atlas = 'combined_roi'\n",
    "\n",
    "# Thresholding\n",
    "alpha_fdr = 1e-0\n",
    "\n",
    "# Modularity\n",
    "louvain_gamma = 1.5\n",
    "louvain_B = 'negative_asym'\n",
    "louvain_reps = 1000\n",
    "\n",
    "# Create output paths\n",
    "alpha_fdr_str = str(alpha_fdr).replace(\"-\", \"\")\n",
    "louvain_gamma_str = str(float(louvain_gamma)).replace(\".\", \"_\")\n",
    "path_out = join(path_corrmats, atlas, f\"fdrthr_{alpha_fdr_str}\")\n",
    "path_out_measures = join(path_out, f\"gamma_{louvain_gamma_str}\")\n",
    "Path(path_out_measures).mkdir(exist_ok=True, parents=True)"
   ]
  },
  {
   "cell_type": "markdown",
   "metadata": {},
   "source": [
    "### Load data"
   ]
  },
  {
   "cell_type": "code",
   "execution_count": 5,
   "metadata": {},
   "outputs": [],
   "source": [
    "# Load correlation matrices and metadata\n",
    "corrmats_aggregated = np.load(join(path_corrmats, atlas, \n",
    "                                   'corrmats_aggregated.npy'))\n",
    "with open(join(path_corrmats, atlas, 'corrmats_aggregated.json'), 'r') as f:\n",
    "    meta = json.loads(f.read())\n",
    "\n",
    "# Load subject exclusion\n",
    "df_exclusion = pd.read_csv(join(path_nistats, 'exclusion/exclusion.csv'), \n",
    "                           index_col=0)\n",
    "ok_index = df_exclusion['ok_all']    \n",
    "    \n",
    "# Load ROI information\n",
    "df_roi = pd.read_csv(join(path_corrmats, atlas, 'roi_table_filtered.csv'))\n",
    "    \n",
    "n_subjects = len(meta['dim1'])\n",
    "n_conditions = len(meta['dim2'])\n",
    "n_perr_sign = len(meta['dim3'])\n",
    "n_rois = len(df_roi)"
   ]
  },
  {
   "cell_type": "markdown",
   "metadata": {},
   "source": [
    "### Threshold correlation matrices"
   ]
  },
  {
   "cell_type": "code",
   "execution_count": 7,
   "metadata": {},
   "outputs": [
    {
     "name": "stdout",
     "output_type": "stream",
     "text": [
      "==============Raw corrmats==============\n",
      "Nonzero connections:\n",
      "\t99.21%\n",
      "Positive connections:\n",
      "\t72.71%\n",
      "Negative connections:\n",
      "\t26.50%\n",
      "\n",
      "===========Stat thr. corrmats===========\n",
      "Retained connections:\n",
      "\t99.26%\n",
      "Positive connections:\n",
      "\t72.71%\n",
      "Negative connections:\n",
      "\t26.50%\n",
      "\n",
      "===========Full thr. corrmats===========\n",
      "Nonzero connections:\n",
      "\t99.21%\n",
      "Positive connections:\n",
      "\t72.71%\n",
      "Negative connections:\n",
      "\t26.50%\n"
     ]
    },
    {
     "data": {
      "image/png": "[encoded data removed]",
      "text/plain": [
       "<Figure size 720x720 with 2 Axes>"
      ]
     },
     "metadata": {},
     "output_type": "display_data"
    }
   ],
   "source": [
    "# Stack all conditions\n",
    "mats = corrmats_aggregated[ok_index]\n",
    "mats = np.reshape(mats, (mats.shape[0] * mats.shape[1] * mats.shape[2], \n",
    "                         mats.shape[3], mats.shape[4]))\n",
    "\n",
    "# Calculate statistical theshold\n",
    "pvalues = ttest_1samp(mats, popmean=0).pvalue\n",
    "pvalues_vec = pvalues[np.triu_indices(n_rois, k=1)]\n",
    "pvalues_mask = np.zeros((n_rois, n_rois)).astype('bool')\n",
    "pvalues_mask[np.triu_indices(n_rois, k=1)] = fdrcorrection(\n",
    "    pvalues_vec, \n",
    "    alpha=alpha_fdr)[0]\n",
    "pvalues_mask = pvalues_mask + pvalues_mask.T\n",
    "\n",
    "# Apply mask\n",
    "corrmats_aggregated_statthr = corrmats_aggregated * pvalues_mask\n",
    "\n",
    "# Remove remaininng negative connections\n",
    "corrmats_aggregated_fullthr = corrmats_aggregated_statthr \n",
    "# corrmats_aggregated_fullthr = (corrmats_aggregated_statthr \n",
    "#                                * (corrmats_aggregated_statthr > 0))\n",
    "\n",
    "# Calculate basic thresholding statistics\n",
    "perc_nonzero = perc_connections(\n",
    "    corrmats_aggregated, lambda x: (x>0)|(x<0), non_network_dims=[0, 1, 2])\n",
    "perc_positive = perc_connections(\n",
    "    corrmats_aggregated, lambda x: x>0, non_network_dims=[0, 1, 2])\n",
    "perc_negative = perc_connections(\n",
    "    corrmats_aggregated, lambda x: x<0, non_network_dims=[0, 1, 2])\n",
    "\n",
    "\n",
    "perc_statthr_retained = perc_connections(pvalues_mask, lambda x: x)\n",
    "perc_statthr_positive = perc_connections(\n",
    "    corrmats_aggregated_statthr, lambda x: x>0, non_network_dims=[0, 1, 2])\n",
    "perc_statthr_negative = perc_connections(\n",
    "    corrmats_aggregated_statthr, lambda x: x<0, non_network_dims=[0, 1, 2])\n",
    "\n",
    "perc_fullthr_nonzero = perc_connections(\n",
    "    corrmats_aggregated_fullthr, lambda x: (x>0)|(x<0), non_network_dims=[0, 1, 2])\n",
    "perc_fullthr_positive = perc_connections(\n",
    "    corrmats_aggregated_fullthr, lambda x: x>0, non_network_dims=[0, 1, 2])\n",
    "perc_fullthr_negative = perc_connections(\n",
    "    corrmats_aggregated_fullthr, lambda x: x<0, non_network_dims=[0, 1, 2])\n",
    "\n",
    "\n",
    "print('Raw corrmats'.center(40, '='))\n",
    "print(f'Nonzero connections:\\n\\t{perc_nonzero*100:.2f}%')\n",
    "print(f'Positive connections:\\n\\t{perc_positive*100:.2f}%')\n",
    "print(f'Negative connections:\\n\\t{perc_negative*100:.2f}%\\n')\n",
    "print('Stat thr. corrmats'.center(40, '='))\n",
    "print(f'Retained connections:\\n\\t{perc_statthr_retained*100:.2f}%')\n",
    "print(f'Positive connections:\\n\\t{perc_statthr_positive*100:.2f}%')\n",
    "print(f'Negative connections:\\n\\t{perc_statthr_negative*100:.2f}%\\n')\n",
    "print('Full thr. corrmats'.center(40, '='))\n",
    "print(f'Nonzero connections:\\n\\t{perc_fullthr_nonzero*100:.2f}%')\n",
    "print(f'Positive connections:\\n\\t{perc_fullthr_positive*100:.2f}%')\n",
    "print(f'Negative connections:\\n\\t{perc_fullthr_negative*100:.2f}%')\n",
    "\n",
    "plot_matrix(pvalues_mask)"
   ]
  },
  {
   "cell_type": "markdown",
   "metadata": {},
   "source": [
    "### Calculate measures"
   ]
  },
  {
   "cell_type": "code",
   "execution_count": 8,
   "metadata": {},
   "outputs": [
    {
     "data": {
      "application/vnd.jupyter.widget-view+json": {
       "model_id": "1f5359f0a57a45a0a5cd02af49853ad5",
       "version_major": 2,
       "version_minor": 0
      },
      "text/plain": [
       "  0%|          | 0/128 [00:00<?, ?it/s]"
      ]
     },
     "metadata": {},
     "output_type": "display_data"
    },
    {
     "name": "stderr",
     "output_type": "stream",
     "text": [
      "/home/kmb/miniconda3/envs/decidenet/lib/python3.8/site-packages/bct/algorithms/centrality.py:661: RuntimeWarning: invalid value encountered in true_divide\n",
      "  Z[np.where(ci == i)] = (Koi - np.mean(Koi)) / np.std(Koi)\n"
     ]
    }
   ],
   "source": [
    "m_aggregated = np.zeros((n_subjects, n_conditions, n_perr_sign, n_rois))\n",
    "q_aggregated = np.zeros((n_subjects, n_conditions, n_perr_sign))\n",
    "z_aggregated = np.zeros((n_subjects, n_conditions, n_perr_sign, n_rois))\n",
    "p_aggregated = np.zeros((n_subjects, n_conditions, n_perr_sign, n_rois))\n",
    "\n",
    "for sub_idx, con_idx, perr_sign_idx in tqdm(list(product(range(n_subjects), \n",
    "                                                         range(n_conditions), \n",
    "                                                         range(n_perr_sign)))):\n",
    "\n",
    "    corrmat = corrmats_aggregated_fullthr[sub_idx, con_idx, perr_sign_idx]\n",
    "    corrmat[np.diag_indices_from(corrmat)] = 0\n",
    "    \n",
    "    best_q = 0 \n",
    "    for _ in range(louvain_reps):\n",
    "        m, q = community_louvain(corrmat, gamma=louvain_gamma, B=louvain_B)\n",
    "        if q > best_q:\n",
    "            best_m = m\n",
    "            best_q = q\n",
    "    \n",
    "    # Within-module degree z-score\n",
    "    z_aggregated[sub_idx, con_idx, perr_sign_idx] = module_degree_zscore(\n",
    "        W=corrmat, \n",
    "        ci=best_m, \n",
    "        flag=0\n",
    "    )\n",
    "    \n",
    "    # Participation coefficient\n",
    "    p_aggregated[sub_idx, con_idx, perr_sign_idx] = participation_coef(\n",
    "        W=corrmat,\n",
    "        ci=best_m,\n",
    "        degree=\"undirected\"\n",
    "    )\n",
    "\n",
    "    # Store best values\n",
    "    m_aggregated[sub_idx, con_idx, perr_sign_idx] = best_m\n",
    "    q_aggregated[sub_idx, con_idx, perr_sign_idx] = best_q\n",
    "\n",
    "\n",
    "\n",
    "suffix = f\"gamma_{louvain_gamma_str}_fdrthr_{alpha_fdr_str}\"\n",
    "    \n",
    "np.save(join(path_out_measures, f\"m_aggregated.npy\"), m_aggregated)\n",
    "np.save(join(path_out_measures, f\"q_aggregated.npy\"), q_aggregated)\n",
    "np.save(join(path_out_measures, f\"z_aggregated.npy\"), z_aggregated)\n",
    "np.save(join(path_out_measures, f\"p_aggregated.npy\"), p_aggregated)\n",
    "np.save(join(path_out, f\"pvalues_mask.npy\"), pvalues_mask)"
   ]
  }
 ],
 "metadata": {
  "kernelspec": {
   "display_name": "Python 3",
   "language": "python",
   "name": "python3"
  },
  "language_info": {
   "codemirror_mode": {
    "name": "ipython",
    "version": 3
   },
   "file_extension": ".py",
   "mimetype": "text/x-python",
   "name": "python",
   "nbconvert_exporter": "python",
   "pygments_lexer": "ipython3",
   "version": "3.8.3"
  }
 },
 "nbformat": 4,
 "nbformat_minor": 4
}
