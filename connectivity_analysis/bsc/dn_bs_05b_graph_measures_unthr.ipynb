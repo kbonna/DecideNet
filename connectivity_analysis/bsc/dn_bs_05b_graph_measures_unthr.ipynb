{
 "cells": [
  {
   "cell_type": "markdown",
   "metadata": {},
   "source": [
    "# Graph measures\n",
    "\n",
    "This script is used to calculate relevant graph metrics on full connectivity matrices.\n",
    "\n",
    "### Graph metrics\n",
    "\n",
    "Graph measures related to modularity are calculated. First, community structure is discovered using `community_louvain` algorithm for undirected, weighted networks with positive connections. Canonical **modularity** quality function is used throughout the search. Module size is controlled by the `louvain_gamma` resolution parameter (default 1). Search is conducted `louvain_reps` times and the division with highest score is stored as a representative for a network. Then node-level measures of centrality – **within-module degree z-score** and **participation coeffiecient** (measuring diversity of intermodular connections) are calculated for each network."
   ]
  },
  {
   "cell_type": "code",
   "execution_count": 1,
   "metadata": {},
   "outputs": [
    {
     "name": "stderr",
     "output_type": "stream",
     "text": [
      "/home/kmb/Desktop/Neuroscience/Projects/BONNA_decide_net/code/dn_utils/glm_utils.py:13: FutureWarning: \n",
      "\n",
      " | Starting with Nilearn 0.7.0, all Nistats functionality has been incorporated into Nilearn's stats & reporting modules.\n",
      " | Nistats package will no longer be updated or maintained.\n",
      "\n",
      "  from nistats import design_matrix\n"
     ]
    }
   ],
   "source": [
    "import json\n",
    "import os\n",
    "from os.path import join\n",
    "from itertools import product\n",
    "from pathlib import Path\n",
    "\n",
    "import matplotlib.pyplot as plt\n",
    "from tqdm.notebook import tqdm\n",
    "import numpy as np\n",
    "import pandas as pd\n",
    "\n",
    "from bct.algorithms.modularity import community_louvain\n",
    "from bct.algorithms.clustering import clustering_coef_wu\n",
    "from bct.algorithms.reference import randmio_und_signed\n",
    "from bct.algorithms.centrality import module_degree_zscore, participation_coef\n",
    "from bct.algorithms.distance import efficiency_wei\n",
    "from dn_utils.plotting import plot_matrix\n",
    "from scipy.stats import ttest_1samp\n",
    "from statsmodels.stats.multitest import fdrcorrection\n",
    "\n",
    "%matplotlib inline"
   ]
  },
  {
   "cell_type": "code",
   "execution_count": 2,
   "metadata": {},
   "outputs": [],
   "source": [
    "path_root = os.environ.get('DECIDENET_PATH')\n",
    "\n",
    "path_derivatives = join(path_root, 'data/main_fmri_study/derivatives')\n",
    "path_sourcedata = join(path_root, 'data/main_fmri_study/sourcedata') \n",
    "\n",
    "path_beh = join(path_sourcedata, 'behavioral')\n",
    "path_bsc = join(path_derivatives, 'bsc')\n",
    "path_nistats = join(path_derivatives, 'nistats')\n",
    "path_parcellations = join(path_derivatives, 'parcellations')\n",
    "\n",
    "path_corrmats = join(path_bsc, 'corrmats')"
   ]
  },
  {
   "cell_type": "markdown",
   "metadata": {},
   "source": [
    "## Settings"
   ]
  },
  {
   "cell_type": "code",
   "execution_count": 3,
   "metadata": {},
   "outputs": [],
   "source": [
    "atlas = 'combined_roi'\n",
    "\n",
    "# Modularity\n",
    "louvain_B = 'negative_asym'\n",
    "louvain_reps = 100\n",
    "gamma_range = np.arange(0.5, 3.5, 0.25)\n",
    "\n",
    "# Create output paths\n",
    "path_out = join(path_corrmats, atlas, f\"unthr\")\n",
    "Path(path_out).mkdir(exist_ok=True, parents=True)"
   ]
  },
  {
   "cell_type": "markdown",
   "metadata": {},
   "source": [
    "### Load data"
   ]
  },
  {
   "cell_type": "code",
   "execution_count": 4,
   "metadata": {},
   "outputs": [],
   "source": [
    "# Load correlation matrices and metadata\n",
    "corrmats_aggregated = np.load(join(path_corrmats, atlas, \n",
    "                                   'corrmats_aggregated.npy'))\n",
    "with open(join(path_corrmats, atlas, 'corrmats_aggregated.json'), 'r') as f:\n",
    "    meta = json.loads(f.read())\n",
    "\n",
    "# Load subject exclusion\n",
    "df_exclusion = pd.read_csv(join(path_nistats, 'exclusion/exclusion.csv'), \n",
    "                           index_col=0)\n",
    "ok_index = df_exclusion['ok_all']    \n",
    "    \n",
    "# Load ROI information\n",
    "df_roi = pd.read_csv(join(path_corrmats, atlas, 'roi_table_filtered.csv'))\n",
    "    \n",
    "n_subjects = len(meta['dim1'])\n",
    "n_conditions = len(meta['dim2'])\n",
    "n_perr_sign = len(meta['dim3'])\n",
    "n_rois = len(df_roi)"
   ]
  },
  {
   "cell_type": "markdown",
   "metadata": {},
   "source": [
    "### Calculate measures"
   ]
  },
  {
   "cell_type": "code",
   "execution_count": 5,
   "metadata": {},
   "outputs": [
    {
     "name": "stdout",
     "output_type": "stream",
     "text": [
      "Calculating graph measures for 𝛾 = 0.5\n"
     ]
    },
    {
     "data": {
      "application/vnd.jupyter.widget-view+json": {
       "model_id": "1d26401517d64fc79727a8eeae9c99e5",
       "version_major": 2,
       "version_minor": 0
      },
      "text/plain": [
       "  0%|          | 0/128 [00:00<?, ?it/s]"
      ]
     },
     "metadata": {},
     "output_type": "display_data"
    },
    {
     "name": "stderr",
     "output_type": "stream",
     "text": [
      "/home/kmb/miniconda3/envs/decidenet/lib/python3.8/site-packages/bct/algorithms/centrality.py:661: RuntimeWarning: invalid value encountered in true_divide\n",
      "  Z[np.where(ci == i)] = (Koi - np.mean(Koi)) / np.std(Koi)\n"
     ]
    },
    {
     "name": "stdout",
     "output_type": "stream",
     "text": [
      "Calculating graph measures for 𝛾 = 0.75\n"
     ]
    },
    {
     "data": {
      "application/vnd.jupyter.widget-view+json": {
       "model_id": "2426b9d6ee454cfab317691be258521e",
       "version_major": 2,
       "version_minor": 0
      },
      "text/plain": [
       "  0%|          | 0/128 [00:00<?, ?it/s]"
      ]
     },
     "metadata": {},
     "output_type": "display_data"
    },
    {
     "name": "stdout",
     "output_type": "stream",
     "text": [
      "Calculating graph measures for 𝛾 = 1.0\n"
     ]
    },
    {
     "data": {
      "application/vnd.jupyter.widget-view+json": {
       "model_id": "7078bce1bcbf403ab822798b19d15624",
       "version_major": 2,
       "version_minor": 0
      },
      "text/plain": [
       "  0%|          | 0/128 [00:00<?, ?it/s]"
      ]
     },
     "metadata": {},
     "output_type": "display_data"
    },
    {
     "name": "stdout",
     "output_type": "stream",
     "text": [
      "Calculating graph measures for 𝛾 = 1.25\n"
     ]
    },
    {
     "data": {
      "application/vnd.jupyter.widget-view+json": {
       "model_id": "828b9f650c33447284b569df48717c8e",
       "version_major": 2,
       "version_minor": 0
      },
      "text/plain": [
       "  0%|          | 0/128 [00:00<?, ?it/s]"
      ]
     },
     "metadata": {},
     "output_type": "display_data"
    },
    {
     "name": "stdout",
     "output_type": "stream",
     "text": [
      "Calculating graph measures for 𝛾 = 1.5\n"
     ]
    },
    {
     "data": {
      "application/vnd.jupyter.widget-view+json": {
       "model_id": "bb3e4b643e7348c98c21ae07c53a9652",
       "version_major": 2,
       "version_minor": 0
      },
      "text/plain": [
       "  0%|          | 0/128 [00:00<?, ?it/s]"
      ]
     },
     "metadata": {},
     "output_type": "display_data"
    },
    {
     "name": "stdout",
     "output_type": "stream",
     "text": [
      "Calculating graph measures for 𝛾 = 1.75\n"
     ]
    },
    {
     "data": {
      "application/vnd.jupyter.widget-view+json": {
       "model_id": "5c159f23a58b4b07b10c8d613b2e1afc",
       "version_major": 2,
       "version_minor": 0
      },
      "text/plain": [
       "  0%|          | 0/128 [00:00<?, ?it/s]"
      ]
     },
     "metadata": {},
     "output_type": "display_data"
    },
    {
     "name": "stdout",
     "output_type": "stream",
     "text": [
      "Calculating graph measures for 𝛾 = 2.0\n"
     ]
    },
    {
     "data": {
      "application/vnd.jupyter.widget-view+json": {
       "model_id": "ae5bcb839ef548e29190cdf6082d322b",
       "version_major": 2,
       "version_minor": 0
      },
      "text/plain": [
       "  0%|          | 0/128 [00:00<?, ?it/s]"
      ]
     },
     "metadata": {},
     "output_type": "display_data"
    },
    {
     "name": "stdout",
     "output_type": "stream",
     "text": [
      "Calculating graph measures for 𝛾 = 2.25\n"
     ]
    },
    {
     "data": {
      "application/vnd.jupyter.widget-view+json": {
       "model_id": "8b1733b661fe4c81981aec1bafd8fd4d",
       "version_major": 2,
       "version_minor": 0
      },
      "text/plain": [
       "  0%|          | 0/128 [00:00<?, ?it/s]"
      ]
     },
     "metadata": {},
     "output_type": "display_data"
    },
    {
     "name": "stdout",
     "output_type": "stream",
     "text": [
      "Calculating graph measures for 𝛾 = 2.5\n"
     ]
    },
    {
     "data": {
      "application/vnd.jupyter.widget-view+json": {
       "model_id": "1e1e52a28c86463eaa0a5497e8cc9771",
       "version_major": 2,
       "version_minor": 0
      },
      "text/plain": [
       "  0%|          | 0/128 [00:00<?, ?it/s]"
      ]
     },
     "metadata": {},
     "output_type": "display_data"
    },
    {
     "name": "stdout",
     "output_type": "stream",
     "text": [
      "Calculating graph measures for 𝛾 = 2.75\n"
     ]
    },
    {
     "data": {
      "application/vnd.jupyter.widget-view+json": {
       "model_id": "493a2af2ce24440f9e69294cc5d7cdd8",
       "version_major": 2,
       "version_minor": 0
      },
      "text/plain": [
       "  0%|          | 0/128 [00:00<?, ?it/s]"
      ]
     },
     "metadata": {},
     "output_type": "display_data"
    },
    {
     "name": "stdout",
     "output_type": "stream",
     "text": [
      "Calculating graph measures for 𝛾 = 3.0\n"
     ]
    },
    {
     "data": {
      "application/vnd.jupyter.widget-view+json": {
       "model_id": "b9f3d787fc4849b29eb4ae43809a794d",
       "version_major": 2,
       "version_minor": 0
      },
      "text/plain": [
       "  0%|          | 0/128 [00:00<?, ?it/s]"
      ]
     },
     "metadata": {},
     "output_type": "display_data"
    },
    {
     "name": "stdout",
     "output_type": "stream",
     "text": [
      "Calculating graph measures for 𝛾 = 3.25\n"
     ]
    },
    {
     "data": {
      "application/vnd.jupyter.widget-view+json": {
       "model_id": "29ad6b540735408884e0915c51d5b5e8",
       "version_major": 2,
       "version_minor": 0
      },
      "text/plain": [
       "  0%|          | 0/128 [00:00<?, ?it/s]"
      ]
     },
     "metadata": {},
     "output_type": "display_data"
    }
   ],
   "source": [
    "for gamma in gamma_range:\n",
    "    \n",
    "    print(f\"Calculating graph measures for 𝛾 = {gamma}\")\n",
    "    \n",
    "    gamma_str = str(float(gamma)).replace('.', '_')\n",
    "    path_out_gamma = join(path_out, f\"gamma_{gamma_str}\")\n",
    "    Path(path_out_gamma).mkdir(exist_ok=True)\n",
    "\n",
    "    m_aggregated = np.zeros((n_subjects, n_conditions, n_perr_sign, n_rois))\n",
    "    q_aggregated = np.zeros((n_subjects, n_conditions, n_perr_sign))\n",
    "    z_aggregated = np.zeros((n_subjects, n_conditions, n_perr_sign, n_rois))\n",
    "    p_aggregated = np.zeros((n_subjects, n_conditions, n_perr_sign, n_rois))\n",
    "\n",
    "    iters = product(range(n_subjects), range(n_conditions), range(n_perr_sign))\n",
    "    for sub_idx, con_idx, perr_sign_idx in tqdm(list(iters)):\n",
    "\n",
    "        corrmat = corrmats_aggregated[sub_idx, con_idx, perr_sign_idx]\n",
    "        corrmat[np.diag_indices_from(corrmat)] = 0\n",
    "\n",
    "        best_q = 0 \n",
    "        for _ in range(louvain_reps):\n",
    "            m, q = community_louvain(corrmat, gamma=gamma, B=louvain_B)\n",
    "            if q > best_q:\n",
    "                best_m = m\n",
    "                best_q = q\n",
    "\n",
    "        # Within-module degree z-score\n",
    "        z_aggregated[sub_idx, con_idx, perr_sign_idx] = module_degree_zscore(\n",
    "            W=corrmat, ci=best_m, flag=0)\n",
    "\n",
    "        # Participation coefficient\n",
    "        p_aggregated[sub_idx, con_idx, perr_sign_idx] = participation_coef(\n",
    "            W=corrmat, ci=best_m, degree=\"undirected\")\n",
    "\n",
    "        # Store best values\n",
    "        m_aggregated[sub_idx, con_idx, perr_sign_idx] = best_m\n",
    "        q_aggregated[sub_idx, con_idx, perr_sign_idx] = best_q\n",
    "\n",
    "\n",
    "    np.save(join(path_out_gamma, f\"m_aggregated.npy\"), m_aggregated)\n",
    "    np.save(join(path_out_gamma, f\"q_aggregated.npy\"), q_aggregated)\n",
    "    np.save(join(path_out_gamma, f\"z_aggregated.npy\"), z_aggregated)\n",
    "    np.save(join(path_out_gamma, f\"p_aggregated.npy\"), p_aggregated)"
   ]
  }
 ],
 "metadata": {
  "kernelspec": {
   "display_name": "Python 3",
   "language": "python",
   "name": "python3"
  },
  "language_info": {
   "codemirror_mode": {
    "name": "ipython",
    "version": 3
   },
   "file_extension": ".py",
   "mimetype": "text/x-python",
   "name": "python",
   "nbconvert_exporter": "python",
   "pygments_lexer": "ipython3",
   "version": "3.8.3"
  }
 },
 "nbformat": 4,
 "nbformat_minor": 4
}
