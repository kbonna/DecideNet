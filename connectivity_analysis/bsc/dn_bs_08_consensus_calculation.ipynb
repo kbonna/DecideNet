{
 "cells": [
  {
   "cell_type": "markdown",
   "id": "distinct-husband",
   "metadata": {},
   "source": [
    "# Calculate consensus partitions"
   ]
  },
  {
   "cell_type": "code",
   "execution_count": 1,
   "id": "veterinary-cutting",
   "metadata": {},
   "outputs": [],
   "source": [
    "import json\n",
    "from os.path import join\n",
    "\n",
    "import numpy as np\n",
    "import pandas as pd\n",
    "from bct.algorithms.clustering import agreement, consensus_und\n",
    "from dn_utils.path import path\n",
    "from tqdm.notebook import tqdm"
   ]
  },
  {
   "cell_type": "code",
   "execution_count": 2,
   "id": "solid-ethics",
   "metadata": {},
   "outputs": [],
   "source": [
    "atlas = \"combined_roi\"\n",
    "gamma_range = np.arange(0.25, 0.5, 0.5)\n",
    "\n",
    "consensus_tau = 0.5\n",
    "consensus_reps = 1_000"
   ]
  },
  {
   "cell_type": "code",
   "execution_count": 3,
   "id": "removable-minority",
   "metadata": {},
   "outputs": [],
   "source": [
    "# Load graph measures\n",
    "path_corrmats = join(path[\"bsc\"], \"corrmats\")\n",
    "path_corrmats_unthr = join(path_corrmats, atlas, \"unthr\")\n",
    "\n",
    "m = {}\n",
    "for gamma in gamma_range:\n",
    "    gamma_str = str(float(gamma)).replace(\".\", \"_\")\n",
    "    path_corrmats_unthr_gamma = join(path_corrmats_unthr, f\"gamma_{gamma_str}\")\n",
    "    m[gamma] = np.load(join(path_corrmats_unthr_gamma, \"m_aggregated.npy\"))\n",
    "\n",
    "# Load subject exclusion\n",
    "df_exclusion = pd.read_csv(join(path[\"nistats\"], \"exclusion/exclusion.csv\"), \n",
    "                           index_col=0)\n",
    "ok_index = df_exclusion[\"ok_all\"]\n",
    "\n",
    "# Meta information about corrmats dimensions\n",
    "with open(join(path_corrmats, atlas, \"corrmats_aggregated.json\"), \"r\") as f:\n",
    "    corrmats_meta = json.loads(f.read()) \n",
    "    \n",
    "n_subjects_ok = sum(ok_index)\n",
    "n_conditions = len(corrmats_meta[\"dim2\"])\n",
    "n_perr_sign = len(corrmats_meta[\"dim3\"])\n",
    "n_roi = len(corrmats_meta[\"dim4\"])"
   ]
  },
  {
   "cell_type": "code",
   "execution_count": 4,
   "id": "straight-torture",
   "metadata": {},
   "outputs": [
    {
     "name": "stdout",
     "output_type": "stream",
     "text": [
      "γ = 0.25\n"
     ]
    },
    {
     "data": {
      "application/vnd.jupyter.widget-view+json": {
       "model_id": "7e9e99afdca2414081c99124b02e449a",
       "version_major": 2,
       "version_minor": 0
      },
      "text/plain": [
       "  0%|          | 0/5 [00:00<?, ?it/s]"
      ]
     },
     "metadata": {},
     "output_type": "display_data"
    }
   ],
   "source": [
    "for gamma in gamma_range:\n",
    "\n",
    "    print(f\"γ = {gamma}\")\n",
    "    \n",
    "    consensus = {}\n",
    "    \n",
    "    mt = m[gamma][ok_index]\n",
    "    m_all = np.reshape(mt, (n_subjects_ok * n_conditions * n_perr_sign, n_roi))\n",
    "    m_rew = np.reshape(mt[:, 0], (n_subjects_ok * n_perr_sign, n_roi))\n",
    "    m_pun = np.reshape(mt[:, 1], (n_subjects_ok * n_perr_sign, n_roi))\n",
    "    m_inc = np.reshape(mt[:, :, 0], (n_subjects_ok * n_perr_sign, n_roi))\n",
    "    m_dec = np.reshape(mt[:, :, 1], (n_subjects_ok * n_perr_sign, n_roi))\n",
    "\n",
    "    for k, v in tqdm([(\"all\", m_all), (\"rew\", m_rew), (\"pun\", m_pun), \n",
    "                      (\"inc\", m_inc), (\"dec\", m_dec)]):\n",
    "\n",
    "        D = agreement(v.T) / len(v)\n",
    "        consensus_array = consensus_und(\n",
    "            D, tau=consensus_tau, reps=consensus_reps)\n",
    "        \n",
    "        # Coerce to int so it is JSON serializable\n",
    "        consensus[k] = [int(i) for i in consensus_array]\n",
    "    \n",
    "    # Save as JSON file\n",
    "    consensus[\"consensus_reps\"] = consensus_reps\n",
    "    gamma_str = str(float(gamma)).replace(\".\", \"_\")\n",
    "    tau_str = str(float(consensus_tau)).replace(\".\", \"_\")    \n",
    "    path_corrmats_unthr_gamma = join(path_corrmats_unthr, f\"gamma_{gamma_str}\")\n",
    "    path_json = join(path_corrmats_unthr_gamma, f\"consensus_tau_{tau_str}.json\")\n",
    "        \n",
    "    with open(path_json, \"w\") as f:\n",
    "        f.write(json.dumps(consensus, indent=2))"
   ]
  }
 ],
 "metadata": {
  "kernelspec": {
   "display_name": "Python 3",
   "language": "python",
   "name": "python3"
  },
  "language_info": {
   "codemirror_mode": {
    "name": "ipython",
    "version": 3
   },
   "file_extension": ".py",
   "mimetype": "text/x-python",
   "name": "python",
   "nbconvert_exporter": "python",
   "pygments_lexer": "ipython3",
   "version": "3.8.3"
  }
 },
 "nbformat": 4,
 "nbformat_minor": 5
}
