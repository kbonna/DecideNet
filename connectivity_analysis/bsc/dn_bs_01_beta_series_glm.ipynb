{
 "cells": [
  {
   "cell_type": "code",
   "execution_count": 6,
   "metadata": {},
   "outputs": [],
   "source": [
    "import sys\n",
    "import os\n",
    "import matplotlib.pyplot as plt\n",
    "import pandas as pd\n",
    "import numpy as np\n",
    "from os.path import join \n",
    "import json\n",
    "\n",
    "import nibabel as nib\n",
    "from nilearn.plotting import plot_stat_map, plot_anat, plot_img, show\n",
    "\n",
    "from nistats.first_level_model import FirstLevelModel\n",
    "from nistats.reporting import plot_design_matrix, make_glm_report\n",
    "from nistats.thresholding import map_threshold\n",
    "from nistats.design_matrix import make_first_level_design_matrix\n",
    "\n",
    "path_root = os.environ.get('DECIDENET_PATH')\n",
    "path_code = os.path.join(path_root, 'code')\n",
    "if path_code not in sys.path:\n",
    "    sys.path.append(path_code)\n",
    "from dn_utils.behavioral_models import load_behavioral_data                    \n",
    "from dn_utils.glm_utils import Regressor, my_make_first_level_design_matrix\n",
    "\n",
    "%matplotlib inline"
   ]
  },
  {
   "cell_type": "code",
   "execution_count": 14,
   "metadata": {},
   "outputs": [],
   "source": [
    "path_sourcedata = join(path_root, 'data/main_fmri_study/sourcedata')\n",
    "path_derivatives = join(path_root, 'data/main_fmri_study/derivatives') \n",
    "\n",
    "path_data_paths = join(path_derivatives, 'data_paths')\n",
    "path_beh = join(path_sourcedata, 'behavioral')"
   ]
  },
  {
   "cell_type": "code",
   "execution_count": 20,
   "metadata": {},
   "outputs": [
    {
     "name": "stdout",
     "output_type": "stream",
     "text": [
      "Shape of beh array: (32, 2, 110, 23)\n",
      "Conditions [(0, 'rew'), (1, 'pun')]\n",
      "Columns: [(0, 'block'), (1, 'block_bci'), (2, 'side'), (3, 'side_bci'), (4, 'magn_left'), (5, 'magn_right'), (6, 'response'), (7, 'rt'), (8, 'won_bool'), (9, 'won_magn'), (10, 'acc_after_trial'), (11, 'onset_iti'), (12, 'onset_iti_plan'), (13, 'onset_iti_glob'), (14, 'onset_dec'), (15, 'onset_dec_plan'), (16, 'onset_dec_glob'), (17, 'onset_isi'), (18, 'onset_isi_plan'), (19, 'onset_isi_glob'), (20, 'onset_out'), (21, 'onset_out_plan'), (22, 'onset_out_glob')]\n"
     ]
    }
   ],
   "source": [
    "# Load behavioral data\n",
    "beh, meta = load_behavioral_data(path=path_beh)\n",
    "\n",
    "# Load path to data files\n",
    "with open(join(path_data_paths, 'fmri_filenames.json'), 'r') as f:\n",
    "    fmri_files = json.loads(f.read())\n",
    "with open(join(path_data_paths, 'conf_filenames.json'), 'r') as f:\n",
    "    conf_files = json.loads(f.read())\n",
    "with open(join(path_data_paths, 'mask_filenames.json'), 'r') as f:\n",
    "    mask_files = json.loads(f.read())    "
   ]
  },
  {
   "cell_type": "code",
   "execution_count": 24,
   "metadata": {},
   "outputs": [],
   "source": [
    "# Times of image acquisition in seconds\n",
    "n_scans, t_r = 730, 2\n",
    "frame_times = np.arange(n_scans) * t_r\n",
    "\n",
    "# GLM parameters\n",
    "glm_kwargs = {\n",
    "    't_r': 2,\n",
    "    'hrf_model': 'spm',\n",
    "    'drift_model': 'cosine',\n",
    "    'noise_model': 'ar1',\n",
    "    'high_pass': 0.0078125, \n",
    "    'standardize': True,\n",
    "    'smoothing_fwhm': 6,\n",
    "}\n",
    "\n",
    "# Later loop over these\n",
    "sub, sub_idx = 'm02', 0\n",
    "con, con_idx = 'prlrew', 0\n",
    "trial = 0"
   ]
  },
  {
   "cell_type": "code",
   "execution_count": 29,
   "metadata": {},
   "outputs": [],
   "source": [
    "# Load subject data\n",
    "fmri_img = nib.load(fmri_files[con][sub_idx])\n",
    "\n",
    "confounds = pd.read_csv(conf_files[con][sub_idx], sep='\\t')\n",
    "confounds = confounds.filter(regex='trans|rot')\n",
    "confounds.index = frame_times # Standard time representation (in seconds)\n",
    "\n"
   ]
  },
  {
   "cell_type": "code",
   "execution_count": 31,
   "metadata": {},
   "outputs": [
    {
     "data": {
      "text/plain": [
       "'rew'"
      ]
     },
     "execution_count": 31,
     "metadata": {},
     "output_type": "execute_result"
    }
   ],
   "source": [
    "con_label"
   ]
  }
 ],
 "metadata": {
  "kernelspec": {
   "display_name": "Python 3",
   "language": "python",
   "name": "python3"
  },
  "language_info": {
   "codemirror_mode": {
    "name": "ipython",
    "version": 3
   },
   "file_extension": ".py",
   "mimetype": "text/x-python",
   "name": "python",
   "nbconvert_exporter": "python",
   "pygments_lexer": "ipython3",
   "version": "3.8.3"
  }
 },
 "nbformat": 4,
 "nbformat_minor": 4
}
