{
 "cells": [
  {
   "cell_type": "code",
   "execution_count": null,
   "metadata": {},
   "outputs": [],
   "source": [
    "import os\n",
    "from os.path import join\n",
    "\n",
    "import matplotlib.pyplot as plt\n",
    "import numpy as np\n",
    "import pandas as pd\n",
    "\n",
    "from bct.algorithms.modularity import community_louvain"
   ]
  },
  {
   "cell_type": "code",
   "execution_count": null,
   "metadata": {},
   "outputs": [],
   "source": [
    "path_root = os.environ.get('DECIDENET_PATH')\n",
    "\n",
    "path_derivatives = join(path_root, 'data/main_fmri_study/derivatives')\n",
    "path_sourcedata = join(path_root, 'data/main_fmri_study/sourcedata') \n",
    "\n",
    "path_beh = join(path_sourcedata, 'behavioral')\n",
    "path_bsc = join(path_derivatives, 'bsc')\n",
    "path_nistats = join(path_derivatives, 'nistats')\n",
    "path_parcellations = join(path_derivatives, 'parcellations')\n",
    "\n",
    "path_corrmats = join(path_bsc, 'corrmats')"
   ]
  },
  {
   "cell_type": "markdown",
   "metadata": {},
   "source": [
    "## Settings"
   ]
  },
  {
   "cell_type": "code",
   "execution_count": null,
   "metadata": {},
   "outputs": [],
   "source": [
    "n_reps = 100\n",
    "gamma = 1.5\n",
    "B = 'negative_asym'\n",
    "atlas = '300_ROI_Set'"
   ]
  },
  {
   "cell_type": "code",
   "execution_count": null,
   "metadata": {},
   "outputs": [],
   "source": [
    "# Load data\n",
    "corrmats_aggregated = np.load(join(path_corrmats, atlas, \n",
    "                                   'corrmats_aggregated.npy'))\n",
    "n_subjects, n_conditions, n_perr_sign, n_rois, _ = corrmats_aggregated.shape\n",
    "\n",
    "df_roi = pd.read_csv(join(path_corrmats, atlas, 'corrmats_aggregated.csv'))"
   ]
  },
  {
   "cell_type": "code",
   "execution_count": null,
   "metadata": {},
   "outputs": [],
   "source": [
    "m_aggregated = np.zeros((n_subjects, n_conditions, n_perr_sign, n_rois))\n",
    "q_aggregated = np.zeros((n_subjects, n_conditions, n_perr_sign))\n",
    "\n",
    "for sub_idx in range(n_subjects):\n",
    "    for con_idx in range(n_conditions):\n",
    "        for perr_sign_idx in range(n_perr_sign):\n",
    "\n",
    "            best_q = 0 \n",
    "            for _ in range(n_reps):\n",
    "                m, q = community_louvain(\n",
    "                    corrmats_aggregated[sub_idx, con_idx, perr_sign_idx], \n",
    "                    B=B, \n",
    "                    gamma=gamma\n",
    "                )\n",
    "                if q > best_q:\n",
    "                    best_m = m\n",
    "                    best_q = q\n",
    "            # Store best values\n",
    "            m_aggregated[sub_idx, con_idx, perr_sign_idx] = best_m\n",
    "            q_aggregated[sub_idx, con_idx, perr_sign_idx] = best_q\n",
    "\n",
    "# Save results\n",
    "np.save(join(path_corrmats, atlas, 'm_aggregated.npy'), \n",
    "        community_aggregated)\n",
    "np.save(join(path_corrmats, atlas, 'q_aggregated.npy'), \n",
    "        q_aggregated)"
   ]
  }
 ],
 "metadata": {
  "kernelspec": {
   "display_name": "Python 3",
   "language": "python",
   "name": "python3"
  },
  "language_info": {
   "codemirror_mode": {
    "name": "ipython",
    "version": 3
   },
   "file_extension": ".py",
   "mimetype": "text/x-python",
   "name": "python",
   "nbconvert_exporter": "python",
   "pygments_lexer": "ipython3",
   "version": "3.8.3"
  }
 },
 "nbformat": 4,
 "nbformat_minor": 4
}
