{
 "cells": [
  {
   "cell_type": "code",
   "execution_count": 1,
   "metadata": {},
   "outputs": [],
   "source": [
    "import os\n",
    "from os.path import join\n",
    "\n",
    "import matplotlib.pyplot as plt\n",
    "import numpy as np\n",
    "import pandas as pd\n",
    "\n",
    "from bct.algorithms.modularity import community_louvain"
   ]
  },
  {
   "cell_type": "code",
   "execution_count": 2,
   "metadata": {},
   "outputs": [],
   "source": [
    "path_root = os.environ.get('DECIDENET_PATH')\n",
    "\n",
    "path_derivatives = join(path_root, 'data/main_fmri_study/derivatives')\n",
    "path_sourcedata = join(path_root, 'data/main_fmri_study/sourcedata') \n",
    "\n",
    "path_beh = join(path_sourcedata, 'behavioral')\n",
    "path_bsc = join(path_derivatives, 'bsc')\n",
    "path_nistats = join(path_derivatives, 'nistats')\n",
    "path_parcellations = join(path_derivatives, 'parcellations')\n",
    "\n",
    "path_corrmats = join(path_bsc, 'corrmats')"
   ]
  },
  {
   "cell_type": "markdown",
   "metadata": {},
   "source": [
    "## Settings"
   ]
  },
  {
   "cell_type": "code",
   "execution_count": 3,
   "metadata": {},
   "outputs": [],
   "source": [
    "n_reps = 100\n",
    "gamma = 1.5\n",
    "B = 'negative_asym'\n",
    "atlas = '300_ROI_Set'"
   ]
  },
  {
   "cell_type": "code",
   "execution_count": 4,
   "metadata": {},
   "outputs": [],
   "source": [
    "# Load data\n",
    "corrmats_aggregated = np.load(join(path_corrmats, atlas, \n",
    "                                   'corrmats_aggregated.npy'))\n",
    "n_subjects, n_conditions, n_perr_sign, n_rois, _ = corrmats_aggregated.shape\n",
    "\n",
    "# Load ROI information\n",
    "df_roi = pd.read_csv(join(path_corrmats, atlas, 'roi_table_filtered.csv'))"
   ]
  },
  {
   "cell_type": "code",
   "execution_count": 5,
   "metadata": {},
   "outputs": [
    {
     "name": "stderr",
     "output_type": "stream",
     "text": [
      "/home/kmb/miniconda3/envs/decidenet/lib/python3.8/site-packages/bct/algorithms/modularity.py:129: RuntimeWarning: invalid value encountered in greater\n",
      "  W0 = W * (W > 0)\n",
      "/home/kmb/miniconda3/envs/decidenet/lib/python3.8/site-packages/bct/algorithms/modularity.py:133: RuntimeWarning: invalid value encountered in less\n",
      "  W1 = -W * (W < 0)\n"
     ]
    },
    {
     "ename": "NameError",
     "evalue": "name 'community_aggregated' is not defined",
     "output_type": "error",
     "traceback": [
      "\u001b[0;31m---------------------------------------------------------------------------\u001b[0m",
      "\u001b[0;31mNameError\u001b[0m                                 Traceback (most recent call last)",
      "\u001b[0;32m<ipython-input-5-8831a0b7b73e>\u001b[0m in \u001b[0;36m<module>\u001b[0;34m\u001b[0m\n\u001b[1;32m     22\u001b[0m \u001b[0;31m# Save results\u001b[0m\u001b[0;34m\u001b[0m\u001b[0;34m\u001b[0m\u001b[0;34m\u001b[0m\u001b[0m\n\u001b[1;32m     23\u001b[0m np.save(join(path_corrmats, atlas, 'm_aggregated.npy'), \n\u001b[0;32m---> 24\u001b[0;31m         community_aggregated)\n\u001b[0m\u001b[1;32m     25\u001b[0m np.save(join(path_corrmats, atlas, 'q_aggregated.npy'), \n\u001b[1;32m     26\u001b[0m         q_aggregated)\n",
      "\u001b[0;31mNameError\u001b[0m: name 'community_aggregated' is not defined"
     ]
    }
   ],
   "source": [
    "m_aggregated = np.zeros((n_subjects, n_conditions, n_perr_sign, n_rois))\n",
    "q_aggregated = np.zeros((n_subjects, n_conditions, n_perr_sign))\n",
    "\n",
    "for sub_idx in range(n_subjects):\n",
    "    for con_idx in range(n_conditions):\n",
    "        for perr_sign_idx in range(n_perr_sign):\n",
    "\n",
    "            best_q = 0 \n",
    "            for _ in range(n_reps):\n",
    "                m, q = community_louvain(\n",
    "                    corrmats_aggregated[sub_idx, con_idx, perr_sign_idx], \n",
    "                    B=B, \n",
    "                    gamma=gamma\n",
    "                )\n",
    "                if q > best_q:\n",
    "                    best_m = m\n",
    "                    best_q = q\n",
    "            # Store best values\n",
    "            m_aggregated[sub_idx, con_idx, perr_sign_idx] = best_m\n",
    "            q_aggregated[sub_idx, con_idx, perr_sign_idx] = best_q\n",
    "\n",
    "# Save results\n",
    "np.save(join(path_corrmats, atlas, 'm_aggregated.npy'), \n",
    "        m_aggregated)\n",
    "np.save(join(path_corrmats, atlas, 'q_aggregated.npy'), \n",
    "        q_aggregated)"
   ]
  }
 ],
 "metadata": {
  "kernelspec": {
   "display_name": "Python 3",
   "language": "python",
   "name": "python3"
  },
  "language_info": {
   "codemirror_mode": {
    "name": "ipython",
    "version": 3
   },
   "file_extension": ".py",
   "mimetype": "text/x-python",
   "name": "python",
   "nbconvert_exporter": "python",
   "pygments_lexer": "ipython3",
   "version": "3.8.3"
  }
 },
 "nbformat": 4,
 "nbformat_minor": 4
}
