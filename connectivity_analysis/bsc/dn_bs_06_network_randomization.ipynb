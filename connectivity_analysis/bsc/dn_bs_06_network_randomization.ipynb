{
 "cells": [
  {
   "cell_type": "markdown",
   "metadata": {},
   "source": [
    "# Network randomization\n",
    "\n",
    "Here, permutation testing is used to asess significant connectivity between LSNs. Association between two LSNs is considered significant when mean connection strenght between them is higher that 95% values from null distribution. \n",
    "\n",
    "Null distribution of between LSN connectivity is calculated using `n_nulls` random networks. Each random network have same total strenght and degree distribution (but not strenght distribution) as original network. Algorithm to rewire network edges `randmio_und` comes from BCT. Each edge is rewired approximately `n_rewirings` times. "
   ]
  },
  {
   "cell_type": "code",
   "execution_count": 1,
   "metadata": {},
   "outputs": [
    {
     "name": "stderr",
     "output_type": "stream",
     "text": [
      "/home/kmb/Desktop/Neuroscience/Projects/BONNA_decide_net/code/dn_utils/glm_utils.py:13: FutureWarning: \n",
      "\n",
      " | Starting with Nilearn 0.7.0, all Nistats functionality has been incorporated into Nilearn's stats & reporting modules.\n",
      " | Nistats package will no longer be updated or maintained.\n",
      "\n",
      "  from nistats import design_matrix\n"
     ]
    }
   ],
   "source": [
    "import json\n",
    "import os\n",
    "import pathlib\n",
    "from os.path import join\n",
    "\n",
    "from tqdm.notebook import tqdm\n",
    "import matplotlib.pyplot as plt\n",
    "import numpy as np\n",
    "import pandas as pd\n",
    "\n",
    "from bct.algorithms.reference import randmio_und_signed\n",
    "from bct.utils import BCTParamError\n",
    "from dn_utils.plotting import plot_matrix\n",
    "from dn_utils.path import path\n",
    "\n",
    "%matplotlib inline"
   ]
  },
  {
   "cell_type": "code",
   "execution_count": 2,
   "metadata": {},
   "outputs": [],
   "source": [
    "path_root = os.environ.get(\"DECIDENET_PATH\")\n",
    "\n",
    "path_derivatives = join(path_root, \"data/main_fmri_study/derivatives\")\n",
    "path_sourcedata = join(path_root, \"data/main_fmri_study/sourcedata\") \n",
    "\n",
    "path_beh = join(path_sourcedata, \"behavioral\")\n",
    "path_bsc = join(path_derivatives, \"bsc\")\n",
    "path_nistats = join(path_derivatives, \"nistats\")\n",
    "path_parcellations = join(path_derivatives, \"parcellations\")\n",
    "\n",
    "path_corrmats = join(path_bsc, \"corrmats\")"
   ]
  },
  {
   "cell_type": "code",
   "execution_count": 3,
   "metadata": {},
   "outputs": [],
   "source": [
    "# Input networks\n",
    "atlas = \"combined_roi\"\n",
    "\n",
    "# Randomization options\n",
    "n_nulls = 50\n",
    "n_rewirings = 4\n",
    "\n",
    "# Create output paths\n",
    "path_out = join(path_corrmats, atlas, \"unthr\")\n",
    "path_nulls = join(path_out, \"nulls\")\n",
    "pathlib.Path(path_nulls).mkdir(exist_ok=True)"
   ]
  },
  {
   "cell_type": "code",
   "execution_count": 4,
   "metadata": {},
   "outputs": [],
   "source": [
    "# Load correlation matrices and metadata\n",
    "corrmats_aggregated = np.load(join(path_corrmats, atlas, \n",
    "                                   \"corrmats_aggregated.npy\"))\n",
    "with open(join(path_corrmats, atlas, \"corrmats_aggregated.json\"), \"r\") as f:\n",
    "    meta = json.loads(f.read())\n",
    "\n",
    "# Load subject exclusion\n",
    "df_exclusion = pd.read_csv(join(path_nistats, \"exclusion/exclusion.csv\"), \n",
    "                           index_col=0)\n",
    "ok_index = df_exclusion[\"ok_all\"]    \n",
    "    \n",
    "# Load ROI information\n",
    "df_roi = pd.read_csv(join(path_corrmats, atlas, \"roi_table_filtered.csv\"))\n",
    "netnames = df_roi[\"netName\"].unique()\n",
    "\n",
    "n_subjects = len(meta[\"dim1\"])\n",
    "n_conditions = len(meta[\"dim2\"])\n",
    "n_perr_sign = len(meta[\"dim3\"])\n",
    "n_rois = len(df_roi)\n",
    "n_nets = len(netnames)"
   ]
  },
  {
   "cell_type": "code",
   "execution_count": 5,
   "metadata": {},
   "outputs": [
    {
     "name": "stdout",
     "output_type": "stream",
     "text": [
      "Subject: m02\n"
     ]
    },
    {
     "data": {
      "application/vnd.jupyter.widget-view+json": {
       "model_id": "ce3664f769de46a497147827eb47940b",
       "version_major": 2,
       "version_minor": 0
      },
      "text/plain": [
       "  0%|          | 0/50 [00:00<?, ?it/s]"
      ]
     },
     "metadata": {},
     "output_type": "display_data"
    },
    {
     "data": {
      "application/vnd.jupyter.widget-view+json": {
       "model_id": "021f41288bf14779b1764171e3bf2a82",
       "version_major": 2,
       "version_minor": 0
      },
      "text/plain": [
       "  0%|          | 0/50 [00:00<?, ?it/s]"
      ]
     },
     "metadata": {},
     "output_type": "display_data"
    },
    {
     "ename": "KeyboardInterrupt",
     "evalue": "",
     "output_type": "error",
     "traceback": [
      "\u001b[0;31m---------------------------------------------------------------------------\u001b[0m",
      "\u001b[0;31mKeyboardInterrupt\u001b[0m                         Traceback (most recent call last)",
      "\u001b[0;32m<ipython-input-5-d6166d4f13c0>\u001b[0m in \u001b[0;36m<module>\u001b[0;34m\u001b[0m\n\u001b[1;32m     16\u001b[0m                 \u001b[0;31m# Randomize network\u001b[0m\u001b[0;34m\u001b[0m\u001b[0;34m\u001b[0m\u001b[0;34m\u001b[0m\u001b[0m\n\u001b[1;32m     17\u001b[0m                 \u001b[0;32mtry\u001b[0m\u001b[0;34m:\u001b[0m\u001b[0;34m\u001b[0m\u001b[0;34m\u001b[0m\u001b[0m\n\u001b[0;32m---> 18\u001b[0;31m                     \u001b[0mcorrmat_null\u001b[0m\u001b[0;34m,\u001b[0m \u001b[0m_\u001b[0m  \u001b[0;34m=\u001b[0m \u001b[0mrandmio_und_signed\u001b[0m\u001b[0;34m(\u001b[0m\u001b[0mcorrmat\u001b[0m\u001b[0;34m,\u001b[0m \u001b[0mn_rewirings\u001b[0m\u001b[0;34m)\u001b[0m\u001b[0;34m\u001b[0m\u001b[0;34m\u001b[0m\u001b[0m\n\u001b[0m\u001b[1;32m     19\u001b[0m                 \u001b[0;32mexcept\u001b[0m \u001b[0mBCTParamError\u001b[0m\u001b[0;34m:\u001b[0m\u001b[0;34m\u001b[0m\u001b[0;34m\u001b[0m\u001b[0m\n\u001b[1;32m     20\u001b[0m                     \u001b[0;31m# In case of non-symmetrical matrix from failed acquisition\u001b[0m\u001b[0;34m\u001b[0m\u001b[0;34m\u001b[0m\u001b[0;34m\u001b[0m\u001b[0m\n",
      "\u001b[0;32m~/miniconda3/envs/decidenet/lib/python3.8/site-packages/bct/algorithms/reference.py\u001b[0m in \u001b[0;36mrandmio_und_signed\u001b[0;34m(R, itr, seed)\u001b[0m\n\u001b[1;32m   1593\u001b[0m         \u001b[0;32mwhile\u001b[0m \u001b[0matt\u001b[0m \u001b[0;34m<=\u001b[0m \u001b[0mmax_attempts\u001b[0m\u001b[0;34m:\u001b[0m\u001b[0;34m\u001b[0m\u001b[0;34m\u001b[0m\u001b[0m\n\u001b[1;32m   1594\u001b[0m \u001b[0;34m\u001b[0m\u001b[0m\n\u001b[0;32m-> 1595\u001b[0;31m             \u001b[0ma\u001b[0m\u001b[0;34m,\u001b[0m \u001b[0mb\u001b[0m\u001b[0;34m,\u001b[0m \u001b[0mc\u001b[0m\u001b[0;34m,\u001b[0m \u001b[0md\u001b[0m \u001b[0;34m=\u001b[0m \u001b[0mpick_four_unique_nodes_quickly\u001b[0m\u001b[0;34m(\u001b[0m\u001b[0mn\u001b[0m\u001b[0;34m,\u001b[0m \u001b[0mrng\u001b[0m\u001b[0;34m)\u001b[0m\u001b[0;34m\u001b[0m\u001b[0;34m\u001b[0m\u001b[0m\n\u001b[0m\u001b[1;32m   1596\u001b[0m \u001b[0;34m\u001b[0m\u001b[0m\n\u001b[1;32m   1597\u001b[0m             \u001b[0mr0_ab\u001b[0m \u001b[0;34m=\u001b[0m \u001b[0mR\u001b[0m\u001b[0;34m[\u001b[0m\u001b[0ma\u001b[0m\u001b[0;34m,\u001b[0m \u001b[0mb\u001b[0m\u001b[0;34m]\u001b[0m\u001b[0;34m\u001b[0m\u001b[0;34m\u001b[0m\u001b[0m\n",
      "\u001b[0;32m~/miniconda3/envs/decidenet/lib/python3.8/site-packages/bct/utils/miscellaneous_utilities.py\u001b[0m in \u001b[0;36mpick_four_unique_nodes_quickly\u001b[0;34m(n, seed)\u001b[0m\n\u001b[1;32m     27\u001b[0m     '''\n\u001b[1;32m     28\u001b[0m     \u001b[0mrng\u001b[0m \u001b[0;34m=\u001b[0m \u001b[0mget_rng\u001b[0m\u001b[0;34m(\u001b[0m\u001b[0mseed\u001b[0m\u001b[0;34m)\u001b[0m\u001b[0;34m\u001b[0m\u001b[0;34m\u001b[0m\u001b[0m\n\u001b[0;32m---> 29\u001b[0;31m     \u001b[0mk\u001b[0m \u001b[0;34m=\u001b[0m \u001b[0mrng\u001b[0m\u001b[0;34m.\u001b[0m\u001b[0mrandint\u001b[0m\u001b[0;34m(\u001b[0m\u001b[0mn\u001b[0m\u001b[0;34m**\u001b[0m\u001b[0;36m4\u001b[0m\u001b[0;34m)\u001b[0m\u001b[0;34m\u001b[0m\u001b[0;34m\u001b[0m\u001b[0m\n\u001b[0m\u001b[1;32m     30\u001b[0m     \u001b[0ma\u001b[0m \u001b[0;34m=\u001b[0m \u001b[0mk\u001b[0m \u001b[0;34m%\u001b[0m \u001b[0mn\u001b[0m\u001b[0;34m\u001b[0m\u001b[0;34m\u001b[0m\u001b[0m\n\u001b[1;32m     31\u001b[0m     \u001b[0mb\u001b[0m \u001b[0;34m=\u001b[0m \u001b[0mk\u001b[0m \u001b[0;34m//\u001b[0m \u001b[0mn\u001b[0m \u001b[0;34m%\u001b[0m \u001b[0mn\u001b[0m\u001b[0;34m\u001b[0m\u001b[0;34m\u001b[0m\u001b[0m\n",
      "\u001b[0;31mKeyboardInterrupt\u001b[0m: "
     ]
    }
   ],
   "source": [
    "netmats_null = np.zeros(\n",
    "    (n_subjects, n_conditions, n_perr_sign, n_nulls, n_nets, n_nets))\n",
    "\n",
    "for sub_idx, sub in enumerate(meta[\"dim1\"]): \n",
    "    print(f\"Subject: {sub}\")\n",
    "    \n",
    "    for con_idx, con in enumerate(meta[\"dim2\"]):\n",
    "        for perr_sign_idx, perr_sign in enumerate(meta[\"dim3\"]):\n",
    "\n",
    "            # Extract correlation matrix & clean diagonal\n",
    "            corrmat = corrmats_aggregated[sub_idx, con_idx, perr_sign_idx]\n",
    "            corrmat[np.diag_indices_from(corrmat)] = 0\n",
    "\n",
    "            for rep in tqdm(range(n_nulls)):\n",
    "\n",
    "                # Randomize network\n",
    "                try:\n",
    "                    corrmat_null, _  = randmio_und_signed(corrmat, n_rewirings)\n",
    "                except BCTParamError:\n",
    "                    # In case of non-symmetrical matrix from failed acquisition\n",
    "                    corrmat_null = np.zeros((n_rois, n_rois))\n",
    "\n",
    "                # Calculate lsn mean connectivity & store\n",
    "                _, netmat_null = networks_mean(corrmat_null, df_roi[\"netName\"])\n",
    "            \n",
    "                netmats_null[sub_idx, con_idx, perr_sign_idx, rep, :, :] = \\\n",
    "                    netmat_null\n",
    "\n",
    "np.save(join(path_nulls, \"netmats_null_001.npy\"), netmats_null)"
   ]
  }
 ],
 "metadata": {
  "kernelspec": {
   "display_name": "Python 3",
   "language": "python",
   "name": "python3"
  },
  "language_info": {
   "codemirror_mode": {
    "name": "ipython",
    "version": 3
   },
   "file_extension": ".py",
   "mimetype": "text/x-python",
   "name": "python",
   "nbconvert_exporter": "python",
   "pygments_lexer": "ipython3",
   "version": "3.8.3"
  }
 },
 "nbformat": 4,
 "nbformat_minor": 4
}
