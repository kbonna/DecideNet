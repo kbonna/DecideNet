{
 "cells": [
  {
   "cell_type": "code",
   "execution_count": 1,
   "metadata": {},
   "outputs": [
    {
     "name": "stderr",
     "output_type": "stream",
     "text": [
      "/home/kmb/Desktop/Neuroscience/Projects/BONNA_decide_net/code/dn_utils/glm_utils.py:13: FutureWarning: \n",
      "\n",
      " | Starting with Nilearn 0.7.0, all Nistats functionality has been incorporated into Nilearn's stats & reporting modules.\n",
      " | Nistats package will no longer be updated or maintained.\n",
      "\n",
      "  from nistats import design_matrix\n"
     ]
    }
   ],
   "source": [
    "import os\n",
    "from os.path import join\n",
    "from pathlib import Path\n",
    "import json\n",
    "\n",
    "import matplotlib.pyplot as plt\n",
    "import numpy as np\n",
    "import pandas as pd\n",
    "import seaborn as sns\n",
    "\n",
    "from scipy.io import savemat\n",
    "from bct.algorithms.clustering import agreement, consensus_und\n",
    "from dn_utils.networks import networks_mean\n",
    "from dn_utils.plotting import plot_matrix, aligned_imshow_cbar\n",
    "\n",
    "%matplotlib inline"
   ]
  },
  {
   "cell_type": "code",
   "execution_count": 2,
   "metadata": {},
   "outputs": [],
   "source": [
    "path_root = os.environ.get(\"DECIDENET_PATH\")\n",
    "\n",
    "path_derivatives = join(path_root, \"data/main_fmri_study/derivatives\")\n",
    "path_sourcedata = join(path_root, \"data/main_fmri_study/sourcedata\") \n",
    "\n",
    "path_beh = join(path_sourcedata, \"behavioral\")\n",
    "path_bsc = join(path_derivatives, \"bsc\")\n",
    "path_nistats = join(path_derivatives, \"nistats\")\n",
    "path_parcellations = join(path_derivatives, \"parcellations\")\n",
    "\n",
    "path_corrmats = join(path_bsc, \"corrmats\")"
   ]
  },
  {
   "cell_type": "markdown",
   "metadata": {},
   "source": [
    "### Settings"
   ]
  },
  {
   "cell_type": "code",
   "execution_count": 3,
   "metadata": {},
   "outputs": [],
   "source": [
    "atlas = \"combined_roi\"\n",
    "alpha_fdr = 1e-10"
   ]
  },
  {
   "cell_type": "markdown",
   "metadata": {},
   "source": [
    "### Load data"
   ]
  },
  {
   "cell_type": "code",
   "execution_count": 4,
   "metadata": {},
   "outputs": [],
   "source": [
    "alpha_fdr_str = str(alpha_fdr).replace(\"-\", \"\")\n",
    "path_fdrthr = join(path_corrmats, f\"{atlas}/fdrthr_{alpha_fdr_str}\")\n",
    "\n",
    "# Load correlation matrices and metadata\n",
    "corrmats_aggregated = np.load(join(path_corrmats, atlas, \n",
    "                                   \"corrmats_aggregated.npy\"))\n",
    "with open(join(path_corrmats, atlas, \"corrmats_aggregated.json\"), \"r\") as f:\n",
    "    corrmats_meta = json.loads(f.read()) \n",
    "    \n",
    "n_subjects = len(corrmats_meta[\"dim1\"])\n",
    "n_conditions = len(corrmats_meta[\"dim2\"])\n",
    "n_perr_sign = len(corrmats_meta[\"dim3\"])\n",
    "n_roi = len(corrmats_meta[\"dim4\"])\n",
    "    \n",
    "# Load subject exclusion\n",
    "df_exclusion = pd.read_csv(join(path_nistats, \"exclusion/exclusion.csv\"), \n",
    "                           index_col=0)\n",
    "ok_index = df_exclusion[\"ok_all\"]\n",
    "n_subjects_ok = sum(ok_index)\n",
    "\n",
    "# Load statistical threshold\n",
    "pvalues_mask = np.load(join(path_fdrthr, \"pvalues_mask.npy\"))\n",
    "\n",
    "# Load ROI information\n",
    "df_roi = pd.read_csv(join(path_corrmats, atlas, \"roi_table_filtered.csv\"), \n",
    "                    index_col=0)\n",
    "df_roi = df_roi.reset_index()\n",
    "\n",
    "# Apply thresholding\n",
    "corrmats_aggregated_thr = corrmats_aggregated * (corrmats_aggregated > 0)\n",
    "corrmats_aggregated_thr = corrmats_aggregated_thr * pvalues_mask"
   ]
  },
  {
   "cell_type": "code",
   "execution_count": 5,
   "metadata": {},
   "outputs": [
    {
     "name": "stdout",
     "output_type": "stream",
     "text": [
      "perr_sign_idx: 0 sub: 0\n",
      "perr_sign_idx: 0 sub: 1\n",
      "perr_sign_idx: 0 sub: 2\n",
      "perr_sign_idx: 0 sub: 3\n",
      "perr_sign_idx: 0 sub: 4\n",
      "perr_sign_idx: 0 sub: 5\n",
      "perr_sign_idx: 0 sub: 6\n",
      "perr_sign_idx: 0 sub: 7\n",
      "perr_sign_idx: 0 sub: 8\n",
      "perr_sign_idx: 0 sub: 9\n",
      "perr_sign_idx: 0 sub: 10\n",
      "perr_sign_idx: 0 sub: 11\n",
      "perr_sign_idx: 0 sub: 12\n",
      "perr_sign_idx: 0 sub: 13\n",
      "perr_sign_idx: 0 sub: 14\n",
      "perr_sign_idx: 0 sub: 15\n",
      "perr_sign_idx: 0 sub: 16\n",
      "perr_sign_idx: 0 sub: 17\n",
      "perr_sign_idx: 0 sub: 18\n",
      "perr_sign_idx: 0 sub: 19\n",
      "perr_sign_idx: 0 sub: 20\n",
      "perr_sign_idx: 0 sub: 21\n",
      "perr_sign_idx: 0 sub: 22\n",
      "perr_sign_idx: 0 sub: 23\n",
      "perr_sign_idx: 0 sub: 24\n",
      "perr_sign_idx: 0 sub: 25\n",
      "perr_sign_idx: 0 sub: 26\n",
      "perr_sign_idx: 0 sub: 27\n",
      "perr_sign_idx: 0 sub: 28\n",
      "perr_sign_idx: 1 sub: 0\n",
      "perr_sign_idx: 1 sub: 1\n",
      "perr_sign_idx: 1 sub: 2\n",
      "perr_sign_idx: 1 sub: 3\n",
      "perr_sign_idx: 1 sub: 4\n",
      "perr_sign_idx: 1 sub: 5\n",
      "perr_sign_idx: 1 sub: 6\n",
      "perr_sign_idx: 1 sub: 7\n",
      "perr_sign_idx: 1 sub: 8\n",
      "perr_sign_idx: 1 sub: 9\n",
      "perr_sign_idx: 1 sub: 10\n",
      "perr_sign_idx: 1 sub: 11\n",
      "perr_sign_idx: 1 sub: 12\n",
      "perr_sign_idx: 1 sub: 13\n",
      "perr_sign_idx: 1 sub: 14\n",
      "perr_sign_idx: 1 sub: 15\n",
      "perr_sign_idx: 1 sub: 16\n",
      "perr_sign_idx: 1 sub: 17\n",
      "perr_sign_idx: 1 sub: 18\n",
      "perr_sign_idx: 1 sub: 19\n",
      "perr_sign_idx: 1 sub: 20\n",
      "perr_sign_idx: 1 sub: 21\n",
      "perr_sign_idx: 1 sub: 22\n",
      "perr_sign_idx: 1 sub: 23\n",
      "perr_sign_idx: 1 sub: 24\n",
      "perr_sign_idx: 1 sub: 25\n",
      "perr_sign_idx: 1 sub: 26\n",
      "perr_sign_idx: 1 sub: 27\n",
      "perr_sign_idx: 1 sub: 28\n"
     ]
    }
   ],
   "source": [
    "path_nbs = join(path_fdrthr, \"nbs\")\n",
    "Path(path_nbs).mkdir(exist_ok=True)\n",
    "\n",
    "corrmats_nbs_perr_sign = np.zeros((n_roi, n_roi, n_subjects_ok * 2))\n",
    "\n",
    "k = 0\n",
    "for perr_sign_idx in range(n_perr_sign):\n",
    "    for sub_idx in range(n_subjects_ok):\n",
    "        print(f\"perr_sign_idx: {perr_sign_idx}\", f\"sub: {sub_idx}\")\n",
    "        corrmats_nbs_perr_sign[:, :, k] = np.mean(\n",
    "            corrmats_aggregated_thr[sub_idx, :, perr_sign_idx], \n",
    "            axis=0)\n",
    "        k += 1\n",
    "            \n",
    "savemat(\n",
    "    file_name=join(path_nbs, \"corrmats_perr_sign_stacked.mat\"),\n",
    "    mdict={\"corrmats_perr_sign_stacked\": corrmats_nbs_perr_sign}\n",
    ")"
   ]
  },
  {
   "cell_type": "code",
   "execution_count": 6,
   "metadata": {},
   "outputs": [],
   "source": [
    "# Create design matrix\n",
    "reg_con_1 = np.repeat([1, 0], n_subjects_ok)[:, np.newaxis]\n",
    "reg_con_2 = 1 - reg_con_1\n",
    "regs_sub = np.tile(np.eye(n_subjects_ok), 2).T\n",
    "reg_intercept = np.ones((n_subjects_ok * 2, 1))\n",
    "\n",
    "dm = np.hstack((\n",
    "    reg_con_1, \n",
    "    reg_con_2, \n",
    "    regs_sub, \n",
    "    reg_intercept,\n",
    "))\n",
    "\n",
    "savemat(\n",
    "    file_name=join(path_nbs, \"design_matrix.mat\"),\n",
    "    mdict={\"dm\": dm}\n",
    ")\n",
    "\n",
    "savemat(\n",
    "    file_name=join(path_nbs, \"coordinates.mat\"),\n",
    "    mdict={\"rois\": df_roi[[\"x\", \"y\", \"z\"]].values}\n",
    ")"
   ]
  },
  {
   "cell_type": "code",
   "execution_count": 7,
   "metadata": {},
   "outputs": [
    {
     "data": {
      "text/plain": [
       "<matplotlib.image.AxesImage at 0x7f29b6ce4c70>"
      ]
     },
     "execution_count": 7,
     "metadata": {},
     "output_type": "execute_result"
    },
    {
     "data": {
      "image/png": "[encoded data removed]",
      "text/plain": [
       "<Figure size 720x360 with 1 Axes>"
      ]
     },
     "metadata": {
      "needs_background": "light"
     },
     "output_type": "display_data"
    }
   ],
   "source": [
    "fig, ax = plt.subplots(figsize=(10, 5))\n",
    "ax.imshow(dm, aspect=\"auto\", interpolation=\"none\")"
   ]
  }
 ],
 "metadata": {
  "kernelspec": {
   "display_name": "Python 3",
   "language": "python",
   "name": "python3"
  },
  "language_info": {
   "codemirror_mode": {
    "name": "ipython",
    "version": 3
   },
   "file_extension": ".py",
   "mimetype": "text/x-python",
   "name": "python",
   "nbconvert_exporter": "python",
   "pygments_lexer": "ipython3",
   "version": "3.8.3"
  }
 },
 "nbformat": 4,
 "nbformat_minor": 4
}
