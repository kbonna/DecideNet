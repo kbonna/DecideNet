{
 "cells": [
  {
   "cell_type": "code",
   "execution_count": 1,
   "id": "completed-pantyhose",
   "metadata": {},
   "outputs": [
    {
     "name": "stderr",
     "output_type": "stream",
     "text": [
      "/home/kmb/Desktop/Neuroscience/Projects/BONNA_decide_net/code/dn_utils/glm_utils.py:13: FutureWarning: \n",
      "\n",
      " | Starting with Nilearn 0.7.0, all Nistats functionality has been incorporated into Nilearn's stats & reporting modules.\n",
      " | Nistats package will no longer be updated or maintained.\n",
      "\n",
      "  from nistats import design_matrix\n"
     ]
    }
   ],
   "source": [
    "import os\n",
    "import json\n",
    "from os.path import join\n",
    "\n",
    "import matplotlib.pyplot as plt\n",
    "import numpy as np\n",
    "import pandas as pd\n",
    "import seaborn as sns\n",
    "\n",
    "from tqdm.notebook import tqdm\n",
    "from dn_utils.behavioral_models import load_behavioral_data\n",
    "from dn_utils.plotting import aligned_imshow_cbar, plot_matrix\n",
    "from dn_utils.networks import networks_mean, agreemenet_networks\n",
    "from dn_utils.style import ORANGE, BLUE, POWER_COLORS, lighten_color\n",
    "from dn_utils.misc import tidy_data\n",
    "from dn_utils.path import path\n",
    "\n",
    "from bct.algorithms.clustering import agreement\n",
    "\n",
    "from statsmodels.stats.multitest import fdrcorrection\n",
    "from scipy.stats import pearsonr, ttest_rel\n",
    "\n",
    "%matplotlib inline"
   ]
  },
  {
   "cell_type": "code",
   "execution_count": 2,
   "id": "mysterious-messenger",
   "metadata": {},
   "outputs": [],
   "source": [
    "path_corrmats = join(path[\"bsc\"], \"corrmats\")"
   ]
  },
  {
   "cell_type": "markdown",
   "id": "collective-honduras",
   "metadata": {},
   "source": [
    "### Settings"
   ]
  },
  {
   "cell_type": "code",
   "execution_count": 3,
   "id": "proof-albania",
   "metadata": {},
   "outputs": [],
   "source": [
    "n_nulls = 10_000\n",
    "gamma_range = np.arange(1.25, 3.5, 0.25)\n",
    "\n",
    "atlas = \"combined_roi\""
   ]
  },
  {
   "cell_type": "code",
   "execution_count": 4,
   "id": "contained-wonder",
   "metadata": {},
   "outputs": [],
   "source": [
    "# Load behavioral data\n",
    "beh, meta = load_behavioral_data(path[\"behavioral\"], verbose=False)\n",
    "\n",
    "# Load correlation matrices and metadata\n",
    "corrmats_aggregated = np.load(\n",
    "    join(path_corrmats, atlas, \"corrmats_aggregated.npy\"))\n",
    "with open(join(path_corrmats, atlas, \"corrmats_aggregated.json\"), \"r\") as f:\n",
    "    corrmats_meta = json.loads(f.read()) \n",
    "\n",
    "# Load subject exclusion\n",
    "df_exclusion = pd.read_csv(\n",
    "    join(path[\"nistats\"], \"exclusion/exclusion.csv\"), index_col=0)\n",
    "ok_index = df_exclusion[\"ok_all\"]\n",
    "\n",
    "# Load ROI information\n",
    "df_roi = pd.read_csv(\n",
    "    join(path_corrmats, atlas, \"roi_table_filtered.csv\"), index_col=0)\n",
    "df_roi = df_roi.reset_index()\n",
    "\n",
    "n_nets = len(df_roi[\"netName\"].unique())"
   ]
  },
  {
   "cell_type": "code",
   "execution_count": 5,
   "id": "distinguished-software",
   "metadata": {},
   "outputs": [
    {
     "name": "stdout",
     "output_type": "stream",
     "text": [
      "[ 0  0  0  0  0  0  0  0  0  0  0  0  0  0  0  0  0  0  0  0  0  0  0  0\n",
      "  0  0  0  0  0  0  0  1  1  1  1  1  1  1  1  2  2  2  2  2  2  2  2  2\n",
      "  2  2  2  2  2  2  2  2  2  2  2  2  2  2  3  3  3  3  3  3  3  3  3  3\n",
      "  4  4  4  4  4  4  4  4  4  4  4  4  4  4  4  4  4  4  4  4  4  4  4  4\n",
      "  4  4  4  4  4  4  4  4  4  4  4  5  5  5  5  5  5  5  5  5  5  5  5  5\n",
      "  5  6  6  6  6  6  6  6  7  7  7  7  7  7  7  7  7  7  7  7  7  7  7  7\n",
      "  7  7  7  7  7  8  8  8  8  9  9  9  9  9  9  9  9  9  9  9  9  9  9  9\n",
      "  9  9  9  9  9  9 10 10 10 10 10 10 10 10 10 11 11 11 11 11 11 11 11 11\n",
      " 11 11 11 11 11 11 11 11 11 11 11 11 11 11 11 11 11 11 11 11 11 11 11 11\n",
      " 11 11 11 11 11 11 11 11 11 11 11 11 11 11 11 11 11 11 11 11 11 12 12 12\n",
      " 12 12 12 12 12 12 12 12 12 12 12 13 13 13 13 14 14 14 14 14 14 14 14 14\n",
      " 14 14 14 14]\n"
     ]
    }
   ],
   "source": [
    "network_names = df_roi[\"netName\"].unique() \n",
    "mapping = {net: i for i, net in enumerate(network_names)}\n",
    "\n",
    "nets = np.array(df_roi[\"netName\"].map(mapping))\n",
    "nets_unique = mapping.values()\n",
    "print(nets)"
   ]
  },
  {
   "cell_type": "markdown",
   "id": "august-senior",
   "metadata": {},
   "source": [
    "### Randomize networks"
   ]
  },
  {
   "cell_type": "code",
   "execution_count": 6,
   "id": "smart-blast",
   "metadata": {},
   "outputs": [
    {
     "name": "stdout",
     "output_type": "stream",
     "text": [
      "1.25\n"
     ]
    },
    {
     "data": {
      "application/vnd.jupyter.widget-view+json": {
       "model_id": "5ef6393c20c643eda60bcdab44c6edff",
       "version_major": 2,
       "version_minor": 0
      },
      "text/plain": [
       "  0%|          | 0/32 [00:00<?, ?it/s]"
      ]
     },
     "metadata": {},
     "output_type": "display_data"
    },
    {
     "name": "stdout",
     "output_type": "stream",
     "text": [
      "1.5\n"
     ]
    },
    {
     "data": {
      "application/vnd.jupyter.widget-view+json": {
       "model_id": "a51d1527aea04fdb925c47d7fdabd472",
       "version_major": 2,
       "version_minor": 0
      },
      "text/plain": [
       "  0%|          | 0/32 [00:00<?, ?it/s]"
      ]
     },
     "metadata": {},
     "output_type": "display_data"
    },
    {
     "name": "stdout",
     "output_type": "stream",
     "text": [
      "1.75\n"
     ]
    },
    {
     "data": {
      "application/vnd.jupyter.widget-view+json": {
       "model_id": "47c04284b8f24937b3d156a8bae7f190",
       "version_major": 2,
       "version_minor": 0
      },
      "text/plain": [
       "  0%|          | 0/32 [00:00<?, ?it/s]"
      ]
     },
     "metadata": {},
     "output_type": "display_data"
    },
    {
     "name": "stdout",
     "output_type": "stream",
     "text": [
      "2.0\n"
     ]
    },
    {
     "data": {
      "application/vnd.jupyter.widget-view+json": {
       "model_id": "98cd6f31312f497eb4cd42e3e3935d60",
       "version_major": 2,
       "version_minor": 0
      },
      "text/plain": [
       "  0%|          | 0/32 [00:00<?, ?it/s]"
      ]
     },
     "metadata": {},
     "output_type": "display_data"
    },
    {
     "name": "stdout",
     "output_type": "stream",
     "text": [
      "2.25\n"
     ]
    },
    {
     "data": {
      "application/vnd.jupyter.widget-view+json": {
       "model_id": "7ef28d610338414dabf1b2909c3d8038",
       "version_major": 2,
       "version_minor": 0
      },
      "text/plain": [
       "  0%|          | 0/32 [00:00<?, ?it/s]"
      ]
     },
     "metadata": {},
     "output_type": "display_data"
    },
    {
     "name": "stdout",
     "output_type": "stream",
     "text": [
      "2.5\n"
     ]
    },
    {
     "data": {
      "application/vnd.jupyter.widget-view+json": {
       "model_id": "c9f4fb20566146ef8411f7f92f20cc83",
       "version_major": 2,
       "version_minor": 0
      },
      "text/plain": [
       "  0%|          | 0/32 [00:00<?, ?it/s]"
      ]
     },
     "metadata": {},
     "output_type": "display_data"
    },
    {
     "name": "stdout",
     "output_type": "stream",
     "text": [
      "2.75\n"
     ]
    },
    {
     "data": {
      "application/vnd.jupyter.widget-view+json": {
       "model_id": "854525dd514849a1a824b6fd034a3083",
       "version_major": 2,
       "version_minor": 0
      },
      "text/plain": [
       "  0%|          | 0/32 [00:00<?, ?it/s]"
      ]
     },
     "metadata": {},
     "output_type": "display_data"
    },
    {
     "name": "stdout",
     "output_type": "stream",
     "text": [
      "3.0\n"
     ]
    },
    {
     "data": {
      "application/vnd.jupyter.widget-view+json": {
       "model_id": "359b1ddfc59a4dd289348cb1e6f7f09b",
       "version_major": 2,
       "version_minor": 0
      },
      "text/plain": [
       "  0%|          | 0/32 [00:00<?, ?it/s]"
      ]
     },
     "metadata": {},
     "output_type": "display_data"
    },
    {
     "name": "stdout",
     "output_type": "stream",
     "text": [
      "3.25\n"
     ]
    },
    {
     "data": {
      "application/vnd.jupyter.widget-view+json": {
       "model_id": "9a6c8dcbfcec4b3ea6ad03e882b213fc",
       "version_major": 2,
       "version_minor": 0
      },
      "text/plain": [
       "  0%|          | 0/32 [00:00<?, ?it/s]"
      ]
     },
     "metadata": {},
     "output_type": "display_data"
    }
   ],
   "source": [
    "for gamma in gamma_range:\n",
    "    print(gamma)\n",
    "\n",
    "    gamma_str = str(float(gamma)).replace('.', '_')\n",
    "    path_graph = join(path_corrmats, atlas, \"unthr\", f\"gamma_{gamma_str}\")\n",
    "\n",
    "    # Load graph metrics\n",
    "    m_aggregated = np.load(join(path_graph, \"m_aggregated.npy\"))\n",
    "    q_aggregated = np.load(join(path_graph, \"q_aggregated.npy\"))\n",
    "    z_aggregated = np.load(join(path_graph, \"z_aggregated.npy\"))\n",
    "    p_aggregated = np.load(join(path_graph, \"p_aggregated.npy\"))\n",
    "\n",
    "    n_subjects, n_conditions, n_perr_sign, n_roi = m_aggregated.shape\n",
    "\n",
    "    d = np.zeros(corrmats_aggregated.shape)\n",
    "    d_networks = np.zeros(corrmats_aggregated.shape[:3] + (n_nets, n_nets))\n",
    "    d_networks_null = np.zeros((n_nulls, ) + d_networks.shape)\n",
    "\n",
    "    network_names = list(df_roi[\"netName\"].unique())\n",
    "\n",
    "    for sub_idx in tqdm(range(n_subjects)):\n",
    "        for con_idx in range(n_conditions):\n",
    "            for perr_sign_idx in range(n_perr_sign):\n",
    "\n",
    "                m = m_aggregated[sub_idx, con_idx, perr_sign_idx]\n",
    "                \n",
    "                # Agreement averaged over LSN pairs\n",
    "                d_networks[sub_idx, con_idx, perr_sign_idx] = \\\n",
    "                    agreemenet_networks(m, nets, nets_unique)\n",
    "\n",
    "                for rep in range(n_nulls):\n",
    "                    np.random.shuffle(m)\n",
    "                    d_networks_null[rep, sub_idx, con_idx, perr_sign_idx] = \\\n",
    "                        agreemenet_networks(m, nets, nets_unique)\n",
    "                    \n",
    "    np.save(join(path_graph, \"d_networks_null.npy\"), d_networks_null)\n",
    "    np.save(join(path_graph, \"d_networks.npy\"), d_networks)\n",
    "    "
   ]
  }
 ],
 "metadata": {
  "kernelspec": {
   "display_name": "Python 3",
   "language": "python",
   "name": "python3"
  },
  "language_info": {
   "codemirror_mode": {
    "name": "ipython",
    "version": 3
   },
   "file_extension": ".py",
   "mimetype": "text/x-python",
   "name": "python",
   "nbconvert_exporter": "python",
   "pygments_lexer": "ipython3",
   "version": "3.8.3"
  }
 },
 "nbformat": 4,
 "nbformat_minor": 5
}
