{
 "cells": [
  {
   "cell_type": "code",
   "execution_count": 49,
   "metadata": {},
   "outputs": [],
   "source": [
    "%matplotlib inline\n",
    "import matplotlib.pyplot as plt\n",
    "import pandas as pd\n",
    "import numpy as np\n",
    "import os\n",
    "import subprocess\n",
    "\n",
    "from nistats import hemodynamic_models\n",
    "\n",
    "path_root = os.environ.get('DECIDENET_PATH')\n",
    "path_code = os.path.join(path_root, 'code')\n",
    "if path_code not in sys.path:\n",
    "    sys.path.append(path_code)"
   ]
  },
  {
   "cell_type": "code",
   "execution_count": 42,
   "metadata": {},
   "outputs": [],
   "source": [
    "# Directory for PPI analysis\n",
    "path_out = os.path.join(path_root, \n",
    "                        'data/main_fmri_study/derivatives/ppi')\n",
    "os.makedirs(path_out, exist_ok=True)\n",
    "\n",
    "# Timeseries directory\n",
    "path_timeries = os.path.join(path_out, 'timeseries')\n",
    "\n",
    "# Load timeseries\n",
    "time_series_all = np.load(os.path.join(path_timeries, 'time_series_clean_all.npy'))"
   ]
  },
  {
   "cell_type": "markdown",
   "metadata": {},
   "source": [
    "### Sample and store hemodynamic response function"
   ]
  },
  {
   "cell_type": "code",
   "execution_count": 46,
   "metadata": {},
   "outputs": [],
   "source": [
    "hrf_spm = hemodynamic_models.spm_hrf(t_r, oversampling=1, \n",
    "                                     time_length=t_r*20, onset=0.0)\n",
    "hrf_glover = hemodynamic_models.glover_hrf(t_r, oversampling=1,\n",
    "                                        time_length=t_r*20, onset=0.0)\n",
    "\n",
    "pd.Series(hrf_spm).to_csv(os.path.join(path_timeries, 'spmHRF.1D'), index=False, header=False)\n",
    "pd.Series(hrf_glover).to_csv(os.path.join(path_timeries, 'gloverHRF.1D'), index=False, header=False)"
   ]
  },
  {
   "cell_type": "code",
   "execution_count": 45,
   "metadata": {},
   "outputs": [
    {
     "data": {
      "image/png": "[encoded data removed]",
      "text/plain": [
       "<Figure size 576x216 with 1 Axes>"
      ]
     },
     "metadata": {},
     "output_type": "display_data"
    }
   ],
   "source": [
    "n_vol_hrf = 20\n",
    "\n",
    "fig, ax = plt.subplots(figsize=(8, 3), facecolor='w')\n",
    "\n",
    "ax.plot(np.arange(0, n_vol_hrf*2, t_r), hrf_spm[:20], '-o', color='r', label='SPM HRF')\n",
    "ax.plot(np.arange(0, n_vol_hrf*2, t_r), hrf_glover[:20], '-o', color='maroon', label='Glover HRF')\n",
    "ax.set_xlabel('Time [s]')\n",
    "ax.legend()\n",
    "plt.show()"
   ]
  },
  {
   "cell_type": "code",
   "execution_count": 13,
   "metadata": {},
   "outputs": [
    {
     "data": {
      "text/plain": [
       "0"
      ]
     },
     "execution_count": 13,
     "metadata": {},
     "output_type": "execute_result"
    }
   ],
   "source": [
    "path_hrf = os.path.join(path_timeries, 'spmHRF.1D')\n",
    "\n",
    "ts = time_series_all[0, 0, :, 0]\n",
    "\n",
    "pd.Series(ts).to_csv('ts.1D', index=False, header=False)\n",
    "\n",
    "cmd = f'3dTfitter -RHS ts.1D -FALTUNG {path_hrf} ts_deco 012 0'\n",
    "subprocess.call(cmd, shell=True)\n",
    "\n",
    "ts_deco = np.loadtxt('ts_deco.1D')"
   ]
  },
  {
   "cell_type": "code",
   "execution_count": 53,
   "metadata": {},
   "outputs": [
    {
     "data": {
      "text/plain": [
       "730"
      ]
     },
     "execution_count": 53,
     "metadata": {},
     "output_type": "execute_result"
    }
   ],
   "source": [
    "len(ts_deco)"
   ]
  }
 ],
 "metadata": {
  "kernelspec": {
   "display_name": "Python 3.8 64-bit ('decidenet': conda)",
   "language": "python",
   "name": "decidenet"
  },
  "language_info": {
   "codemirror_mode": {
    "name": "ipython",
    "version": 3
   },
   "file_extension": ".py",
   "mimetype": "text/x-python",
   "name": "python",
   "nbconvert_exporter": "python",
   "pygments_lexer": "ipython3",
   "version": "3.8.1"
  }
 },
 "nbformat": 4,
 "nbformat_minor": 4
}
