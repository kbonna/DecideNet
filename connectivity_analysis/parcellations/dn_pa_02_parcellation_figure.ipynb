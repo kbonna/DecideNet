{
 "cells": [
  {
   "cell_type": "code",
   "execution_count": 1,
   "id": "expressed-daughter",
   "metadata": {},
   "outputs": [],
   "source": [
    "from os.path import join\n",
    "from pathlib import Path\n",
    "\n",
    "import pandas as pd\n",
    "import numpy as np\n",
    "from dn_utils.path import path_bsc, path_figures\n",
    "from dn_utils.style import ORANGE, BLUE\n",
    "from nilearn.plotting import plot_connectome"
   ]
  },
  {
   "cell_type": "code",
   "execution_count": 2,
   "id": "breathing-punch",
   "metadata": {},
   "outputs": [],
   "source": [
    "atlas = \"combined_roi_4and5\""
   ]
  },
  {
   "cell_type": "code",
   "execution_count": 3,
   "id": "spoken-johnston",
   "metadata": {},
   "outputs": [],
   "source": [
    "# Load atlas and filter PE ROIs\n",
    "df_roi = pd.read_csv(join(path_bsc, \"corrmats\", atlas, \"roi_table_filtered.csv\"))\n",
    "df_roi_perr = df_roi.loc[~df_roi[\"strategy\"].isna(), [\"x\", \"y\", \"z\", \"radius(mm)\", \"netName\"]]\n",
    "n_roi = len(df_roi_perr)"
   ]
  },
  {
   "cell_type": "code",
   "execution_count": 4,
   "id": "stupid-fairy",
   "metadata": {},
   "outputs": [],
   "source": [
    "df_roi_perr.loc[df_roi[\"netName\"] == \"perr_inc\", \"color\"] = ORANGE + \"CC\"\n",
    "df_roi_perr.loc[df_roi[\"netName\"] == \"perr_dec\", \"color\"] = BLUE + \"CC\""
   ]
  },
  {
   "cell_type": "code",
   "execution_count": 5,
   "id": "conservative-small",
   "metadata": {},
   "outputs": [],
   "source": [
    "plot_connectome(\n",
    "    np.zeros((n_roi, n_roi)),\n",
    "    df_roi_perr[[\"x\", \"y\", \"z\"]].values,\n",
    "    node_color=list(df_roi_perr[\"color\"]),\n",
    "    node_size=df_roi_perr[\"radius(mm)\"] * 12.5,\n",
    "    node_kwargs={\"edgecolor\": \"k\", \"linewidth\": 1},\n",
    "    output_file=join(path_figures, \"thesis/fig_perr_rois.pdf\")\n",
    ")"
   ]
  }
 ],
 "metadata": {
  "kernelspec": {
   "display_name": "Python 3",
   "language": "python",
   "name": "python3"
  },
  "language_info": {
   "codemirror_mode": {
    "name": "ipython",
    "version": 3
   },
   "file_extension": ".py",
   "mimetype": "text/x-python",
   "name": "python",
   "nbconvert_exporter": "python",
   "pygments_lexer": "ipython3",
   "version": "3.8.3"
  }
 },
 "nbformat": 4,
 "nbformat_minor": 5
}
