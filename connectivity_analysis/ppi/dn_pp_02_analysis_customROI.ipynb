{
 "cells": [
  {
   "cell_type": "code",
   "execution_count": 1,
   "metadata": {},
   "outputs": [],
   "source": [
    "import matplotlib.pyplot as plt\n",
    "import seaborn as sns\n",
    "import pandas as pd\n",
    "import numpy as np\n",
    "import sys\n",
    "import os\n",
    "\n",
    "from scipy.stats import ttest_rel, ttest_1samp\n",
    "\n",
    "path_root = os.environ.get('DECIDENET_PATH')\n",
    "path_code = os.path.join(path_root, 'code')\n",
    "if path_code not in sys.path:\n",
    "    sys.path.append(path_code)\n",
    "from dn_utils.behavioral_models import load_behavioral_data\n",
    "\n",
    "%matplotlib inline"
   ]
  },
  {
   "cell_type": "code",
   "execution_count": 2,
   "metadata": {},
   "outputs": [],
   "source": [
    "path_out = os.path.join(path_root, 'data/main_fmri_study/derivatives/ppi')\n",
    "path_nistats = os.path.join(path_root, 'data/main_fmri_study/derivatives/nistats')\n",
    "path_betamats = os.path.join(path_out, 'betamats')\n",
    "path_parcellations = os.path.join(path_out, 'parcellations')\n",
    "path_exclusion_csv = os.path.join(path_nistats, 'exclusion/exclusion.csv')\n",
    "path_betamats_custom_roi = os.path.join(path_betamats, 'customROI')\n",
    "\n",
    "# Behavioral data\n",
    "path_beh = os.path.join(path_root, 'data/main_fmri_study/sourcedata/behavioral')\n",
    "beh, meta = load_behavioral_data(path=path_beh, verbose=False)\n",
    "n_subjects, n_conditions, n_trials, _ = beh.shape\n",
    "\n",
    "# PPI model regressors information\n",
    "beta_names = ['physio', 'dec_ons', 'dec_wcor', 'res_lbp', 'res_rbp', \n",
    "              'ppi_out_ons', 'ppi_out_perr', 'out_ons', 'out_perr', 'out_off',\n",
    "              'reg_intercept']\n",
    "n_regressors = len(beta_names)\n",
    "\n",
    "# ROI information\n",
    "df_custom = pd.read_csv(\n",
    "    os.path.join(path_parcellations, 'custom_roi/custom_roi_table.csv'),\n",
    "    sep=' ')\n",
    "n_rois = len(df_custom)\n",
    "n_nets = len(df_custom['netName'].unique())\n",
    "\n",
    "# Load exclusion table\n",
    "df_exclusion = pd.read_csv(path_exclusion_csv, index_col=0)\n",
    "ok_index = df_exclusion.index[df_exclusion['ok_all']]"
   ]
  },
  {
   "cell_type": "markdown",
   "metadata": {},
   "source": [
    "### Load beta matrices \n",
    "\n",
    "- `beta_mats_agg`: beta_matrices (shape `n_regressors` $\\times$ `n_rois` $\\times$ `n_rois)` aggregated over subjects and tasks)\n",
    "- `beta_mats_agg_sym`: version with beta weights symmetrized for connections `ij` and `ji` "
   ]
  },
  {
   "cell_type": "code",
   "execution_count": 3,
   "metadata": {},
   "outputs": [
    {
     "name": "stdout",
     "output_type": "stream",
     "text": [
      "beta_mats_agg_sym.shape:  (29, 2, 11, 14, 14)\n",
      "nets_mats_agg_sym.shape:  (29, 2, 11, 2, 2)\n"
     ]
    }
   ],
   "source": [
    "beta_idx = beta_names.index('ppi_out_perr')\n",
    "\n",
    "beta_mats_agg = np.zeros(\n",
    "    (n_subjects, n_conditions, n_regressors, n_rois, n_rois))\n",
    "beta_mats_agg_sym = np.zeros(\n",
    "    (n_subjects, n_conditions, n_regressors, n_rois, n_rois))\n",
    "nets_mats_agg_sym = np.zeros(\n",
    "    (n_subjects, n_conditions, n_regressors, n_nets, n_nets))\n",
    "\n",
    "for sub, sub_name in enumerate(meta['dim1']):\n",
    "    for con, con_name in enumerate(meta['dim2']):\n",
    "        \n",
    "        beta_mats_fname = f'sub-{sub_name}_task-{con_name}_betamats.npy'\n",
    "        beta_mats = np.load(os.path.join(path_betamats_custom_roi, \n",
    "                                         beta_mats_fname))\n",
    "        \n",
    "        beta_mats_agg[sub, con] = beta_mats\n",
    "        beta_mats_agg_sym[sub, con] = beta_mats + np.transpose(beta_mats, \n",
    "                                                               (0, 2, 1))\n",
    "        \n",
    "for i, net_i in enumerate(df_custom['netName'].unique()):\n",
    "    for j, net_j in enumerate(df_custom['netName'].unique()):\n",
    "        net_i_idx = df_custom[df_custom['netName'] == net_i].index\n",
    "        net_j_idx = df_custom[df_custom['netName'] == net_j].index\n",
    "        nets_mats_agg_sym[:, :, :, i, j] = np.mean(\n",
    "            beta_mats_agg_sym[:, :, :, net_i_idx, :][:, :, :, :, net_j_idx], \n",
    "            axis=(-1, -2))\n",
    "        \n",
    "# Filter excluded subjects\n",
    "beta_mats_agg = beta_mats_agg[ok_index]\n",
    "beta_mats_agg_sym = beta_mats_agg_sym[ok_index]\n",
    "nets_mats_agg_sym = nets_mats_agg_sym[ok_index]\n",
    "        \n",
    "print('beta_mats_agg_sym.shape: ', beta_mats_agg_sym.shape)\n",
    "print('nets_mats_agg_sym.shape: ', nets_mats_agg_sym.shape)"
   ]
  },
  {
   "cell_type": "code",
   "execution_count": 4,
   "metadata": {},
   "outputs": [],
   "source": [
    "data = []\n",
    "for sub, sub_name in enumerate(df_exclusion.loc[ok_index, 'sub']):\n",
    "    for con, con_name in enumerate(meta['dim2']):\n",
    "        for net, netidx in {'+pe': (0, 0), '-pe': (1, 1), 'mix': (0, 1)}.items():\n",
    "            data.append(\n",
    "                [\n",
    "                    nets_mats_agg_sym[sub, con, beta_idx, netidx[0], netidx[1]],\n",
    "                    sub_name,\n",
    "                    con_name,\n",
    "                    net\n",
    "                ]\n",
    "            )\n",
    "            \n",
    "df = pd.DataFrame(data, columns=['beta', 'sub_name', 'con_name', 'net'])"
   ]
  },
  {
   "cell_type": "code",
   "execution_count": 5,
   "metadata": {},
   "outputs": [
    {
     "data": {
      "image/png": "[encoded data removed]",
      "text/plain": [
       "<Figure size 360x288 with 1 Axes>"
      ]
     },
     "metadata": {
      "needs_background": "light"
     },
     "output_type": "display_data"
    }
   ],
   "source": [
    "fig, ax = plt.subplots(figsize=(5, 4))\n",
    "bp = sns.barplot(\n",
    "    x='net', \n",
    "    y='beta', \n",
    "    hue='con_name',\n",
    "    data=df,\n",
    "    ax=ax,\n",
    "    palette={'rew': '#f49915', 'pun': '#5E88CA'}\n",
    ")"
   ]
  }
 ],
 "metadata": {
  "kernelspec": {
   "display_name": "Python 3",
   "language": "python",
   "name": "python3"
  },
  "language_info": {
   "codemirror_mode": {
    "name": "ipython",
    "version": 3
   },
   "file_extension": ".py",
   "mimetype": "text/x-python",
   "name": "python",
   "nbconvert_exporter": "python",
   "pygments_lexer": "ipython3",
   "version": "3.8.3"
  }
 },
 "nbformat": 4,
 "nbformat_minor": 4
}
