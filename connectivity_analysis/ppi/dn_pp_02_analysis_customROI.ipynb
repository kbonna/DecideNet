{
 "cells": [
  {
   "cell_type": "code",
   "execution_count": 1,
   "metadata": {},
   "outputs": [],
   "source": [
    "import json\n",
    "import os\n",
    "import sys\n",
    "from pathlib import Path\n",
    "\n",
    "import matplotlib as mpl\n",
    "import matplotlib.pyplot as plt\n",
    "import numpy as np\n",
    "import pandas as pd\n",
    "import seaborn as sns\n",
    "import statsmodels.api as sm\n",
    "from scipy.io import savemat\n",
    "from statsmodels.formula.api import ols\n",
    "\n",
    "path_root = os.environ.get('DECIDENET_PATH')\n",
    "path_code = os.path.join(path_root, 'code')\n",
    "if path_code not in sys.path:\n",
    "    sys.path.append(path_code)\n",
    "from dn_utils.behavioral_models import load_behavioral_data\n",
    "from dn_utils.networks import zscore_network\n",
    "\n",
    "%matplotlib inline\n",
    "mpl.rcParams['font.size'] = 13"
   ]
  },
  {
   "cell_type": "code",
   "execution_count": 2,
   "metadata": {},
   "outputs": [],
   "source": [
    "path_derivatives = os.path.join(path_root, 'data/main_fmri_study/derivatives')\n",
    "path_out = os.path.join(path_derivatives, 'ppi')\n",
    "path_nistats = os.path.join(path_derivatives, 'nistats')\n",
    "path_jags = os.path.join(path_derivatives, 'jags')\n",
    "path_betamats = os.path.join(path_out, 'betamats')\n",
    "path_parcellations = os.path.join(path_out, 'parcellations')\n",
    "path_exclusion_csv = os.path.join(path_nistats, 'exclusion/exclusion.csv')\n",
    "path_betamats_custom_roi = os.path.join(path_betamats, 'customROI')\n",
    "\n",
    "# Behavioral data\n",
    "path_beh = os.path.join(path_root, 'data/main_fmri_study/sourcedata/behavioral')\n",
    "beh, meta = load_behavioral_data(path=path_beh, verbose=False)\n",
    "n_subjects, n_conditions, n_trials, _ = beh.shape\n",
    "\n",
    "# ROI information\n",
    "df_custom = pd.read_csv(\n",
    "    os.path.join(path_parcellations, 'custom_roi/custom_roi_table.csv'),\n",
    "    sep=',')\n",
    "n_rois = len(df_custom)\n",
    "n_nets = 2\n",
    "\n",
    "# Load exclusion table\n",
    "df_exclusion = pd.read_csv(path_exclusion_csv, index_col=0)\n",
    "ok_index = df_exclusion.index[df_exclusion['ok_all']]"
   ]
  },
  {
   "cell_type": "markdown",
   "metadata": {},
   "source": [
    "---"
   ]
  },
  {
   "cell_type": "code",
   "execution_count": 3,
   "metadata": {},
   "outputs": [],
   "source": [
    "# Analysis options\n",
    "options = {\n",
    "    'symmetrize': True,\n",
    "    'zscore': False,\n",
    "    'regressor_name': 'ppi_out_perr'\n",
    "}\n",
    "\n",
    "# Data to load\n",
    "t_event_psycho = 0\n",
    "t_event_ppi = 1.5\n",
    "n_regs = 12\n",
    "flags = 'binarizedPerr'"
   ]
  },
  {
   "cell_type": "code",
   "execution_count": 4,
   "metadata": {},
   "outputs": [],
   "source": [
    "dirname_load = '_'.join([\n",
    "    f'tpsycho-{int(t_event_psycho * 1000)}',\n",
    "    f'tppi-{int(t_event_ppi * 1000)}',\n",
    "    f'nRegs-{n_regs}',\n",
    "    flags\n",
    "])\n",
    "\n",
    "# PPI model regressors information\n",
    "path_data = os.path.join(path_betamats_custom_roi, dirname_load, \n",
    "                         'options_betamats.json') \n",
    "with open(path_data, 'r') as f:\n",
    "    options_betamats = json.loads(f.read())\n",
    "\n",
    "\n",
    "beta_names = options_betamats['regressors_save']\n",
    "n_regressors = len(beta_names)\n",
    "beta_idx = beta_names.index(options['regressor_name'])"
   ]
  },
  {
   "cell_type": "markdown",
   "metadata": {},
   "source": [
    "---"
   ]
  },
  {
   "cell_type": "markdown",
   "metadata": {},
   "source": [
    "### Load beta matrices\n",
    "\n",
    "Here, PPI matrices (each \"connection\" value is actually beta value for PPI GLM model, hence the name `beta_mats`) are loaded and aggregated over subjects and task conditions. Symmetrical version of matrices are created. These symmetrical version are then used to create average within and between subnetwork strenght matrices. \n",
    "\n",
    "- `beta_mats_agg`: beta_matrices (shape `n_regressors` $\\times$ `n_rois` $\\times$ `n_rois)` aggregated over subjects and tasks)\n",
    "- `beta_mats_agg_trans`: version with beta weights symmetrized for connections `ij` and `ji` \n",
    "- `nets_mats_agg_trans`: connection strengths are averaged across subnetworks (↑pe network and ↓pe network)"
   ]
  },
  {
   "cell_type": "code",
   "execution_count": 5,
   "metadata": {},
   "outputs": [
    {
     "name": "stdout",
     "output_type": "stream",
     "text": [
      "beta_mats_agg_trans.shape: (29, 2, 3, 14, 14)\n",
      "nets_mats_agg_trans.shape: (29, 2, 3, 2, 2)\n",
      "nbs_beta_mats.shape: (14, 14, 58)\n"
     ]
    }
   ],
   "source": [
    "beta_mats_agg = np.zeros(\n",
    "    (n_subjects, n_conditions, n_regressors, n_rois, n_rois))\n",
    "beta_mats_agg_trans = np.zeros(\n",
    "    (n_subjects, n_conditions, n_regressors, n_rois, n_rois))\n",
    "nets_mats_agg_trans = np.zeros(\n",
    "    (n_subjects, n_conditions, n_regressors, n_nets, n_nets))\n",
    "\n",
    "# Aggregate and transform beta matrices\n",
    "for con, con_name in enumerate(meta['dim2']):\n",
    "    for sub, sub_name in enumerate(meta['dim1']):\n",
    "        \n",
    "        beta_mats_fname = f'sub-{sub_name}_task-{con_name}_betamats.npy'\n",
    "        beta_mats = np.load(os.path.join(path_betamats_custom_roi,\n",
    "                                         dirname_load,\n",
    "                                         beta_mats_fname))\n",
    "        \n",
    "        beta_mats_agg[sub, con] = beta_mats\n",
    "        \n",
    "        # Apply transformations\n",
    "        beta_mats_trans = np.copy(beta_mats)\n",
    "        \n",
    "        for b in range(len(beta_mats_trans)):\n",
    "            np.fill_diagonal(beta_mats_trans[b], val=np.nan)\n",
    "        \n",
    "        if options['symmetrize']:\n",
    "            beta_mats_trans = beta_mats_trans \\\n",
    "                            + np.transpose(beta_mats_trans, (0, 2, 1))\n",
    "            beta_mats_trans = beta_mats_trans / 2\n",
    "        \n",
    "        if options['zscore']:\n",
    "            for b, beta_mat_trans in enumerate(beta_mats_trans):\n",
    "                beta_mats_trans[b] = zscore_network(beta_mat_trans)\n",
    "\n",
    "        \n",
    "        beta_mats_agg_trans[sub, con] = beta_mats_trans \n",
    "        \n",
    "# Calculate network-level mean values (for transformed beta_mats)\n",
    "for i, net_i in enumerate(['perr_inc', 'perr_dec']):\n",
    "    for j, net_j in enumerate(['perr_inc', 'perr_dec']):\n",
    "        net_i_idx = df_custom[df_custom['netName'] == net_i].index\n",
    "        net_j_idx = df_custom[df_custom['netName'] == net_j].index\n",
    "        nets_mats_agg_trans[:, :, :, i, j] = np.nanmean(\n",
    "            beta_mats_agg_trans[:, :, :, net_i_idx, :][:, :, :, :, net_j_idx], \n",
    "            axis=(-1, -2))\n",
    "        \n",
    "# Filter excluded subjects\n",
    "beta_mats_agg = beta_mats_agg[ok_index]\n",
    "beta_mats_agg_trans = beta_mats_agg_trans[ok_index]\n",
    "nets_mats_agg_trans = nets_mats_agg_trans[ok_index]\n",
    "        \n",
    "# Save to MATLAB file for further NBS use\n",
    "path_nbs = os.path.join(path_betamats_custom_roi, dirname_load, 'nbs')\n",
    "Path(path_nbs).mkdir(exist_ok=True)\n",
    "nbs_beta_mats = np.concatenate((beta_mats_agg_trans[:, 0, beta_idx, :, :], \n",
    "                                beta_mats_agg_trans[:, 1, beta_idx, :, :]),\n",
    "                               axis=0)\n",
    "nbs_beta_mats = np.transpose(nbs_beta_mats, axes=[1, 2, 0])\n",
    "savemat(os.path.join(path_nbs, 'nbs_betamats.mat'),\n",
    "        {'nbs_beta_mats': nbs_beta_mats})\n",
    "\n",
    "print('beta_mats_agg_trans.shape:', beta_mats_agg_trans.shape)\n",
    "print('nets_mats_agg_trans.shape:', nets_mats_agg_trans.shape)\n",
    "print('nbs_beta_mats.shape:', nbs_beta_mats.shape)"
   ]
  },
  {
   "cell_type": "markdown",
   "metadata": {},
   "source": [
    "## Question 1\n",
    "---\n",
    "Test whether within and between subnetworks strenght depends on subnetwork type and task condition.  "
   ]
  },
  {
   "cell_type": "code",
   "execution_count": 6,
   "metadata": {},
   "outputs": [
    {
     "data": {
      "text/html": [
       "<div>\n",
       "<style scoped>\n",
       "    .dataframe tbody tr th:only-of-type {\n",
       "        vertical-align: middle;\n",
       "    }\n",
       "\n",
       "    .dataframe tbody tr th {\n",
       "        vertical-align: top;\n",
       "    }\n",
       "\n",
       "    .dataframe thead th {\n",
       "        text-align: right;\n",
       "    }\n",
       "</style>\n",
       "<table border=\"1\" class=\"dataframe\">\n",
       "  <thead>\n",
       "    <tr style=\"text-align: right;\">\n",
       "      <th></th>\n",
       "      <th>sum_sq</th>\n",
       "      <th>df</th>\n",
       "      <th>F</th>\n",
       "      <th>PR(&gt;F)</th>\n",
       "    </tr>\n",
       "  </thead>\n",
       "  <tbody>\n",
       "    <tr>\n",
       "      <th>C(condition)</th>\n",
       "      <td>0.000113</td>\n",
       "      <td>1.0</td>\n",
       "      <td>0.489064</td>\n",
       "      <td>0.485312</td>\n",
       "    </tr>\n",
       "    <tr>\n",
       "      <th>C(net)</th>\n",
       "      <td>0.000129</td>\n",
       "      <td>2.0</td>\n",
       "      <td>0.278676</td>\n",
       "      <td>0.757134</td>\n",
       "    </tr>\n",
       "    <tr>\n",
       "      <th>C(condition):C(net)</th>\n",
       "      <td>0.001009</td>\n",
       "      <td>2.0</td>\n",
       "      <td>2.187730</td>\n",
       "      <td>0.115357</td>\n",
       "    </tr>\n",
       "    <tr>\n",
       "      <th>Residual</th>\n",
       "      <td>0.038753</td>\n",
       "      <td>168.0</td>\n",
       "      <td>NaN</td>\n",
       "      <td>NaN</td>\n",
       "    </tr>\n",
       "  </tbody>\n",
       "</table>\n",
       "</div>"
      ],
      "text/plain": [
       "                       sum_sq     df         F    PR(>F)\n",
       "C(condition)         0.000113    1.0  0.489064  0.485312\n",
       "C(net)               0.000129    2.0  0.278676  0.757134\n",
       "C(condition):C(net)  0.001009    2.0  2.187730  0.115357\n",
       "Residual             0.038753  168.0       NaN       NaN"
      ]
     },
     "execution_count": 6,
     "metadata": {},
     "output_type": "execute_result"
    },
    {
     "data": {
      "image/png": "[encoded data removed]",
      "text/plain": [
       "<Figure size 360x288 with 1 Axes>"
      ]
     },
     "metadata": {
      "needs_background": "light"
     },
     "output_type": "display_data"
    }
   ],
   "source": [
    "data = []\n",
    "nets_dict = {'↑pe': (0, 0), '↓pe': (1, 1), '↑↓i': (1, 0)}\n",
    "if not options['symmetrize']:\n",
    "    nets_dict.update({'↓↑i': (0, 1)})\n",
    "\n",
    "for sub, sub_name in enumerate(df_exclusion.loc[ok_index, 'sub']):\n",
    "    for con, con_name in enumerate(meta['dim2']):\n",
    "        for net, netidx in nets_dict.items():\n",
    "            data.append(\n",
    "                [\n",
    "                    nets_mats_agg_trans[sub, con, beta_idx, netidx[0], netidx[1]],\n",
    "                    sub_name,\n",
    "                    con_name,\n",
    "                    net\n",
    "                ]\n",
    "            )\n",
    "            \n",
    "df = pd.DataFrame(data, columns=['beta', 'sub_name', 'condition', 'net'])\n",
    "\n",
    "# Two-way ANOVA\n",
    "model = ols('beta ~ C(condition) + C(net) + C(condition):C(net)', data=df).fit()\n",
    "df_anova = sm.stats.anova_lm(model, typ=2)\n",
    "\n",
    "# Figure \n",
    "fig, ax = plt.subplots(figsize=(5, 4))\n",
    "bp = sns.barplot(\n",
    "    x='net', \n",
    "    y='beta', \n",
    "    hue='condition',\n",
    "    data=df,\n",
    "    ax=ax,\n",
    "    palette={'rew': '#f49915', 'pun': '#5E88CA'}\n",
    ")\n",
    "plt.legend(loc='upper right')\n",
    "\n",
    "df_anova"
   ]
  },
  {
   "cell_type": "code",
   "execution_count": 7,
   "metadata": {},
   "outputs": [
    {
     "data": {
      "text/plain": [
       "<matplotlib.colorbar.Colorbar at 0x7fc369ec07c0>"
      ]
     },
     "execution_count": 7,
     "metadata": {},
     "output_type": "execute_result"
    },
    {
     "data": {
      "image/png": "[encoded data removed]",
      "text/plain": [
       "<Figure size 432x288 with 2 Axes>"
      ]
     },
     "metadata": {
      "needs_background": "light"
     },
     "output_type": "display_data"
    }
   ],
   "source": [
    "mean_rew = np.mean(beta_mats_agg_trans[:, 0, beta_idx, :, :], axis=0)\n",
    "mean_pun = np.mean(beta_mats_agg_trans[:, 1, beta_idx, :, :], axis=0)           \n",
    "                   \n",
    "plt.imshow(mean_pun, clim=[-0.01, 0.01], cmap='RdBu_r')\n",
    "plt.colorbar()"
   ]
  },
  {
   "cell_type": "code",
   "execution_count": 9,
   "metadata": {},
   "outputs": [
    {
     "data": {
      "text/plain": [
       "174"
      ]
     },
     "execution_count": 9,
     "metadata": {},
     "output_type": "execute_result"
    }
   ],
   "source": [
    "len(df)"
   ]
  }
 ],
 "metadata": {
  "kernelspec": {
   "display_name": "Python 3",
   "language": "python",
   "name": "python3"
  },
  "language_info": {
   "codemirror_mode": {
    "name": "ipython",
    "version": 3
   },
   "file_extension": ".py",
   "mimetype": "text/x-python",
   "name": "python",
   "nbconvert_exporter": "python",
   "pygments_lexer": "ipython3",
   "version": "3.8.3"
  }
 },
 "nbformat": 4,
 "nbformat_minor": 4
}
