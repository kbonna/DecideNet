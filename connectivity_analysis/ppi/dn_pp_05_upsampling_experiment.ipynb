{
 "cells": [
  {
   "cell_type": "code",
   "execution_count": 1,
   "metadata": {},
   "outputs": [
    {
     "name": "stderr",
     "output_type": "stream",
     "text": [
      "/home/kmb/Desktop/Neuroscience/Projects/BONNA_decide_net/code/dn_utils/glm_utils.py:13: FutureWarning: \n",
      "\n",
      " | Starting with Nilearn 0.7.0, all Nistats functionality has been incorporated into Nilearn's stats & reporting modules.\n",
      " | Nistats package will no longer be updated or maintained.\n",
      "\n",
      "  from nistats import design_matrix\n"
     ]
    }
   ],
   "source": [
    "import matplotlib.pyplot as plt\n",
    "import pandas as pd\n",
    "import numpy as np\n",
    "import sys\n",
    "import os\n",
    "\n",
    "path_root = os.environ.get('DECIDENET_PATH')\n",
    "path_code = os.path.join(path_root, 'code')\n",
    "if path_code not in sys.path:\n",
    "    sys.path.append(path_code)\n",
    "from dn_utils.glm_utils import convolve, Regressor, upsampled_events\n",
    "from dn_utils.plotting import aligned_imshow_cbar\n",
    "\n",
    "%matplotlib inline"
   ]
  },
  {
   "cell_type": "code",
   "execution_count": 2,
   "metadata": {},
   "outputs": [],
   "source": [
    "t_r = 2\n",
    "n_volumes = 10\n",
    "sampling_rate = 1/16\n",
    "events_onset = [2, 4]\n",
    "\n",
    "frame_times = np.arange(n_volumes) * t_r\n",
    "frame_times_upsampled = np.arange(n_volumes / sampling_rate) * t_r * sampling_rate\n",
    "downsamples = slice(1, int(n_volumes / sampling_rate), int(1 / sampling_rate))"
   ]
  },
  {
   "cell_type": "code",
   "execution_count": 5,
   "metadata": {},
   "outputs": [],
   "source": [
    "event_psycho_range = np.linspace(0, 2, 9)\n",
    "event_ppi_range = np.linspace(0, 4, 17)\n",
    "\n",
    "similarity = np.zeros((len(event_psycho_range), len(event_ppi_range)))\n",
    "\n",
    "for i, t_event_psycho in enumerate(event_psycho_range):\n",
    "    for j, t_event_ppi in enumerate(event_ppi_range):\n",
    "\n",
    "        reg_regular = Regressor(\n",
    "            name='regular', \n",
    "            frame_times=frame_times,\n",
    "            duration=[t_event_psycho, t_event_psycho], \n",
    "            modulation=[-1, 1],\n",
    "            onset=events_onset)\n",
    "\n",
    "        events_upsampled = upsampled_events(\n",
    "            t_r=t_r,\n",
    "            n_volumes=n_volumes,\n",
    "            onset=events_onset,\n",
    "            duration=t_event_ppi,\n",
    "            modulation=[-1, 1],\n",
    "            sampling_rate=sampling_rate\n",
    "        )\n",
    "\n",
    "        reg_upsampled = Regressor.from_values(\n",
    "            'upsampled',\n",
    "            frame_times,\n",
    "            values=convolve(events_upsampled, t_r=t_r*sampling_rate)[downsamples]\n",
    "        )\n",
    "\n",
    "        similarity[i, j] = Regressor.corr(reg_regular, reg_upsampled)"
   ]
  },
  {
   "cell_type": "code",
   "execution_count": 6,
   "metadata": {},
   "outputs": [
    {
     "data": {
      "image/png": "[encoded data removed]",
      "text/plain": [
       "<Figure size 720x360 with 2 Axes>"
      ]
     },
     "metadata": {
      "needs_background": "light"
     },
     "output_type": "display_data"
    }
   ],
   "source": [
    "fig, ax = plt.subplots(figsize=(10, 5))\n",
    "\n",
    "im = ax.imshow(similarity)\n",
    "aligned_imshow_cbar(ax, im)\n",
    "\n",
    "ax.set_xticks(np.arange(0, len(event_ppi_range), 1))\n",
    "ax.set_yticks(np.arange(0, len(event_psycho_range), 1))\n",
    "ax.set_xticklabels(event_ppi_range)\n",
    "ax.set_yticklabels(event_psycho_range)\n",
    "ax.set_xlabel('t_event_ppi [s]')\n",
    "ax.set_ylabel('t_event_psycho [s]')\n",
    "im.set_clim([0.8, 1])\n",
    "im.set_cmap('RdGy_r')"
   ]
  }
 ],
 "metadata": {
  "kernelspec": {
   "display_name": "Python 3",
   "language": "python",
   "name": "python3"
  },
  "language_info": {
   "codemirror_mode": {
    "name": "ipython",
    "version": 3
   },
   "file_extension": ".py",
   "mimetype": "text/x-python",
   "name": "python",
   "nbconvert_exporter": "python",
   "pygments_lexer": "ipython3",
   "version": "3.8.3"
  }
 },
 "nbformat": 4,
 "nbformat_minor": 4
}
