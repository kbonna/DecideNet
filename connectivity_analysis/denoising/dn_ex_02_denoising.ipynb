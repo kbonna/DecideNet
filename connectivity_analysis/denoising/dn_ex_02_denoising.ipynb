{
 "cells": [
  {
   "cell_type": "markdown",
   "metadata": {},
   "source": [
    "## Denoising fMRI data for connectivity analysis\n",
    "\n",
    "This script denoising fMRI task data for further PPI analysis. Denoising strategy consists of:\n",
    "- confounds regression: 24 head motion parameters, white matter and csf signal (raw, sqared, derivative and square of derivative)\n",
    "- detrending\n",
    "- high pass filtering with cut-off 128s\n",
    "- standardizing resulting signal\n",
    "\n",
    "Denoised images are saved under `derivatives/fmridenoise` directory with BIDS compliant names.\n",
    "\n",
    "---\n",
    "**Last update**: 25.08.2020"
   ]
  },
  {
   "cell_type": "code",
   "execution_count": null,
   "metadata": {},
   "outputs": [],
   "source": [
    "%matplotlib inline\n",
    "import matplotlib.pyplot as plt\n",
    "import pandas as pd\n",
    "import numpy as np\n",
    "import sys\n",
    "import os\n",
    "\n",
    "from nilearn.image import clean_img\n",
    "from bids import BIDSLayout\n",
    "import nibabel as nb\n",
    "\n",
    "path_root = os.environ.get('DECIDENET_PATH')\n",
    "path_code = os.path.join(path_root, 'code')\n",
    "if path_code not in sys.path:\n",
    "    sys.path.append(path_code)\n",
    "from dn_utils.behavioral_models import load_behavioral_data                    "
   ]
  },
  {
   "cell_type": "code",
   "execution_count": null,
   "metadata": {},
   "outputs": [],
   "source": [
    "t_r = 2\n",
    "n_conditions = 2\n",
    "\n",
    "path_out = os.path.join(path_root, 'data/main_fmri_study/derivatives/fmridenoise')\n",
    "path_bids = os.path.join(path_root, 'data/main_fmri_study')\n",
    "\n",
    "layout = BIDSLayout(\n",
    "    root=path_bids,\n",
    "    derivatives=True,\n",
    "    validate=True,\n",
    "    index_metadata=False\n",
    ")\n",
    "\n",
    "fmri_filter = {\n",
    "    \"extension\": [\".nii\", \".nii.gz\"],\n",
    "    \"space\": \"MNI152NLin2009cAsym\",\n",
    "    \"suffix\": \"bold\",\n",
    "    \"desc\": \"preproc\",\n",
    "    \"return_type\": \"filename\"\n",
    "}\n",
    "\n",
    "conf_filter = {\n",
    "    \"extension\": \"tsv\",\n",
    "    \"desc\": \"confounds\",\n",
    "    \"return_type\": \"filename\"\n",
    "}\n",
    "\n",
    "fmri_files, conf_files = [], []\n",
    "\n",
    "for task_dict in [{'task': 'prlrew'}, {'task': 'prlpun'}]:\n",
    "    fmri_filter.update(task_dict)\n",
    "    conf_filter.update(task_dict)\n",
    "    fmri_files.append(layout.get(**fmri_filter))\n",
    "    conf_files.append(layout.get(**conf_filter))"
   ]
  },
  {
   "cell_type": "code",
   "execution_count": null,
   "metadata": {},
   "outputs": [],
   "source": [
    "for con in range(n_conditions):\n",
    "    for fmri_file, conf_file in zip(fmri_files[con], conf_files[con]):\n",
    "        \n",
    "        # Read and filter confounds\n",
    "        conf_df = pd.read_csv(conf_file, sep='\\t')\n",
    "        conf_df = conf_df.filter(regex='rot|trans|csf|white_matter')\n",
    "        conf_df = conf_df.reindex(sorted(conf_df.columns), axis=1)\n",
    "        conf_df = conf_df.fillna(0)\n",
    "        \n",
    "        # Denoise image\n",
    "        fmri_denoised = clean_img(\n",
    "            nb.load(fmri_file), \n",
    "            confounds=conf_df.values, \n",
    "            detrend=True,\n",
    "            standardize=True,\n",
    "            high_pass=1/128, \n",
    "            t_r=t_r\n",
    "        )\n",
    "        \n",
    "        # Save denoised image\n",
    "        base_substr = fmri_file.split('/')[-1].split('.')[0]\n",
    "        base_substr = base_substr.replace('_desc-preproc_bold', '')\n",
    "        pipeline_substr = f'pipeline-24HMPCSFWM'\n",
    "        suffix = 'desc-denoised_bold.nii.gz'\n",
    "        fmri_denoised_fname = f'{base_substr}_{pipeline_substr}_{suffix}'\n",
    "        nb.save(fmri_denoised, os.path.join(path_out, fmri_denoised_fname))\n",
    "        \n",
    "        print(f'Saving {fmri_denoised_fname}')"
   ]
  }
 ],
 "metadata": {
  "kernelspec": {
   "display_name": "Python 3",
   "language": "python",
   "name": "python3"
  },
  "language_info": {
   "codemirror_mode": {
    "name": "ipython",
    "version": 3
   },
   "file_extension": ".py",
   "mimetype": "text/x-python",
   "name": "python",
   "nbconvert_exporter": "python",
   "pygments_lexer": "ipython3",
   "version": "3.8.3"
  }
 },
 "nbformat": 4,
 "nbformat_minor": 4
}
