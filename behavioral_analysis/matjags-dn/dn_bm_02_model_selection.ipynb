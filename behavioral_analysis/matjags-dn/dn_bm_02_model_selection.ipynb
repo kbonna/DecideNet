{
 "cells": [
  {
   "cell_type": "markdown",
   "metadata": {},
   "source": [
    "## Model selection\n",
    "\n",
    "In this script JAGS output for HLM sequential model containing four competing submodels is analyzed. Specifically posterior samples for model indicator variable $z_i$ are used to perform model selection. Model selection can be quantified with Bayes factors and protected exceedance probabilities.\n",
    "\n",
    "### Bayes factor\n",
    "\n",
    "Model indicator variable $z_i$ can be used to discriminate between prediction-error independent (PI) and prediction-error dependent (PD) models. This approach called transdimensional MCMC encompasses both reversible jump MCMC and the product space technique (Sission, 2005). Bayes factors for PI vs PD model selection can be directly calculated for each participant as a ratio of model indicator samples. Bayes factor is the standard Bayesian solution to the model selection problems (Lewis & Raftery, 1997). Bayes factor (BF) for two models $M_1$ and $M_2$ is defined as:\n",
    "$$BF_{12}=\\frac{p(D|M_1)}{p(D|M_2)}$$\n",
    "\n",
    "---\n",
    "**Last update**: 10.06.2020 "
   ]
  },
  {
   "cell_type": "code",
   "execution_count": 1,
   "metadata": {},
   "outputs": [],
   "source": [
    "from matplotlib.patches import Patch\n",
    "import matplotlib.colors as mcolors\n",
    "import matplotlib.pyplot as plt\n",
    "import matplotlib.cm as cm\n",
    "import numpy as np\n",
    "import scipy.io\n",
    "import os\n",
    "\n",
    "from collections import Counter\n",
    "\n",
    "path_root = os.environ.get('DECIDENET_PATH')\n",
    "path_code = os.path.join(path_root, 'code')\n",
    "if path_code not in sys.path:\n",
    "    sys.path.append(path_code)"
   ]
  },
  {
   "cell_type": "code",
   "execution_count": 2,
   "metadata": {},
   "outputs": [],
   "source": [
    "def gen_pep_barplot(pep, model_names, outpath=None):\n",
    "    \"\"\"Create protected exceedance probability barplot.\n",
    "\n",
    "    Args:\n",
    "        pep: \n",
    "            protected exceedance probabilities for any number of models\n",
    "        modelname: \n",
    "            list of modelnames\n",
    "        outpath (optional):\n",
    "            path specification for saving figure\n",
    "    \"\"\"\n",
    "    n_models = len(pep)\n",
    "\n",
    "    fig, ax = plt.subplots(ncols=1, nrows=1, facecolor='w', figsize=(1+n_models, 5))\n",
    "\n",
    "    ax.bar(range(n_models), pep, width=.65, color='gray')\n",
    "    ax.plot([-.5, n_models-.5], np.ones(2)*.95, color='r')\n",
    "\n",
    "    for i, val in enumerate(pep):\n",
    "        ax.text(i - .15, val + .02, f'{val:.3f}', \n",
    "                color='k')\n",
    "\n",
    "    ax.set_xlim([-.5, n_models-.5])\n",
    "    ax.set_xticks(range(n_models))\n",
    "    ax.set_xticklabels(model_names)\n",
    "    ax.set_ylim([0, 1])\n",
    "    ax.set_title('Protected exceedance probability', pad=25)\n",
    "    ax.set_axisbelow(True)\n",
    "    ax.grid()\n",
    "\n",
    "    if outpath:\n",
    "        plt.savefig(outpath)\n",
    "        \n",
    "def gen_pmp_implot(pmp, modelnames, outpath=None, cmap='bone_r') -> None:\n",
    "    \"\"\"Create imagesc / imshow plot for posterior model probabilities.\n",
    "    \n",
    "    Args:\n",
    "        pmp: np.ndarray (n_models x n_subjects)\n",
    "            posterior model probabilities for arbitrary number of models\n",
    "        modelnames: list \n",
    "        outpath (optional): str\n",
    "            path specification for saving figure\n",
    "        cmap_name (optional): str\n",
    "    \"\"\"\n",
    "    pmp_norm = np.divide(pmp, np.mean(np.sum(pmp, 0)))\n",
    "    n_models = pmp_norm.shape[0]\n",
    "    n_subjects = pmp_norm.shape[1]\n",
    "\n",
    "    fig, ax = plt.subplots(nrows=1, ncols=1, facecolor='w', \n",
    "                           figsize=(20, n_models+1))\n",
    "\n",
    "    im = ax.imshow(\n",
    "        pmp_norm, \n",
    "        aspect='auto',\n",
    "        cmap=cmap,\n",
    "        origin='upper'\n",
    "    )\n",
    "    im.set_clim(0, 1)\n",
    "\n",
    "    ax.set_title('Posterior model probability')\n",
    "\n",
    "    ax.set_xticks(np.arange(0, n_subjects, 1))\n",
    "    ax.set_xticks(np.arange(-.5, n_subjects, 1), minor=True)\n",
    "    ax.set_xticklabels([f'm{sub:02}' for sub in range(2, n_subjects+2)],\n",
    "                       rotation=-45)\n",
    "    ax.set_xlabel('Subjects')\n",
    "    ax.set_yticks(np.arange(0, n_models, 1))\n",
    "    ax.set_yticks(np.arange(-.5, n_models, 1), minor=True)\n",
    "    ax.set_ylim([n_models-.5, -.5])\n",
    "    ax.set_yticklabels(modelnames)\n",
    "    ax.set_ylabel('Model')\n",
    "    ax.grid(which='minor', color='k')\n",
    "\n",
    "    cbar = fig.colorbar(im, ax=ax, pad=0.01)\n",
    "    plt.tight_layout()\n",
    "        \n",
    "    if outpath:\n",
    "        fig.savefig(outpath)"
   ]
  },
  {
   "cell_type": "code",
   "execution_count": 3,
   "metadata": {},
   "outputs": [
    {
     "name": "stdout",
     "output_type": "stream",
     "text": [
      "z.shape:  (4, 15000, 32)\n"
     ]
    }
   ],
   "source": [
    "path_out = os.path.join(path_root, 'data/main_fmri_study/derivatives/jags')\n",
    "path_vba = os.path.join(path_out, 'vba')\n",
    "\n",
    "n_subjects = 32\n",
    "sublabels = [f'm{sub:02}' for sub in range(2, n_subjects+2)]\n",
    "modelnames = ['PICI', 'PICD', 'PDCI', 'PDCD']\n",
    "n_models = len(modelnames)\n",
    "\n",
    "# Load posterior samples\n",
    "path_hlm_sequential = os.path.join(path_out, 'jags_output/HLM_sequential_split.mat')\n",
    "mat = scipy.io.loadmat(path_hlm_sequential, variable_names=['samples'], squeeze_me=True)\n",
    "z = mat['samples']['z'].item()\n",
    "print('z.shape: ', z.shape)"
   ]
  },
  {
   "cell_type": "markdown",
   "metadata": {},
   "source": [
    "### Sanity check\n",
    "Plot posterior distribution of model indicator variable $z_i$ marginalized over subjects to ensure that sampling was efficient for split indicators (each indicator for same model was sampled with similar frequency)."
   ]
  },
  {
   "cell_type": "code",
   "execution_count": 4,
   "metadata": {},
   "outputs": [
    {
     "data": {
      "image/png": "[encoded data removed]",
      "text/plain": [
       "<Figure size 720x360 with 1 Axes>"
      ]
     },
     "metadata": {
      "needs_background": "light"
     },
     "output_type": "display_data"
    }
   ],
   "source": [
    "# Show all subjects counts of z\n",
    "fig, ax = plt.subplots(nrows=1, ncols=1, figsize=(10, 5))\n",
    "ax.hist(\n",
    "    z.flatten(), \n",
    "    np.arange(3 * n_models + 1) + .5,\n",
    "    rwidth=.75, \n",
    "    density=True,\n",
    "    color='gray'\n",
    ")\n",
    "ax.set_xticks(np.arange(1, 3 * n_models + 1))\n",
    "ax.set_xticklabels(3 * modelnames)\n",
    "ax.set_ylabel('Proportion couts')\n",
    "ax.set_title('Model indicator variable $z_i$ counts')\n",
    "ax.set_axisbelow(True)\n",
    "ax.grid()\n",
    "\n",
    "plt.tight_layout()\n",
    "plt.show()"
   ]
  },
  {
   "cell_type": "code",
   "execution_count": 5,
   "metadata": {},
   "outputs": [
    {
     "name": "stdout",
     "output_type": "stream",
     "text": [
      "{'PICI': (4, 0.125), 'PDCD': (8, 0.25), 'PDCI': (19, 0.59375), 'PICD': (1, 0.03125)}\n"
     ]
    }
   ],
   "source": [
    "# Calculate posterior model probabilities\n",
    "pmp = np.concatenate(\n",
    "    tuple(np.sum((z == i) + (z == i+n_models) + (z == i+2*n_models), axis=(0, 1))[np.newaxis, :] \n",
    "          for i in range(1, 5)), \n",
    "    axis=0)\n",
    "\n",
    "# Calculate model frequencies\n",
    "freq = Counter(np.argmax(pmp, axis=0))\n",
    "freq = {modelnames[k]: (v, v / n_subjects) for k, v in freq.items()}\n",
    "print(freq)\n",
    "\n",
    "# Save posterior model probabilities to *.mat format\n",
    "pmp = pmp.astype(float)\n",
    "pmp[pmp == 0] = np.finfo(float).eps \n",
    "scipy.io.savemat(\n",
    "    file_name=os.path.join(path_vba, 'pmp_HLM_sequential_split.mat'), \n",
    "    mdict={'pmp': pmp}, \n",
    "    appendmat=True\n",
    ")"
   ]
  },
  {
   "cell_type": "markdown",
   "metadata": {},
   "source": [
    "### Posterior model probability plot\n",
    "\n",
    "Plot posterior model probabilities for each subject and model based on the model indicator variable representing each variant of RL model."
   ]
  },
  {
   "cell_type": "code",
   "execution_count": 6,
   "metadata": {},
   "outputs": [
    {
     "data": {
      "image/png": "[encoded data removed]",
      "text/plain": [
       "<Figure size 1440x360 with 2 Axes>"
      ]
     },
     "metadata": {},
     "output_type": "display_data"
    }
   ],
   "source": [
    "gen_pmp_implot(pmp, modelnames)"
   ]
  },
  {
   "cell_type": "markdown",
   "metadata": {},
   "source": [
    "### Bayes factor for model families\n",
    "\n",
    "Determine whether subject response patterns are better explained by models with:\n",
    "- prediction error dependent (PD) vs. prediction error independent (PI) learning rates\n",
    "- condition dependent (CD) vs. condition independent (CI) learning rates\n",
    "\n",
    "Posterior model probabilities are first marginalized over subjects and then by model groups. Bayes factors are computed according to:\n",
    "$$BF_{PD-PI}=\\frac{p(D|M_{PDCI}\\cup M_{PDCD})}{p(D|M_{PICI}\\cup M_{PICD})}$$\n",
    "$$BF_{CD-CI}=\\frac{p(D|M_{PICD}\\cup M_{PDCD})}{p(D|M_{PICI}\\cup M_{PDCI})}$$"
   ]
  },
  {
   "cell_type": "code",
   "execution_count": 7,
   "metadata": {},
   "outputs": [
    {
     "name": "stdout",
     "output_type": "stream",
     "text": [
      "BF(PD - PI) = 3.191791947393011\n",
      "BF(CD - CI) = 0.6670733052072597\n"
     ]
    }
   ],
   "source": [
    "pmp_marg = np.sum(pmp, axis=1)\n",
    "\n",
    "bf_pd_pi = ((pmp_marg[modelnames.index('PDCI')] + pmp_marg[modelnames.index('PDCD')]) / \n",
    "            (pmp_marg[modelnames.index('PICI')] + pmp_marg[modelnames.index('PICD')])) \n",
    "bf_cd_ci = ((pmp_marg[modelnames.index('PICD')] + pmp_marg[modelnames.index('PDCD')]) / \n",
    "            (pmp_marg[modelnames.index('PICI')] + pmp_marg[modelnames.index('PDCI')])) \n",
    "\n",
    "print(f'BF(PD - PI) = {bf_pd_pi}')\n",
    "print(f'BF(CD - CI) = {bf_cd_ci}')"
   ]
  },
  {
   "cell_type": "markdown",
   "metadata": {},
   "source": [
    "### Posterior exceedance probability on model frequency\n",
    "\n",
    "Before running code below run `dn_bm_03_vba.m` script to obtain posterior exceedance probabilities"
   ]
  },
  {
   "cell_type": "code",
   "execution_count": 8,
   "metadata": {},
   "outputs": [
    {
     "name": "stdout",
     "output_type": "stream",
     "text": [
      "pep(PICI) = 8.063734704582753e-05\n",
      "pep(PICD) = 8.063734704582753e-05\n",
      "pep(PDCI) = 0.9995281621452218\n",
      "pep(PDCD) = 0.00031056316068654537\n",
      "\n"
     ]
    },
    {
     "data": {
      "image/png": "[encoded data removed]",
      "text/plain": [
       "<Figure size 360x360 with 1 Axes>"
      ]
     },
     "metadata": {},
     "output_type": "display_data"
    }
   ],
   "source": [
    "mat = scipy.io.loadmat(os.path.join(path_vba, 'pep_HLM_sequential_split.mat'), squeeze_me=True)\n",
    "\n",
    "print(f'pep(PICI) = {mat[\"pep\"][modelnames.index(\"PICI\")]}')\n",
    "print(f'pep(PICD) = {mat[\"pep\"][modelnames.index(\"PICD\")]}')\n",
    "print(f'pep(PDCI) = {mat[\"pep\"][modelnames.index(\"PDCI\")]}')\n",
    "print(f'pep(PDCD) = {mat[\"pep\"][modelnames.index(\"PDCD\")]}\\n')\n",
    "\n",
    "gen_pep_barplot(mat['pep'], modelnames)"
   ]
  }
 ],
 "metadata": {
  "kernelspec": {
   "display_name": "Python 3",
   "language": "python",
   "name": "python3"
  },
  "language_info": {
   "codemirror_mode": {
    "name": "ipython",
    "version": 3
   },
   "file_extension": ".py",
   "mimetype": "text/x-python",
   "name": "python",
   "nbconvert_exporter": "python",
   "pygments_lexer": "ipython3",
   "version": "3.8.3"
  }
 },
 "nbformat": 4,
 "nbformat_minor": 4
}
