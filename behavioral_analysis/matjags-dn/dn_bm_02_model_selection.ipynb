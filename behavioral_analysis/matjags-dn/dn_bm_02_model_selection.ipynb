{
 "cells": [
  {
   "cell_type": "code",
   "execution_count": 1,
   "metadata": {},
   "outputs": [],
   "source": [
    "from matplotlib.patches import Patch\n",
    "import matplotlib.pyplot as plt\n",
    "import matplotlib.cm as cm\n",
    "\n",
    "import numpy as np\n",
    "import scipy.io\n",
    "plt.style.use('fast')"
   ]
  },
  {
   "cell_type": "code",
   "execution_count": null,
   "metadata": {},
   "outputs": [],
   "source": [
    "path_full = 'data/pc_factorial_run1.mat'\n",
    "path_pi = 'data/pc_factorial_run1_pi_only.mat'\n",
    "path_pd = 'data/pc_factorial_run1_pd_only.mat'\n",
    "\n",
    "n_subjects = 32"
   ]
  },
  {
   "cell_type": "markdown",
   "metadata": {},
   "source": [
    "### Model selection"
   ]
  },
  {
   "cell_type": "markdown",
   "metadata": {},
   "source": [
    "- load MCMC samples from .mat file\n",
    "- calculate sample counts and bayes factor for PI vs PD model comparison"
   ]
  },
  {
   "cell_type": "code",
   "execution_count": null,
   "metadata": {},
   "outputs": [],
   "source": [
    "mat = scipy.io.loadmat(path_full, variable_names=['samples'], squeeze_me=True)\n",
    "z = mat['samples']['z'].item()"
   ]
  },
  {
   "cell_type": "code",
   "execution_count": null,
   "metadata": {},
   "outputs": [],
   "source": [
    "eps = np.finfo(float).eps\n",
    "\n",
    "pmp = np.empty((2, n_subjects), dtype=float)\n",
    "pmp[0] = np.sum(z == 1, (0, 1)) # PI model \n",
    "pmp[1] = np.sum(z == 2, (0, 1)) # PD model\n",
    "pmp[pmp == 0] = eps\n",
    "\n",
    "bf_main = np.divide(pmp[0], pmp[1])"
   ]
  },
  {
   "cell_type": "code",
   "execution_count": null,
   "metadata": {},
   "outputs": [],
   "source": [
    "def gen_logbf_barplot(bf, modelname, outpath=None):\n",
    "    \"\"\"Create barplots for subjectwise model comparison using log-scale.\n",
    "\n",
    "    Args:\n",
    "        bf: bayes factor vector of size n_subjects\n",
    "        modelname: two-element list of modelnames\n",
    "    \"\"\"\n",
    "    logbf = np.log10(bf)\n",
    "    \n",
    "    fig, ax = plt.subplots(nrows=1, ncols=1, facecolor='w', figsize=(20, 5))\n",
    "    \n",
    "    b = ax.bar(range(n_subjects), logbf)\n",
    "\n",
    "    cmap = cm.get_cmap('bone')\n",
    "    color = {\n",
    "        'extreme': cmap(0),\n",
    "        'vstrong': cmap(1/5),\n",
    "        'strong': cmap(2/5),  \n",
    "        'moderate': cmap(3/5),\n",
    "        'anecdotal': cmap(4/5),\n",
    "    }\n",
    "    \n",
    "    for rect in b:\n",
    "        if np.abs(rect.get_height()) < np.log10(3):\n",
    "            rect.set_color(color['anecdotal'])\n",
    "        elif np.abs(rect.get_height()) < np.log10(10):\n",
    "            rect.set_color(color['moderate'])\n",
    "        elif np.abs(rect.get_height()) < np.log10(30):\n",
    "            rect.set_color(color['strong'])\n",
    "        elif np.abs(rect.get_height()) < np.log10(100):\n",
    "            rect.set_color(color['vstrong'])\n",
    "        else:\n",
    "            rect.set_color(color['extreme'])\n",
    "        \n",
    "    ax.set_title('Individual Bayes Factors')\n",
    "    ax.set_xlim((-1, n_subjects))\n",
    "    ax.set_xlabel('Subjects')\n",
    "    ax.set_xticks(range(n_subjects))\n",
    "    ax.set_xticklabels([f'm{sub:02}' for sub in range(2, n_subjects+2)],\n",
    "                      rotation=-45);\n",
    "    ax.set_ylim((-3, 3))\n",
    "    ax.set_ylabel(r'$\\log_{10}(BF)$', rotation=90)\n",
    "    ax.set_axisbelow(True)\n",
    "    ax.grid()\n",
    "\n",
    "    legend_elements = [Patch(facecolor=col, edgecolor='k', label=key) \n",
    "                   for key, col in color.items()]\n",
    "    ax.legend(handles=legend_elements, bbox_to_anchor=(1, .7))\n",
    "    ax.annotate(r'$\\uparrow$' + model_names[0], \n",
    "                [1.01, .8], xycoords='axes fraction', fontsize=20)\n",
    "    ax.annotate(r'$\\downarrow$' + model_names[1], \n",
    "                [1.01, .1], xycoords='axes fraction', fontsize=20)\n",
    "    plt.tight_layout()\n",
    "    \n",
    "    if outpath:\n",
    "        print('saving...')\n",
    "        fig.savefig(outpath)"
   ]
  },
  {
   "cell_type": "code",
   "execution_count": null,
   "metadata": {},
   "outputs": [],
   "source": [
    "model_names = ('PI', 'PD')\n",
    "gen_logbf_barplot(bf_main, model_names, 'pygures/logbf_pi_vs_pd.png')"
   ]
  }
 ],
 "metadata": {
  "kernelspec": {
   "display_name": "Python 3",
   "language": "python",
   "name": "python3"
  },
  "language_info": {
   "codemirror_mode": {
    "name": "ipython",
    "version": 3
   },
   "file_extension": ".py",
   "mimetype": "text/x-python",
   "name": "python",
   "nbconvert_exporter": "python",
   "pygments_lexer": "ipython3",
   "version": "3.7.3"
  }
 },
 "nbformat": 4,
 "nbformat_minor": 2
}
