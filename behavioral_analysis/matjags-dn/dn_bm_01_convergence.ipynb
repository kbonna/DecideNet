{
 "cells": [
  {
   "cell_type": "code",
   "execution_count": 1,
   "metadata": {},
   "outputs": [],
   "source": [
    "import matplotlib.pyplot as plt\n",
    "import numpy as np\n",
    "import scipy.io\n",
    "import os\n",
    "plt.style.use('ggplot')"
   ]
  },
  {
   "cell_type": "code",
   "execution_count": 2,
   "metadata": {},
   "outputs": [],
   "source": [
    "path_jags_output = 'data/jags_output/'\n",
    "\n",
    "path_full = os.path.join(path_jags_output, 'pc_factorial_run1.mat')         \n",
    "path_pi = os.path.join(path_jags_output, 'pc_factorial_run1_pi_only.mat')\n",
    "path_pd = os.path.join(path_jags_output, 'pc_factorial_run1_pd_only.mat')\n",
    "path_seq = os.path.join(path_jags_output, 'pc_seq_trick_run1.mat')\n",
    "path_pdci = os.path.join(path_jags_output, 'pdci_run1.mat')\n",
    "\n",
    "n_subjects = 32"
   ]
  },
  {
   "cell_type": "markdown",
   "metadata": {},
   "source": [
    "### Check convergence\n",
    "TODO list:\n",
    "1. inspect traceplots\n",
    "2. change hyperpriors on $\\beta$\n",
    "3. inspect distribution of $\\beta$ and estimate values"
   ]
  },
  {
   "cell_type": "code",
   "execution_count": 3,
   "metadata": {},
   "outputs": [],
   "source": [
    "def report_convergence(mat: dict) -> None:\n",
    "    \"\"\"Check for convergence of MCMC chains.\n",
    "\n",
    "    Args:\n",
    "        mat: loaded MATLAB structure containing stats field (JAGS output)\n",
    "    \"\"\"\n",
    "    n_monit_nodes = 0    # total number of monitored nodes\n",
    "    n_failed_nodes = 0   # number of nodes that failed to converge\n",
    "    \n",
    "    print('Looking for failed convergence...')\n",
    "    for node in mat['stats']['Rhat'].item().dtype.names:\n",
    "        \n",
    "        rhats = mat['stats']['Rhat'].item()[node].item()\n",
    "        rhats = np.array(rhats)\n",
    "        ind_failed = rhats > 1.1 \n",
    "        \n",
    "        if np.any(ind_failed):\n",
    "            n_failed_nodes += np.sum(ind_failed)\n",
    "            message = (\n",
    "                f\"[--] node(s) {node} failed to converge\\n\"\n",
    "                f\"{5*' '}– {np.sum(ind_failed)}/{np.size(rhats)} fails, \"\n",
    "                f\"max = {np.max(rhats[ind_failed]):0.2f}, \"\n",
    "                f\"median = {np.median(rhats[ind_failed]):0.2f}\"\n",
    "            )\n",
    "            print(message)\n",
    "        else:\n",
    "            print(f'[OK] node(s) {node} converged')\n",
    "        n_monit_nodes += np.size(rhats)\n",
    "        \n",
    "    print('\\nSummary:')\n",
    "    print(f'{100*(1 - (n_failed_nodes/n_monit_nodes)):0.2f}% nodes converged\\n\\n')\n",
    "    \n",
    "def plot_z_convergence(rhat_z: np.array) -> None:\n",
    "    \"\"\"Plots r-hat barplot for indicator variable\"\"\"\n",
    "    \n",
    "    rhat_thr = 1.1\n",
    "    n_subjects = np.size(rhat_z)\n",
    "\n",
    "    fig, ax = plt.subplots(ncols=1, nrows=1, facecolor='w', figsize=(20, 4))\n",
    "    b = ax.bar(\n",
    "        range(n_subjects), \n",
    "        rhat_z,\n",
    "        color=[.3, .3, .3]\n",
    "    )\n",
    "\n",
    "    for rect in b:\n",
    "        if rect.get_height() > rhat_thr:\n",
    "            rect.set_color([1, .3, .3])\n",
    "    \n",
    "    ax.set_title('Model indicator variable $z_i$')\n",
    "    \n",
    "    ax.set_xlim((-1, n_subjects))\n",
    "    ax.set_xlabel('Subjects')\n",
    "    ax.set_xticks(range(n_subjects))\n",
    "    ax.set_xticklabels([f'm{sub:02}' for sub in range(2, n_subjects+2)],\n",
    "                      rotation=-45);\n",
    "\n",
    "    ax.set_ylim((1, 1.4))\n",
    "    ax.set_ylabel(r'$\\hat{r}$', rotation=0)\n",
    "\n",
    "    ax.plot(ax.get_xlim(), (rhat_thr, rhat_thr), color='r')\n",
    "    \n",
    "    plt.tight_layout()\n",
    "    plt.savefig('pygures/convergence.png')"
   ]
  },
  {
   "cell_type": "code",
   "execution_count": 4,
   "metadata": {},
   "outputs": [
    {
     "name": "stdout",
     "output_type": "stream",
     "text": [
      "=== HM PDCI ===\n",
      "Looking for failed convergence...\n",
      "[OK] node(s) theta converged\n",
      "[OK] node(s) alpha_pdci converged\n",
      "[OK] node(s) beta_pdci converged\n",
      "[OK] node(s) a_alpha_pdci converged\n",
      "[OK] node(s) b_alpha_pdci converged\n",
      "[OK] node(s) mu_beta_pdci converged\n",
      "[OK] node(s) sigma_beta_pdci converged\n",
      "[OK] node(s) deviance converged\n",
      "\n",
      "Summary:\n",
      "100.00% nodes converged\n",
      "\n",
      "\n"
     ]
    }
   ],
   "source": [
    "print('=== HM PDCI ===')\n",
    "mat = scipy.io.loadmat(path_pdci, variable_names=['stats'], squeeze_me=True)\n",
    "report_convergence(mat)"
   ]
  },
  {
   "cell_type": "code",
   "execution_count": 5,
   "metadata": {},
   "outputs": [
    {
     "name": "stdout",
     "output_type": "stream",
     "text": [
      "=== HLM Sequential ===\n",
      "Looking for failed convergence...\n",
      "[--] node(s) z failed to converge\n",
      "     – 2/32 fails, max = 1.11, median = 1.11\n",
      "[OK] node(s) a_alpha_pici converged\n",
      "[OK] node(s) b_alpha_pici converged\n",
      "[OK] node(s) mu_beta_pici converged\n",
      "[OK] node(s) sigma_beta_pici converged\n",
      "[--] node(s) alpha_pici failed to converge\n",
      "     – 1/32 fails, max = 1.12, median = 1.12\n",
      "[OK] node(s) beta_pici converged\n",
      "[--] node(s) a_alpha_picd failed to converge\n",
      "     – 1/2 fails, max = 1.56, median = 1.56\n",
      "[OK] node(s) b_alpha_picd converged\n",
      "[OK] node(s) mu_beta_picd converged\n",
      "[OK] node(s) sigma_beta_picd converged\n",
      "[--] node(s) alpha_picd failed to converge\n",
      "     – 32/64 fails, max = 1.77, median = 1.25\n",
      "[OK] node(s) beta_picd converged\n",
      "[OK] node(s) a_alpha_pdci converged\n",
      "[OK] node(s) b_alpha_pdci converged\n",
      "[OK] node(s) mu_beta_pdci converged\n",
      "[OK] node(s) sigma_beta_pdci converged\n",
      "[--] node(s) alpha_pdci failed to converge\n",
      "     – 6/64 fails, max = 1.72, median = 1.24\n",
      "[OK] node(s) beta_pdci converged\n",
      "[--] node(s) a_alpha_pdcd failed to converge\n",
      "     – 3/4 fails, max = 1.42, median = 1.21\n",
      "[--] node(s) b_alpha_pdcd failed to converge\n",
      "     – 2/4 fails, max = 1.83, median = 1.59\n",
      "[OK] node(s) mu_beta_pdcd converged\n",
      "[OK] node(s) sigma_beta_pdcd converged\n",
      "[--] node(s) alpha_pdcd failed to converge\n",
      "     – 69/128 fails, max = 2.05, median = 1.43\n",
      "[OK] node(s) beta_pdcd converged\n",
      "[--] node(s) deviance failed to converge\n",
      "     – 1/1 fails, max = 1.14, median = 1.14\n",
      "\n",
      "Summary:\n",
      "75.37% nodes converged\n",
      "\n",
      "\n"
     ]
    },
    {
     "data": {
      "image/png": "[encoded data removed]",
      "text/plain": [
       "<Figure size 1440x288 with 1 Axes>"
      ]
     },
     "metadata": {},
     "output_type": "display_data"
    }
   ],
   "source": [
    "print('=== HLM Sequential ===')\n",
    "mat = scipy.io.loadmat(path_seq, variable_names=['stats'], squeeze_me=True)\n",
    "report_convergence(mat)\n",
    "plot_z_convergence(mat['stats']['Rhat'].item()['z'].item())"
   ]
  }
 ],
 "metadata": {
  "kernelspec": {
   "display_name": "Python 3",
   "language": "python",
   "name": "python3"
  },
  "language_info": {
   "codemirror_mode": {
    "name": "ipython",
    "version": 3
   },
   "file_extension": ".py",
   "mimetype": "text/x-python",
   "name": "python",
   "nbconvert_exporter": "python",
   "pygments_lexer": "ipython3",
   "version": "3.7.3"
  }
 },
 "nbformat": 4,
 "nbformat_minor": 4
}
