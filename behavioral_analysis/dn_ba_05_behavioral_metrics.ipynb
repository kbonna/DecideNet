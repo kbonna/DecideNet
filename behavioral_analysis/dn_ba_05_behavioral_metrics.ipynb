{
 "cells": [
  {
   "cell_type": "code",
   "execution_count": 3,
   "metadata": {},
   "outputs": [],
   "source": [
    "import matplotlib.pyplot as plt\n",
    "import pandas as pd\n",
    "import numpy as np\n",
    "import json\n",
    "import sys\n",
    "sys.path.append('/home/kmb/Desktop/Neuroscience/Projects/BONNA_decide_net/code')\n",
    "from dn_utils.behavioral_models import *\n",
    "from scipy import stats\n",
    "\n",
    "plt.style.use('ggplot')\n",
    "%matplotlib inline"
   ]
  },
  {
   "cell_type": "code",
   "execution_count": 4,
   "metadata": {},
   "outputs": [
    {
     "name": "stdout",
     "output_type": "stream",
     "text": [
      "Shape of beh array: (32, 2, 110, 21)\n",
      "Conditions [(0, 'rew'), (1, 'pun')]\n",
      "Columns: [(0, 'block'), (1, 'rwd'), (2, 'magn_left'), (3, 'magn_right'), (4, 'response'), (5, 'rt'), (6, 'won_bool'), (7, 'won_magn'), (8, 'acc_after_trial'), (9, 'onset_iti'), (10, 'onset_iti_plan'), (11, 'onset_iti_glob'), (12, 'onset_dec'), (13, 'onset_dec_plan'), (14, 'onset_dec_glob'), (15, 'onset_isi'), (16, 'onset_isi_plan'), (17, 'onset_isi_glob'), (18, 'onset_out'), (19, 'onset_out_plan'), (20, 'onset_out_glob')]\n"
     ]
    }
   ],
   "source": [
    "beh_path = \"/home/kmb/Desktop/Neuroscience/Projects/BONNA_decide_net/\" \\\n",
    "           \"data/main_fmri_study/sourcedata/behavioral\" \n",
    "beh, meta = load_behavioral_data(root=beh_path)\n",
    "n_subjects = beh.shape[0]\n",
    "n_conditions = beh.shape[1]\n",
    "n_trials = beh.shape[2]"
   ]
  },
  {
   "cell_type": "code",
   "execution_count": 142,
   "metadata": {},
   "outputs": [],
   "source": [
    "from scipy import stats\n",
    "\n",
    "# Included subjects\n",
    "sub_idx_filtered = np.delete(np.arange(32), meta['dim1'].index('m19'))"
   ]
  },
  {
   "cell_type": "markdown",
   "metadata": {},
   "source": [
    "### Is performance above chance level? Do task differ in performance?"
   ]
  },
  {
   "cell_type": "code",
   "execution_count": 85,
   "metadata": {},
   "outputs": [
    {
     "name": "stdout",
     "output_type": "stream",
     "text": [
      "0.6252199413489736\n",
      "0.05808228644807999\n",
      "Ttest_1sampResult(statistic=79.16320556995025, pvalue=2.141607241437138e-36)\n",
      "Ttest_relResult(statistic=0.4574407651379915, pvalue=0.6506499576279976)\n"
     ]
    }
   ],
   "source": [
    "won_bool_mean = np.mean(beh[sub_idx_filtered, :, :, meta['dim4'].index('won_bool')], axis=2)\n",
    "print(np.mean(won_bool_mean))\n",
    "print(np.std(won_bool_mean))\n",
    "\n",
    "# mean differ from chance\n",
    "mean_chance = stats.ttest_1samp(np.mean(won_bool_mean, 1), popmean=0)\n",
    "print(mean_chance)\n",
    "\n",
    "# task difference\n",
    "mean_difference = stats.ttest_rel(won_bool_mean[:, 0], won_bool_mean[:, 1])\n",
    "print(mean_difference)"
   ]
  },
  {
   "cell_type": "markdown",
   "metadata": {},
   "source": [
    "### Do reward magnitudes affect choice?"
   ]
  },
  {
   "cell_type": "code",
   "execution_count": 133,
   "metadata": {},
   "outputs": [
    {
     "name": "stdout",
     "output_type": "stream",
     "text": [
      "(0.9407969676351546, 6.383845402240476e-20)\n"
     ]
    }
   ],
   "source": [
    "magn_rl_diff = beh[sub_idx_filtered, :, :, meta['dim4'].index('magn_right')] \\\n",
    "             - beh[sub_idx_filtered, :, :, meta['dim4'].index('magn_left')] \n",
    "response = beh[sub_idx_filtered, :, :, meta['dim4'].index('response')]\n",
    "\n",
    "\n",
    "diff_values = np.unique(magn_rl_diff)\n",
    "response_probability = np.zeros((len(diff_values), 2))\n",
    "response_probability[:, 0] = diff_values\n",
    "\n",
    "for i, diff in enumerate(diff_values):\n",
    "    diff_response = response[magn_rl_diff == diff]\n",
    "    diff_response = diff_response[np.nonzero(diff_response)]\n",
    "    response_probability[i, 1] = np.mean((diff_response + 1) / 2)\n",
    "    \n",
    "magn_choice_corr = stats.pearsonr(response_probability[:, 0], response_probability[:, 1])\n",
    "print(magn_choice_corr)"
   ]
  },
  {
   "cell_type": "code",
   "execution_count": 140,
   "metadata": {},
   "outputs": [
    {
     "data": {
      "text/plain": [
       "(0, 1)"
      ]
     },
     "execution_count": 140,
     "metadata": {},
     "output_type": "execute_result"
    },
    {
     "data": {
      "image/png": "[encoded data removed]",
      "text/plain": [
       "<Figure size 576x360 with 1 Axes>"
      ]
     },
     "metadata": {
      "needs_background": "light"
     },
     "output_type": "display_data"
    }
   ],
   "source": [
    "x = response_probability[:, 0]\n",
    "y = response_probability[:, 1]\n",
    "\n",
    "fig, ax = plt.subplots(nrows=1, ncols=1, figsize=(8, 5))\n",
    "ax.plot(x, y, 'ko')\n",
    "ax.plot(x, np.poly1d(np.polyfit(x, y, 1))(x))\n",
    "\n",
    "ax.set_xlabel('$x_b - x_a$')\n",
    "ax.set_ylabel('choice proportion')\n",
    "ax.set_ylim([0, 1])"
   ]
  },
  {
   "cell_type": "markdown",
   "metadata": {},
   "source": [
    "## OLD"
   ]
  },
  {
   "cell_type": "code",
   "execution_count": 52,
   "metadata": {},
   "outputs": [
    {
     "data": {
      "text/plain": [
       "Ttest_relResult(statistic=0.07794626295864657, pvalue=0.9383717474097866)"
      ]
     },
     "execution_count": 52,
     "metadata": {},
     "output_type": "execute_result"
    }
   ],
   "source": [
    "# Number of reversals for each participant\n",
    "def calculate_reversals(response):\n",
    "    \"\"\"Calculate number of side switches in subject responses.\"\"\"\n",
    "    return len(np.nonzero(np.diff(response[np.nonzero(response)]))[0])\n",
    "\n",
    "reversals = np.zeros((n_subjects, n_conditions))\n",
    "\n",
    "for i in range(n_subjects):\n",
    "    for j in range(n_conditions):\n",
    "        reversals[i, j] = calculate_reversals(beh[i, j, :, 4])\n",
    "\n",
    "\n",
    "stats.ttest_rel(reversals[:, 0], reversals[:, 1])"
   ]
  },
  {
   "cell_type": "code",
   "execution_count": 141,
   "metadata": {},
   "outputs": [
    {
     "name": "stderr",
     "output_type": "stream",
     "text": [
      "/home/kmb/anaconda3/lib/python3.7/site-packages/numpy/lib/histograms.py:829: RuntimeWarning: invalid value encountered in greater_equal\n",
      "  keep = (tmp_a >= first_edge)\n",
      "/home/kmb/anaconda3/lib/python3.7/site-packages/numpy/lib/histograms.py:830: RuntimeWarning: invalid value encountered in less_equal\n",
      "  keep &= (tmp_a <= last_edge)\n"
     ]
    },
    {
     "data": {
      "text/plain": [
       "<matplotlib.legend.Legend at 0x7fee585e8320>"
      ]
     },
     "execution_count": 141,
     "metadata": {},
     "output_type": "execute_result"
    },
    {
     "data": {
      "image/png": "[encoded data removed]",
      "text/plain": [
       "<Figure size 432x288 with 1 Axes>"
      ]
     },
     "metadata": {},
     "output_type": "display_data"
    }
   ],
   "source": [
    "# Look at reaction time distribution for both conditions\n",
    "subject = list(range(n_subjects))\n",
    "\n",
    "fig, ax = plt.subplots(facecolor='w')\n",
    "\n",
    "rt_rew = beh[subject, 0, :, 5].flatten()\n",
    "rt_pun = beh[subject, 1, :, 5].flatten()\n",
    "\n",
    "ax.hist(rt_rew, color='g', bins=30, alpha=.4, label='reward')\n",
    "ax.hist(rt_pun, color='r', bins=30, alpha=.4, label='punishment');\n",
    "ax.legend()"
   ]
  }
 ],
 "metadata": {
  "kernelspec": {
   "display_name": "Python 3",
   "language": "python",
   "name": "python3"
  },
  "language_info": {
   "codemirror_mode": {
    "name": "ipython",
    "version": 3
   },
   "file_extension": ".py",
   "mimetype": "text/x-python",
   "name": "python",
   "nbconvert_exporter": "python",
   "pygments_lexer": "ipython3",
   "version": "3.7.3"
  }
 },
 "nbformat": 4,
 "nbformat_minor": 4
}
