{
 "cells": [
  {
   "cell_type": "code",
   "execution_count": 73,
   "metadata": {},
   "outputs": [],
   "source": [
    "import matplotlib.pyplot as plt\n",
    "import pandas as pd\n",
    "import numpy as np\n",
    "import json\n",
    "from scipy import stats\n",
    "\n",
    "plt.style.use('ggplot')\n",
    "%matplotlib inline"
   ]
  },
  {
   "cell_type": "code",
   "execution_count": 42,
   "metadata": {},
   "outputs": [
    {
     "name": "stdout",
     "output_type": "stream",
     "text": [
      "Shape of beh array: (32, 2, 110, 21)\n",
      "Conditions [(0, 'rew'), (1, 'pun')]\n",
      "Columns: [(0, 'block'), (1, 'rwd'), (2, 'magn_left'), (3, 'magn_right'), (4, 'response'), (5, 'rt'), (6, 'won_bool'), (7, 'won_magn'), (8, 'acc_after_trial'), (9, 'onset_iti'), (10, 'onset_iti_plan'), (11, 'onset_iti_glob'), (12, 'onset_dec'), (13, 'onset_dec_plan'), (14, 'onset_dec_glob'), (15, 'onset_isi'), (16, 'onset_isi_plan'), (17, 'onset_isi_glob'), (18, 'onset_out'), (19, 'onset_out_plan'), (20, 'onset_out_glob')]\n"
     ]
    }
   ],
   "source": [
    "beh_path = \"/home/kmb/Desktop/Neuroscience/Projects/BONNA_decide_net/\" \\\n",
    "           \"data/main_fmri_study/behavioral/behavioral_data_clean_all.npy\"\n",
    "beh_meta_path = beh_path.replace('npy', 'json')\n",
    "\n",
    "# Load behavioral data\n",
    "beh = np.load(beh_path)\n",
    "with open(beh_meta_path, 'r') as f:\n",
    "    meta = json.loads(f.read())\n",
    "\n",
    "print(\"Shape of beh array:\", beh.shape)\n",
    "print(\"Conditions\", [(i, cond)for i, cond in enumerate(meta['dim2'])])\n",
    "print(\"Columns:\", [(i, col) for i, col in enumerate(meta['dim4'])])\n",
    "\n",
    "n_subjects = beh.shape[0]\n",
    "n_conditions = 2"
   ]
  },
  {
   "cell_type": "code",
   "execution_count": 52,
   "metadata": {},
   "outputs": [
    {
     "data": {
      "text/plain": [
       "Ttest_relResult(statistic=0.07794626295864657, pvalue=0.9383717474097866)"
      ]
     },
     "execution_count": 52,
     "metadata": {},
     "output_type": "execute_result"
    }
   ],
   "source": [
    "# Number of reversals for each participant\n",
    "def calculate_reversals(response):\n",
    "    \"\"\"Calculate number of side switches in subject responses.\"\"\"\n",
    "    return len(np.nonzero(np.diff(response[np.nonzero(response)]))[0])\n",
    "\n",
    "reversals = np.zeros((n_subjects, n_conditions))\n",
    "\n",
    "for i in range(n_subjects):\n",
    "    for j in range(n_conditions):\n",
    "        reversals[i, j] = calculate_reversals(beh[i, j, :, 4])\n",
    "\n",
    "\n",
    "stats.ttest_rel(reversals[:, 0], reversals[:, 1])"
   ]
  },
  {
   "cell_type": "code",
   "execution_count": 127,
   "metadata": {},
   "outputs": [
    {
     "name": "stdout",
     "output_type": "stream",
     "text": [
      "r=0.0124 \n",
      "p-value=0.304\n"
     ]
    },
    {
     "data": {
      "image/png": "[encoded data removed]",
      "text/plain": [
       "<Figure size 432x288 with 2 Axes>"
      ]
     },
     "metadata": {},
     "output_type": "display_data"
    }
   ],
   "source": [
    "# Test potential relationship between reaction time and difference in reward\n",
    "# magnitude (for single subject or all subjects)\n",
    "subject = list(range(n_subjects))\n",
    "\n",
    "# Difference in magnitude\n",
    "magdiff = np.abs(beh[subject, :, :, 2]-beh[subject, :, :, 3]).flatten()\n",
    "rt = beh[subject, :, :, 5].flatten()\n",
    "\n",
    "indices = ~np.isnan(rt)\n",
    "magdiff = magdiff[indices]\n",
    "rt = rt[indices]\n",
    "\n",
    "fig, (ax1, ax2) = plt.subplots(nrows=2, ncols=1,facecolor='w')\n",
    "ax1.scatter(magdiff, rt);\n",
    "ax2.hist(rt, bins=30);\n",
    "ax2.set_xlabel(\"reaction time [s]\")\n",
    "\n",
    "r, pval = stats.pearsonr(magdiff, rt)\n",
    "print(f'r={r:.3} \\np-value={pval:.3}')"
   ]
  },
  {
   "cell_type": "code",
   "execution_count": 155,
   "metadata": {},
   "outputs": [
    {
     "data": {
      "text/plain": [
       "<matplotlib.legend.Legend at 0x7f5220194dd8>"
      ]
     },
     "execution_count": 155,
     "metadata": {},
     "output_type": "execute_result"
    },
    {
     "data": {
      "image/png": "[encoded data removed]",
      "text/plain": [
       "<Figure size 432x288 with 1 Axes>"
      ]
     },
     "metadata": {},
     "output_type": "display_data"
    }
   ],
   "source": [
    "# Look at reaction time distribution for both conditions\n",
    "subject = list(range(n_subjects))\n",
    "\n",
    "fig, ax = plt.subplots(facecolor='w')\n",
    "\n",
    "rt_rew = beh[subject, 0, :, 5].flatten()\n",
    "rt_pun = beh[subject, 1, :, 5].flatten()\n",
    "\n",
    "ax.hist(rt_rew, color='g', bins=30, alpha=.4, label='reward')\n",
    "ax.hist(rt_pun, color='r', bins=30, alpha=.4, label='punishment');\n",
    "ax.legend()"
   ]
  }
 ],
 "metadata": {
  "kernelspec": {
   "display_name": "Python 3",
   "language": "python",
   "name": "python3"
  },
  "language_info": {
   "codemirror_mode": {
    "name": "ipython",
    "version": 3
   },
   "file_extension": ".py",
   "mimetype": "text/x-python",
   "name": "python",
   "nbconvert_exporter": "python",
   "pygments_lexer": "ipython3",
   "version": "3.7.3"
  }
 },
 "nbformat": 4,
 "nbformat_minor": 2
}
