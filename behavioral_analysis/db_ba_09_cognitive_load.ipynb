{
 "cells": [
  {
   "cell_type": "code",
   "execution_count": 1,
   "metadata": {},
   "outputs": [],
   "source": [
    "import os\n",
    "from dn_utils.behavioral_models import load_behavioral_data\n",
    "from os.path import join\n",
    "import numpy as np\n",
    "import matplotlib.pyplot as plt\n",
    "import pandas as pd\n",
    "import seaborn as sns\n",
    "from dn_utils.misc import tidy_data\n",
    "from statsmodels.stats.anova import AnovaRM\n",
    "from dn_utils.style import ORANGE, BLUE"
   ]
  },
  {
   "cell_type": "code",
   "execution_count": 2,
   "metadata": {},
   "outputs": [],
   "source": [
    "path_root = os.environ.get(\"DECIDENET_PATH\")\n",
    "path_beh = join(path_root, \"data/main_fmri_study/sourcedata/behavioral\")\n",
    "\n",
    "beh, meta = load_behavioral_data(path_beh, verbose=False)\n",
    "n_subjects, n_conditions, n_trials, _ = beh.shape"
   ]
  },
  {
   "cell_type": "code",
   "execution_count": 6,
   "metadata": {},
   "outputs": [],
   "source": [
    "rt_index = meta[\"dim4\"].index(\"rt\")\n",
    "won_bool_index = meta[\"dim4\"].index(\"won_bool\")\n",
    "\n",
    "rts = np.zeros((n_subjects, n_conditions, 2))\n",
    "\n",
    "for sub in range(n_subjects):\n",
    "    for con in range(n_conditions):\n",
    "        \n",
    "        won_bool = beh[sub, con, :, won_bool_index]#.astype(bool)\n",
    "        \n",
    "#         last_won = won_bool\n",
    "#         last_lost = 1 - won_bool\n",
    "        \n",
    "        last_won = np.hstack(([0], won_bool))[:n_trials].astype(bool)        \n",
    "        last_lost = np.hstack(([0], 1 - won_bool))[:n_trials].astype(bool)\n",
    "        \n",
    "        rts[sub, con, 0] = np.nanmean(beh[sub, con, last_won, rt_index])                \n",
    "        rts[sub, con, 1] = np.nanmean(beh[sub, con, last_lost, rt_index])        "
   ]
  },
  {
   "cell_type": "code",
   "execution_count": 7,
   "metadata": {},
   "outputs": [
    {
     "name": "stdout",
     "output_type": "stream",
     "text": [
      "                   Anova\n",
      "===========================================\n",
      "              F Value Num DF  Den DF Pr > F\n",
      "-------------------------------------------\n",
      "con            4.2707 1.0000 31.0000 0.0472\n",
      "perr_sign      1.6283 1.0000 31.0000 0.2114\n",
      "con:perr_sign 14.0644 1.0000 31.0000 0.0007\n",
      "===========================================\n",
      "\n"
     ]
    },
    {
     "data": {
      "image/png": "[encoded data removed]",
      "text/plain": [
       "<Figure size 360x288 with 1 Axes>"
      ]
     },
     "metadata": {
      "needs_background": "light"
     },
     "output_type": "display_data"
    }
   ],
   "source": [
    "labels = [meta[\"dim1\"], meta[\"dim2\"], [\"perr_pos\", \"perr_neg\"]]\n",
    "palette = {\"perr_pos\": ORANGE, \"perr_neg\": BLUE}\n",
    "\n",
    "depvar = \"rt\"\n",
    "data = tidy_data(\n",
    "    rts,\n",
    "    depvar=depvar,\n",
    "    columns=[\"sub\", \"con\", \"perr_sign\"],\n",
    "    labels=labels,\n",
    ")\n",
    "anova = AnovaRM(\n",
    "    data=data, \n",
    "    depvar=depvar, \n",
    "    subject=\"sub\", \n",
    "    within=[\"con\", \"perr_sign\"]\n",
    ")\n",
    "results = anova.fit()\n",
    "print(results)\n",
    "\n",
    "fig, ax = plt.subplots(figsize=(5, 4))\n",
    "sns.boxplot(\n",
    "    x=\"con\", \n",
    "    y=depvar, \n",
    "    hue=\"perr_sign\", \n",
    "    data=data, \n",
    "    ax=ax, \n",
    "    palette=palette\n",
    ")\n",
    "plt.legend(loc=\"lower right\")\n",
    "plt.show()"
   ]
  }
 ],
 "metadata": {
  "kernelspec": {
   "display_name": "Python 3",
   "language": "python",
   "name": "python3"
  },
  "language_info": {
   "codemirror_mode": {
    "name": "ipython",
    "version": 3
   },
   "file_extension": ".py",
   "mimetype": "text/x-python",
   "name": "python",
   "nbconvert_exporter": "python",
   "pygments_lexer": "ipython3",
   "version": "3.8.3"
  }
 },
 "nbformat": 4,
 "nbformat_minor": 4
}
