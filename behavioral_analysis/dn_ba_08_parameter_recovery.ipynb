{
 "cells": [
  {
   "cell_type": "code",
   "execution_count": 1,
   "metadata": {},
   "outputs": [],
   "source": [
    "import numpy as np\n",
    "import scipy.io\n",
    "import json\n",
    "\n",
    "import sys\n",
    "sys.path.append('/home/kmb/Desktop/Neuroscience/Projects/BONNA_decide_net/code')\n",
    "from dn_utils.behavioral_models import load_behavioral_data, estimate_values_pd"
   ]
  },
  {
   "cell_type": "code",
   "execution_count": 2,
   "metadata": {},
   "outputs": [
    {
     "name": "stdout",
     "output_type": "stream",
     "text": [
      "Shape of beh array: (32, 2, 110, 21)\n",
      "Conditions [(0, 'rew'), (1, 'pun')]\n",
      "Columns: [(0, 'block'), (1, 'rwd'), (2, 'magn_left'), (3, 'magn_right'), (4, 'response'), (5, 'rt'), (6, 'won_bool'), (7, 'won_magn'), (8, 'acc_after_trial'), (9, 'onset_iti'), (10, 'onset_iti_plan'), (11, 'onset_iti_glob'), (12, 'onset_dec'), (13, 'onset_dec_plan'), (14, 'onset_dec_glob'), (15, 'onset_isi'), (16, 'onset_isi_plan'), (17, 'onset_isi_glob'), (18, 'onset_out'), (19, 'onset_out_plan'), (20, 'onset_out_glob')]\n"
     ]
    }
   ],
   "source": [
    "beh_path = \"/home/kmb/Desktop/Neuroscience/Projects/BONNA_decide_net/\" \\\n",
    "           \"data/main_fmri_study/sourcedata/behavioral\" \n",
    "beh, meta = load_behavioral_data(root=beh_path)\n",
    "n_subjects = beh.shape[0]\n",
    "n_conditions = beh.shape[1]\n",
    "n_trials = beh.shape[2]"
   ]
  },
  {
   "cell_type": "code",
   "execution_count": 3,
   "metadata": {},
   "outputs": [],
   "source": [
    "def generate_responses_pd(beh, meta, subject, condition, \n",
    "                         alpha_plus, alpha_minus, beta):\n",
    "    '''Creates responses from artificial subject using specified parameter \n",
    "    values. Note that it uses already existing task data (like trial-wise reward\n",
    "    magnitudes and correct boxes) but it is independent of the collected \n",
    "    behavioral data.\n",
    "    \n",
    "    Args:\n",
    "        beh (np.array): aggrgated behavioral response\n",
    "        meta (dict): description of beh array coding\n",
    "        subject (int): subject index\n",
    "        condition (int): task condition index \n",
    "        alpha_plus (float): learning rate for positive PE\n",
    "        alpha_minus (float): learning rate for negative PE\n",
    "        beta (float): inverse-temperature parameter\n",
    "        \n",
    "    Returns:\n",
    "        Vector of artificial responses. Values coding left and right simulated \n",
    "        button presses are -1 and 1. \n",
    "    '''\n",
    "\n",
    "\n",
    "    n_trials = beh.shape[2]\n",
    "    val, util, magn = (np.zeros((n_trials, 2)) for _ in range(3))\n",
    "    p, response = (np.zeros((n_trials)) for _ in range(2))\n",
    "    val[0] = [.5, .5] # Initial belefis (agnostic)\n",
    "\n",
    "    rwd = np.copy(beh[subject, condition, :, meta['dim4'].index('rwd')]) #BCI\n",
    "\n",
    "    magn[:, 0] = beh[subject, condition, :, meta['dim4'].index('magn_left')]\n",
    "    magn[:, 1] = beh[subject, condition, :, meta['dim4'].index('magn_right')]\n",
    "\n",
    "\n",
    "    for t in range(0, n_trials):\n",
    "\n",
    "        # Calculate expected utility \n",
    "        util[t, :] = np.multiply(magn[t, :], val[t, :])\n",
    "\n",
    "        # Pass it into softmax & generate response\n",
    "        p[t] = np.exp(beta*util[t, 1]) / np.sum(np.exp(beta*util[t, :]))\n",
    "        response[t] = np.random.choice([-1, 1], p=[1-p[t], p[t]])\n",
    "\n",
    "        # Use correct learning rate for trial\n",
    "        if condition == 0:\n",
    "            alpha = alpha_plus * (rwd[t] == response[t]) \\\n",
    "                  + alpha_minus * (rwd[t] != response[t])\n",
    "        else:\n",
    "            alpha = alpha_plus * ((-1)*rwd[t] == response[t]) \\\n",
    "                  + alpha_minus * ((-1)*rwd[t] != response[t])\n",
    "\n",
    "        # Update val before next trial (ignore last update)\n",
    "        if t < n_trials-1: \n",
    "            val[t+1, 1] = val[t, 1] + alpha * ((rwd[t] + 1)/2 - val[t, 1])\n",
    "            val[t+1, 0] = val[t, 0] + alpha * ((-rwd[t] + 1)/2 - val[t, 0])\n",
    "\n",
    "\n",
    "    return response"
   ]
  },
  {
   "cell_type": "markdown",
   "metadata": {},
   "source": [
    "### Create synthetic responses for different RL parameters\n",
    "Here, artificial responses are created for different values of possible RL parameters. Task data is pooled from beh matrix (it is not generated from scratch, but reuse existing data). Note that subject behavioral responses **are not used** at all."
   ]
  },
  {
   "cell_type": "code",
   "execution_count": 266,
   "metadata": {},
   "outputs": [],
   "source": [
    "n_gridpoints_alpha_plus = 10\n",
    "n_gridpoints_alpha_minus = 10\n",
    "n_gridpoints_beta = 3\n",
    "\n",
    "grid_alpha_plus = np.linspace(.01, .99, n_gridpoints_alpha_plus)\n",
    "grid_alpha_minus = np.linspace(.01, .99, n_gridpoints_alpha_minus)\n",
    "grid_beta = np.linspace(.05, .15, n_gridpoints_beta)\n",
    "\n",
    "response_synthetic = np.zeros(\n",
    "    (n_gridpoints_alpha_plus, n_gridpoints_alpha_minus, n_gridpoints_beta,\n",
    "     n_conditions, n_trials)\n",
    ")\n",
    "\n",
    "for ix_ap, ap in enumerate(grid_alpha_plus):\n",
    "    for ix_am, am in enumerate(grid_alpha_minus):\n",
    "        for ix_bt, bt in enumerate(grid_beta):\n",
    "            \n",
    "            for con in [0, 1]:\n",
    "                response_synthetic[ix_ap, ix_am, ix_bt, con, :] = \\\n",
    "                    generate_responses_pd(beh, meta, \n",
    "                                          0, con, \n",
    "                                          ap, am, bt)"
   ]
  },
  {
   "cell_type": "code",
   "execution_count": 271,
   "metadata": {},
   "outputs": [],
   "source": [
    "# Save synthetic responses to *.mat format\n",
    "scipy.io.savemat(\n",
    "    'matjags-dn/data/parameter_recovery/response_synthetic_sub_0.mat', \n",
    "    {'response_synthetic': response_synthetic}, appendmat=True)"
   ]
  },
  {
   "cell_type": "markdown",
   "metadata": {},
   "source": [
    "### Refactoring:\n",
    "1. create additional folder structure within matjags-dn/data\n",
    "2. consistent variable names in behavioral_models.py\n",
    "3. test to behavioral_models.py (?)\n",
    "4. create MY rules to follow (naming conventions, BCI vs correctI distinction)"
   ]
  }
 ],
 "metadata": {
  "kernelspec": {
   "display_name": "Python 3",
   "language": "python",
   "name": "python3"
  },
  "language_info": {
   "codemirror_mode": {
    "name": "ipython",
    "version": 3
   },
   "file_extension": ".py",
   "mimetype": "text/x-python",
   "name": "python",
   "nbconvert_exporter": "python",
   "pygments_lexer": "ipython3",
   "version": "3.7.3"
  }
 },
 "nbformat": 4,
 "nbformat_minor": 4
}
