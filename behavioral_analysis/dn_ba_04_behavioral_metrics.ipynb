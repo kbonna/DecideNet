{
 "cells": [
  {
   "cell_type": "code",
   "execution_count": 1,
   "metadata": {},
   "outputs": [],
   "source": [
    "import matplotlib.pyplot as plt\n",
    "import pandas as pd\n",
    "import numpy as np\n",
    "import json\n",
    "import sys\n",
    "import os\n",
    "\n",
    "from scipy import stats\n",
    "import scipy.io\n",
    "\n",
    "path_root = os.environ.get('DECIDENET_PATH')\n",
    "path_code = os.path.join(path_root, 'code')\n",
    "if path_code not in sys.path:\n",
    "    sys.path.append(path_code)\n",
    "from dn_utils.behavioral_models import load_behavioral_data\n",
    "\n",
    "plt.style.use('ggplot')\n",
    "plt.rcParams.update({'font.size': 14})"
   ]
  },
  {
   "cell_type": "code",
   "execution_count": 8,
   "metadata": {},
   "outputs": [
    {
     "name": "stdout",
     "output_type": "stream",
     "text": [
      "Shape of beh array: (32, 2, 110, 23)\n",
      "Conditions [(0, 'rew'), (1, 'pun')]\n",
      "Columns: [(0, 'block'), (1, 'block_bci'), (2, 'side'), (3, 'side_bci'), (4, 'magn_left'), (5, 'magn_right'), (6, 'response'), (7, 'rt'), (8, 'won_bool'), (9, 'won_magn'), (10, 'acc_after_trial'), (11, 'onset_iti'), (12, 'onset_iti_plan'), (13, 'onset_iti_glob'), (14, 'onset_dec'), (15, 'onset_dec_plan'), (16, 'onset_dec_glob'), (17, 'onset_isi'), (18, 'onset_isi_plan'), (19, 'onset_isi_glob'), (20, 'onset_out'), (21, 'onset_out_plan'), (22, 'onset_out_glob')]\n"
     ]
    }
   ],
   "source": [
    "# Load behavioral data\n",
    "path_beh = os.path.join(path_root, 'data/main_fmri_study/sourcedata/behavioral')\n",
    "beh, meta = load_behavioral_data(path_beh)\n",
    "n_subjects, n_conditions, n_trials, _ = beh.shape"
   ]
  },
  {
   "cell_type": "code",
   "execution_count": 10,
   "metadata": {},
   "outputs": [
    {
     "data": {
      "text/plain": [
       "array([[0.58181818, 0.63636364],\n",
       "       [0.60909091, 0.60909091],\n",
       "       [0.63636364, 0.68181818],\n",
       "       [0.63636364, 0.65454545],\n",
       "       [0.68181818, 0.65454545],\n",
       "       [0.62727273, 0.57272727],\n",
       "       [0.60909091, 0.61818182],\n",
       "       [0.63636364, 0.61818182],\n",
       "       [0.63636364, 0.68181818],\n",
       "       [0.72727273, 0.60909091],\n",
       "       [0.56363636, 0.61818182],\n",
       "       [0.58181818, 0.51818182],\n",
       "       [0.56363636, 0.55454545],\n",
       "       [0.60909091, 0.58181818],\n",
       "       [0.46363636, 0.70909091],\n",
       "       [0.59090909, 0.64545455],\n",
       "       [0.62727273, 0.53636364],\n",
       "       [0.61818182, 0.6       ],\n",
       "       [0.62727273, 0.64545455],\n",
       "       [0.68181818, 0.6       ],\n",
       "       [0.74545455, 0.7       ],\n",
       "       [0.56363636, 0.7       ],\n",
       "       [0.69090909, 0.7       ],\n",
       "       [0.58181818, 0.68181818],\n",
       "       [0.64545455, 0.58181818],\n",
       "       [0.66363636, 0.65454545],\n",
       "       [0.60909091, 0.58181818],\n",
       "       [0.7       , 0.70909091],\n",
       "       [0.6       , 0.46363636],\n",
       "       [0.66363636, 0.54545455],\n",
       "       [0.7       , 0.63636364],\n",
       "       [0.62727273, 0.58181818]])"
      ]
     },
     "execution_count": 10,
     "metadata": {},
     "output_type": "execute_result"
    }
   ],
   "source": [
    "won_bool_mean"
   ]
  },
  {
   "cell_type": "markdown",
   "metadata": {},
   "source": [
    "### Is performance above chance level? Do task differ in performance?"
   ]
  },
  {
   "cell_type": "code",
   "execution_count": 9,
   "metadata": {},
   "outputs": [
    {
     "name": "stdout",
     "output_type": "stream",
     "text": [
      "Overal mean correct choice rate:\n",
      " 0.6247159090909091\n",
      "Correct choice std:\n",
      " 0.057258943823015745\n",
      "Ttest_1sampResult(statistic=81.51661818756725, pvalue=9.769024950537093e-38)\n",
      "Ttest_relResult(statistic=0.4991063442365201, pvalue=0.621228100537964)\n"
     ]
    }
   ],
   "source": [
    "won_bool_mean = np.mean(\n",
    "    beh[:, :, :, meta['dim4'].index('won_bool')], axis=2\n",
    ")\n",
    "print('Overal mean correct choice rate:\\n', np.mean(won_bool_mean)) \n",
    "print('Correct choice std:\\n', np.std(won_bool_mean))\n",
    "\n",
    "# H0: accuracy is at chance level\n",
    "mean_chance = stats.ttest_1samp(np.mean(won_bool_mean, 1), popmean=0)\n",
    "print(mean_chance)\n",
    "\n",
    "# H0: no difference between conditions in accuracy\n",
    "mean_difference = stats.ttest_rel(won_bool_mean[:, 0], won_bool_mean[:, 1])\n",
    "print(mean_difference)"
   ]
  },
  {
   "cell_type": "markdown",
   "metadata": {},
   "source": [
    "### Do reward magnitudes affect choice?\n",
    "Test the correlation between:\n",
    "1. the difference in reward magnitude for left and right side\n",
    "2. averaged (across subjects and conditions) probability of choosing right side\n",
    "\n",
    "In `response_probability` first column corresponds to all unique values of the difference in reward magnitude for left and right side and second column reflects proportion of right side choices for corresponding difference in reward magnitude."
   ]
  },
  {
   "cell_type": "code",
   "execution_count": null,
   "metadata": {},
   "outputs": [],
   "source": [
    "magn_rl_diff = beh[sub_idx_filtered, :, :, meta['dim4'].index('magn_right')] \\\n",
    "             - beh[sub_idx_filtered, :, :, meta['dim4'].index('magn_left')] \n",
    "response = beh[sub_idx_filtered, :, :, meta['dim4'].index('response')]\n",
    "\n",
    "diff_values = np.unique(magn_rl_diff)\n",
    "response_probability = np.zeros((len(diff_values), 2))\n",
    "response_probability[:, 0] = diff_values\n",
    "\n",
    "for i, diff in enumerate(diff_values):\n",
    "    diff_response = response[magn_rl_diff == diff]\n",
    "    diff_response = diff_response[np.nonzero(diff_response)]\n",
    "    response_probability[i, 1] = np.mean((diff_response + 1) / 2)\n",
    "    \n",
    "magn_rl_diff_stat = stats.pearsonr(response_probability[:, 0], response_probability[:, 1])\n",
    "print('r = {:.2f}\\np = {}'.format(magn_rl_diff_stat[0], magn_rl_diff_stat[1]))"
   ]
  },
  {
   "cell_type": "code",
   "execution_count": null,
   "metadata": {},
   "outputs": [],
   "source": [
    "x = response_probability[:, 0]\n",
    "y = response_probability[:, 1]\n",
    "\n",
    "fig, ax = plt.subplots(nrows=1, ncols=1, figsize=(8, 5), facecolor='w')\n",
    "ax.plot(x, y, 'ko')\n",
    "ax.plot(x, np.poly1d(np.polyfit(x, y, 1))(x))\n",
    "\n",
    "ax.set_xlabel('$x_r - x_l$')\n",
    "ax.set_ylabel('right side choice proportion')\n",
    "ax.set_ylim([0, 1])\n",
    "plt.show()"
   ]
  },
  {
   "cell_type": "markdown",
   "metadata": {},
   "source": [
    "### Is number of reversals related to esitimated parameters?\n",
    "Test possible relationship between:\n",
    "1. number of reversals (indicator of probability matching behavior) \n",
    "2. difference in estimaated learning rates for positive and negative PEs"
   ]
  },
  {
   "cell_type": "code",
   "execution_count": null,
   "metadata": {},
   "outputs": [],
   "source": [
    "# Number of reversals for each participant\n",
    "def calculate_reversals(response):\n",
    "    '''Calculate number of side switches in subject responses.'''\n",
    "    return len(np.nonzero(np.diff(response[np.nonzero(response)]))[0])\n",
    "\n",
    "reversals = np.zeros((n_subjects, n_conditions))\n",
    "\n",
    "for i in range(n_subjects):\n",
    "    for j in range(n_conditions):\n",
    "        reversals[i, j] = calculate_reversals(\n",
    "            beh[i, j, :, meta['dim4'].index('response')]\n",
    "        )\n",
    "        \n",
    "# Estimated parameters\n",
    "alpha_est = np.load('matjags-dn/data/subjects_point_estimates/alpha_pdci_mle.npy')\n",
    "mat = scipy.io.loadmat('matjags-dn/data/vba_input/pmp_seq.mat', squeeze_me=True)"
   ]
  },
  {
   "cell_type": "code",
   "execution_count": null,
   "metadata": {},
   "outputs": [],
   "source": [
    "import scipy\n",
    "scipy.stats.pearsonr(x, y)"
   ]
  },
  {
   "cell_type": "code",
   "execution_count": null,
   "metadata": {},
   "outputs": [],
   "source": [
    "fig, ax = plt.subplots(figsize=(6, 5), facecolor='w')\n",
    "\n",
    "# Color indicates value alpha-, size indicates goodness-of-fit for the PDCI model\n",
    "x = alpha_est[:,0] - alpha_est[:,1] \n",
    "y = np.mean(reversals, axis=1)\n",
    "s = 100*(mat['pmp_seq'][2, :] / np.max(mat['pmp_seq'][2, :])) + 30\n",
    "c = alpha_est[:, 0]\n",
    "\n",
    "sc = ax.scatter(\n",
    "    x, y, s=s, c=c,\n",
    "    cmap='bone_r', vmin=0, vmax=1,\n",
    "    linewidth=1, edgecolor='k',\n",
    ")\n",
    "\n",
    "plt.colorbar(sc)\n",
    "ax.plot(x, np.poly1d(np.polyfit(x, y, 1))(x), 'k')\n",
    "\n",
    "ax.set_xlabel(r'$\\alpha_{+} - \\alpha_{-}$')\n",
    "ax.set_ylabel('Mean number of reversals')\n",
    "\n",
    "ax.grid()\n",
    "ax.set_axisbelow(True)\n",
    "ax.set_title('Reversal tendency')\n",
    "\n",
    "plt.tight_layout()\n",
    "# fig.savefig('matjags-dn/figures-poster/correlation.svg')"
   ]
  },
  {
   "cell_type": "markdown",
   "metadata": {},
   "source": [
    "### What is the distribution of reaction time?\n",
    "\n",
    "Reaction time distribution plotted for both conditions."
   ]
  },
  {
   "cell_type": "code",
   "execution_count": null,
   "metadata": {},
   "outputs": [],
   "source": [
    "# Look at reaction time distribution for both conditions\n",
    "fig, ax = plt.subplots(facecolor='w', figsize=(10, 5))\n",
    "\n",
    "rt_rew = beh[:, 0, :, meta['dim4'].index('rt')].flatten()\n",
    "rt_pun = beh[:, 1, :, meta['dim4'].index('rt')].flatten()\n",
    "\n",
    "ax.hist(rt_rew, color='g', bins=np.linspace(0, 1.5, 50), alpha=.3, density=True, label='reward')\n",
    "ax.hist(rt_pun, color='r', bins=np.linspace(0, 1.5, 50), alpha=.3, density=True, label='punishment');\n",
    "ax.legend()\n",
    "plt.show()"
   ]
  }
 ],
 "metadata": {
  "kernelspec": {
   "display_name": "Python 3",
   "language": "python",
   "name": "python3"
  },
  "language_info": {
   "codemirror_mode": {
    "name": "ipython",
    "version": 3
   },
   "file_extension": ".py",
   "mimetype": "text/x-python",
   "name": "python",
   "nbconvert_exporter": "python",
   "pygments_lexer": "ipython3",
   "version": "3.7.7"
  }
 },
 "nbformat": 4,
 "nbformat_minor": 4
}
