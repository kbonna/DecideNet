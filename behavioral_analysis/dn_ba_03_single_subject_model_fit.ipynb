{
 "cells": [
  {
   "cell_type": "markdown",
   "metadata": {},
   "source": [
    "### Behavioral modelling\n",
    "\n",
    "#### Assumptions:\n",
    "\n",
    "1. experienced utility is some function of displayed reward magnitude: \n",
    "    - simple model: $u(x) = x$ \n",
    "    - complex model: $u(x) = x^{\\delta} \\quad if \\quad x>0$ or $u(x) = -\\gamma |x|^{\\delta} \\quad if \\quad x>0$\n",
    "2. values (reflecting beliefs about probability) are learned with simple delta learning rule (TD model):\n",
    "    - $V(a_t)=V(a_{t-1})+ \\alpha [R-V(a_{t-i})]$\n",
    "3. choice probabilites are probabilistic functions of expected utilities:\n",
    "    - degenerate model: $p(a)=\\frac{EV(a)}{EV(a)+EV(b)}$ (parsimoneous approach introduced by *Summerfield et al. 2011*)\n",
    "    - full softmax model: $p(a)=\\frac{\\exp(\\beta EV(a))}{\\exp(\\beta EV(a)) + \\exp(\\beta EV(b))}$\n",
    "\n",
    "#### Free parameters:\n",
    "\n",
    "- $\\alpha \\in [0, 1]$: learning rate (modelling learning rate above half would result in model selecting previously rewarded / not punished option which is not realistic \n",
    "- $\\gamma \\in [0, \\infty]$: loss aversion parameter\n",
    "- $\\delta \\in [0, 1]$: risk aversion parameter\n",
    "- $\\beta \\in [0, \\infty]$: inverse temperature for softmax function\n",
    "\n",
    "#### Model variations:\n",
    "\n",
    "- model 1: (k=1 parameter) simple utility model, degenerate model for choice probabilities\n",
    "- model 2: (k=2 parameters) simple utility model, full softmax model\n",
    "- model 3: (k=4 parameters) complex utility model, full softmax model\n"
   ]
  },
  {
   "cell_type": "code",
   "execution_count": 2,
   "metadata": {},
   "outputs": [],
   "source": [
    "import matplotlib.pyplot as plt\n",
    "import numpy as np\n",
    "import json\n",
    "\n",
    "plt.style.use('seaborn-ticks')"
   ]
  },
  {
   "cell_type": "code",
   "execution_count": 3,
   "metadata": {},
   "outputs": [
    {
     "name": "stdout",
     "output_type": "stream",
     "text": [
      "Shape of beh array: (32, 2, 110, 21)\n",
      "Conditions [(0, 'rew'), (1, 'pun')]\n",
      "Columns: [(0, 'block'), (1, 'rwd'), (2, 'magn_left'), (3, 'magn_right'), (4, 'response'), (5, 'rt'), (6, 'won_bool'), (7, 'won_magn'), (8, 'acc_after_trial'), (9, 'onset_iti'), (10, 'onset_iti_plan'), (11, 'onset_iti_glob'), (12, 'onset_dec'), (13, 'onset_dec_plan'), (14, 'onset_dec_glob'), (15, 'onset_isi'), (16, 'onset_isi_plan'), (17, 'onset_isi_glob'), (18, 'onset_out'), (19, 'onset_out_plan'), (20, 'onset_out_glob')]\n"
     ]
    }
   ],
   "source": [
    "beh_path = \"/home/kmb/Desktop/Neuroscience/Projects/BONNA_decide_net/\" \\\n",
    "           \"data/main_fmri_study/behavioral/behavioral_data_clean_all.npy\"\n",
    "beh_meta_path = beh_path.replace('npy', 'json')\n",
    "\n",
    "# Load behavioral data\n",
    "beh = np.load(beh_path)\n",
    "with open(beh_meta_path, 'r') as f:\n",
    "    meta = json.loads(f.read())\n",
    "    \n",
    "print(\"Shape of beh array:\", beh.shape)\n",
    "print(\"Conditions\", [(i, cond) for i, cond in enumerate(meta['dim2'])])\n",
    "print(\"Columns:\", [(i, col) for i, col in enumerate(meta['dim4'])])\n",
    "\n",
    "n_subjects = beh.shape[0]\n",
    "n_conditions = beh.shape[1]\n",
    "n_trials = beh.shape[2]"
   ]
  },
  {
   "cell_type": "code",
   "execution_count": 4,
   "metadata": {},
   "outputs": [],
   "source": [
    "def estimate_values(beh, meta, subject, condition, alpha):\n",
    "    '''Implements TD learning model on experienced probabilistic outcomes.\n",
    "    \n",
    "    Args:\n",
    "        beh (np.array): aggregated behavioral responses\n",
    "        meta (dict): description of beh array coding\n",
    "        subject (int): subject index\n",
    "        condition (int): task condition index\n",
    "        alpha (float): learning rate \n",
    "        \n",
    "    Returns:\n",
    "        val (np.array): reflects algorithm trialwise beliefs about \n",
    "            probabilities that box will be rewarded / punished\n",
    "    '''\n",
    "    \n",
    "    val = np.zeros((beh.shape[2], 2))\n",
    "    val[0] = [.5, .5] # Initial beliefs (agnostic)\n",
    "\n",
    "    rewarded = beh[subject, condition, :, meta['dim4'].index('rwd')][:-1]\n",
    "    \n",
    "    for trial, rwd in enumerate(rewarded):\n",
    "        val[trial+1, 1] = val[trial, 1] + alpha * ((rwd + 1)/2 - val[trial, 1])\n",
    "        val[trial+1, 0] = val[trial, 0] + alpha * ((-rwd + 1)/2 - val[trial, 0])    \n",
    "\n",
    "    return val\n",
    "\n",
    "def estimate_utilities(beh, meta, subject, condition, gamma=1, delta=1):                                               \n",
    "    '''Implements function converting reward magnitude to experienced utility.\n",
    "    \n",
    "    Args:\n",
    "        beh (np.array): aggregated behavioral responses\n",
    "        meta (dict): description of beh array coding\n",
    "        subject (int): subject index\n",
    "        condition (int): task condition index\n",
    "        gamma (float): loss aversion parameter\n",
    "        delta: (float): risk aversion parameter\n",
    "        \n",
    "    Returns:\n",
    "        util (np.array): reflects algorithm trialwise estimates of utility \n",
    "            for both left and right boxes\n",
    "    '''\n",
    "    util = np.zeros((beh.shape[2], 2))\n",
    "    \n",
    "    if condition == meta['dim2'].index('pun'): \n",
    "        factor = (-1) * gamma\n",
    "    else:\n",
    "        factor = 1\n",
    "        \n",
    "    util[:, 0] = factor * np.power(\n",
    "        np.abs(beh[subject, condition, :, meta['dim4'].index('magn_left')]), \n",
    "        delta\n",
    "    )\n",
    "    util[:, 1] = factor * np.power(\n",
    "        np.abs(beh[subject, condition, :, meta['dim4'].index('magn_right')]), \n",
    "        delta\n",
    "    )\n",
    "\n",
    "    return util\n",
    "\n",
    "def estimate_choice_probability(val, util, kind='simple', theta=None):\n",
    "    '''Implements softmax decision rule reflecting choice probabilities\n",
    "    \n",
    "    Args:\n",
    "        val (np.array): trialwise beliefs about probabilities that box will \n",
    "            be rewarded / punished\n",
    "        util (np.array): trialwise estimates of utility for both boxes\n",
    "        kind (str): either 'simple' or 'softmax' for two different models\n",
    "        theta (float): inverse temperature for softmax function\n",
    "        \n",
    "    Returns:\n",
    "        p (np.array): trialwise choice probabilities\n",
    "    '''\n",
    "\n",
    "    # Calculate expected value for both options\n",
    "    ev = np.multiply(util, val)\n",
    "    \n",
    "    if kind == 'simple':\n",
    "        p = ev / np.sum(ev, axis=1)[:, np.newaxis]\n",
    "        if np.sum(ev) < 0: \n",
    "            p = np.fliplr(p)\n",
    "        \n",
    "    elif kind == 'softmax':\n",
    "        p = np.exp(theta * ev) / np.sum(np.exp(theta * ev), axis=1)[:, np.newaxis]\n",
    "\n",
    "    return p\n",
    "\n",
    "def g_square(beh, meta, subject, condition, p):\n",
    "    '''Calculate badness-of-fit quality measure. G-square is inversely \n",
    "    related to log likelyhood.\n",
    "    \n",
    "    Args:\n",
    "        beh (np.array): aggregated behavioral responses\n",
    "        meta (dict): description of beh array coding\n",
    "        subject (int): subject index\n",
    "        condition (int): task condition index\n",
    "        p (np.array): trialwise choice probabilities\n",
    "    \n",
    "    Returns:\n",
    "        (float): g-square badness-of-fit\n",
    "    '''\n",
    "\n",
    "    ll = 0 \n",
    "    responses = beh[subject, condition, :, meta['dim4'].index('response')]\n",
    "    \n",
    "    for trial, response in enumerate(responses):\n",
    "        if response == -1:\n",
    "            ll += np.log(p[trial, 0])\n",
    "        elif response == 1:\n",
    "            ll += np.log(p[trial, 1])\n",
    "\n",
    "    return (-2) * ll\n",
    "\n",
    "### Behavioral Models #######################################################\n",
    "def model1(beh, meta, subject, condition, alpha):\n",
    "    '''Simple one-parameter model with variable learning rate.'''\n",
    "    \n",
    "    val = estimate_values(beh, meta, subject, condition, alpha)\n",
    "    util = estimate_utilities(beh, meta, subject, condition)\n",
    "    p = estimate_choice_probability(val, util, kind='simple')\n",
    "    \n",
    "    return p\n",
    "    \n",
    "    \n",
    "def model2(beh, meta, subject, condition, alpha, theta):\n",
    "    '''Two-parameter model  with variable learning rate and inverse T.'''\n",
    "    \n",
    "    val = estimate_values(beh, meta, subject, condition, alpha)\n",
    "    util = estimate_utilities(beh, meta, subject, condition)\n",
    "    p = estimate_choice_probability(val, util, kind='softmax', theta=theta)\n",
    "    \n",
    "    return p\n",
    "\n",
    "def model3(beh, meta, subject, condition, alpha, theta, gamma, delta):\n",
    "    '''Four-parameter model.\n",
    "    \n",
    "    Args:\n",
    "        alpha (float): learning rate\n",
    "        theta (float): inverse softmax temperature\n",
    "        gamma (float): loss aversion\n",
    "        delta (float): risk aversion \n",
    "    '''\n",
    "    \n",
    "    val = estimate_values(beh, meta, subject, condition, alpha)\n",
    "    util = estimate_utilities(beh, meta, subject, condition, gamma, delta)\n",
    "    p = estimate_choice_probability(val, util, kind='softmax', theta=theta)\n",
    "    \n",
    "    return p"
   ]
  },
  {
   "cell_type": "markdown",
   "metadata": {},
   "source": [
    "### Show example model fit for models 1 and 2\n",
    "Models are fitted to subject responses using $G^2$ which is a measure of badness-of-fit derived from log likelyhood. In this section model 1 and 2 are fitted for all possible parameters sampled from parameter space. Both task conditions are fitted separately for single subject. Finally, $G^2$  function is visualised in the parameter space."
   ]
  },
  {
   "cell_type": "code",
   "execution_count": 12,
   "metadata": {},
   "outputs": [
    {
     "name": "stderr",
     "output_type": "stream",
     "text": [
      "/home/kmb/anaconda3/lib/python3.7/site-packages/ipykernel_launcher.py:107: RuntimeWarning: divide by zero encountered in log\n",
      "/home/kmb/anaconda3/lib/python3.7/site-packages/ipykernel_launcher.py:109: RuntimeWarning: divide by zero encountered in log\n"
     ]
    },
    {
     "data": {
      "image/png": "[encoded data removed]",
      "text/plain": [
       "<Figure size 720x360 with 1 Axes>"
      ]
     },
     "metadata": {},
     "output_type": "display_data"
    }
   ],
   "source": [
    "N_grid = 100\n",
    "subject = 1\n",
    "\n",
    "### Model 1 #################################################################\n",
    "alpha = np.linspace(0, 1, N_grid)\n",
    "\n",
    "fit1 = np.zeros((2, N_grid))\n",
    "for i, a in enumerate(alpha):\n",
    "    fit1[0, i] = g_square(beh, meta, subject, 0, \n",
    "                          model1(beh, meta, subject, 0, a))\n",
    "    fit1[1, i] = g_square(beh, meta, subject, 1, \n",
    "                          model1(beh, meta, subject, 1, a))\n",
    "    \n",
    "    \n",
    "# Figure 1\n",
    "fig1, ax = plt.subplots(facecolor='w', figsize=(10, 5))\n",
    "ax.plot(alpha, fit1[0,:], linewidth=2, color='g', label='reward')\n",
    "ax.plot(alpha, fit1[1,:], linewidth=2, color='r', label='punishment')\n",
    "\n",
    "ax.set_ylabel('$G^2$')\n",
    "ax.set_xlabel('alpha')\n",
    "ax.legend()\n",
    "ax.grid()\n",
    "\n",
    "plt.tight_layout()"
   ]
  },
  {
   "cell_type": "code",
   "execution_count": 15,
   "metadata": {},
   "outputs": [
    {
     "data": {
      "image/png": "[encoded data removed]",
      "text/plain": [
       "<Figure size 720x360 with 4 Axes>"
      ]
     },
     "metadata": {},
     "output_type": "display_data"
    }
   ],
   "source": [
    "N_grid = 100\n",
    "subject = 27\n",
    "\n",
    "## Model 2 #################################################################\n",
    "alpha = np.linspace(0, .5, N_grid)\n",
    "theta = np.linspace(0, .5, N_grid)\n",
    "\n",
    "av, tv = np.meshgrid(alpha, theta)\n",
    "\n",
    "fit2 = np.zeros((2, N_grid, N_grid))\n",
    "for i, a in enumerate(alpha):\n",
    "    for j, t in enumerate(theta):\n",
    "        fit2[0, i, j] = g_square(beh, meta, subject, 0,\n",
    "                                 model2(beh, meta, subject, 0, a, t))\n",
    "        fit2[1, i, j] = g_square(beh, meta, subject, 1,\n",
    "                                 model2(beh, meta, subject, 1, a, t))\n",
    "\n",
    "# Figure 2\n",
    "fig2, (ax2r, ax2p) = plt.subplots(nrows=1, ncols=2, \n",
    "                                  facecolor='w', figsize=(10, 5))\n",
    "im2r = ax2r.contourf(alpha, theta, fit2[0].T, levels=50, cmap='Greens_r')\n",
    "im2p = ax2p.contourf(alpha, theta, fit2[1].T, levels=50, cmap='Reds_r')\n",
    "\n",
    "ax2r.set_xlabel('alpha')\n",
    "ax2r.set_ylabel('theta')\n",
    "ax2p.set_xlabel('alpha')\n",
    "ax2p.set_ylabel('theta')\n",
    "\n",
    "fig2.colorbar(im2r, ax=ax2r)\n",
    "fig2.colorbar(im2p, ax=ax2p)\n",
    "\n",
    "plt.tight_layout()"
   ]
  },
  {
   "cell_type": "markdown",
   "metadata": {},
   "source": [
    "### Model fitting for single subject responses\n",
    "In this section model parameters are optimized for explaining subject responses. Behavioral responsed are pooled across both task conditions.  "
   ]
  },
  {
   "cell_type": "code",
   "execution_count": 17,
   "metadata": {},
   "outputs": [],
   "source": [
    "from scipy.optimize import minimize\n",
    "from scipy.optimize import Bounds"
   ]
  },
  {
   "cell_type": "code",
   "execution_count": 149,
   "metadata": {},
   "outputs": [
    {
     "name": "stderr",
     "output_type": "stream",
     "text": [
      "/home/kmb/anaconda3/lib/python3.7/site-packages/ipykernel_launcher.py:109: RuntimeWarning: divide by zero encountered in log\n",
      "/home/kmb/anaconda3/lib/python3.7/site-packages/ipykernel_launcher.py:107: RuntimeWarning: divide by zero encountered in log\n"
     ]
    },
    {
     "data": {
      "text/plain": [
       "array([0.26229634, 0.20677297, 0.83553207, 0.42850959, 0.73502176,\n",
       "       0.34870703, 0.03382461, 0.65725947, 0.30605566, 0.58283041,\n",
       "       0.37873599, 0.24451058, 0.08309575, 0.32090706, 0.41262368,\n",
       "       0.28827709, 0.31376484, 0.24357873, 0.70485236, 0.55799692,\n",
       "       0.42051165, 0.12743767, 0.64647315, 0.45237454, 0.44834319,\n",
       "       0.64341453, 0.6168717 , 0.52436319, 0.32583531, 0.65404977,\n",
       "       0.36540772, 0.39284934])"
      ]
     },
     "execution_count": 149,
     "metadata": {},
     "output_type": "execute_result"
    }
   ],
   "source": [
    "bounds1 = Bounds([0], [1])\n",
    "x0 = np.array([.5])\n",
    "\n",
    "def cost_model1(x):\n",
    "    '''Optimization function for model 1.'''\n",
    "    global subject\n",
    "    g_rew = g_square(beh, meta, subject, 0, model1(beh, meta, subject, 0, x))\n",
    "#     g_pun = g_square(beh, meta, subject, 1, model1(beh, meta, subject, 1, x))\n",
    "    return g_rew  #+ g_pun\n",
    "\n",
    "alpha_fit = np.zeros((n_subjects, 2)) # store results\n",
    "\n",
    "for subject in range(n_subjects):\n",
    "\n",
    "    # print(f'Finding parameter for subject {subject}...')\n",
    "    res = minimize(cost_model1, x0, method='SLSQP', bounds=bounds1)\n",
    "    alpha_fit[subject, 0] = res['x']\n",
    "    alpha_fit[subject, 1] = res['fun']"
   ]
  },
  {
   "cell_type": "code",
   "execution_count": 155,
   "metadata": {},
   "outputs": [
    {
     "data": {
      "text/plain": [
       "array([[1.        , 0.98369974],\n",
       "       [0.98369974, 1.        ]])"
      ]
     },
     "execution_count": 155,
     "metadata": {},
     "output_type": "execute_result"
    },
    {
     "data": {
      "image/png": "[encoded data removed]",
      "text/plain": [
       "<Figure size 432x288 with 1 Axes>"
      ]
     },
     "metadata": {},
     "output_type": "display_data"
    }
   ],
   "source": [
    "classic = np.array([0.26229634, 0.20677297, 0.83553207, 0.42850959, 0.73502176,\n",
    "       0.34870703, 0.03382461, 0.65725947, 0.30605566, 0.58283041,\n",
    "       0.37873599, 0.24451058, 0.08309575, 0.32090706, 0.41262368,\n",
    "       0.28827709, 0.31376484, 0.24357873, 0.70485236, 0.55799692,\n",
    "       0.42051165, 0.12743767, 0.64647315, 0.45237454, 0.44834319,\n",
    "       0.64341453, 0.6168717 , 0.52436319, 0.32583531, 0.65404977,\n",
    "       0.36540772, 0.39284934])\n",
    "\n",
    "bayes = np.array([0.26555101, 0.18188305, 0.68540723, 0.41283568, 0.56205493,\n",
    "       0.33277677, 0.03646573, 0.60736784, 0.24180079, 0.4420432 ,\n",
    "       0.32256171, 0.18492777, 0.05911576, 0.28068696, 0.31012604,\n",
    "       0.20609922, 0.23082238, 0.21194786, 0.6096009 , 0.48789681,\n",
    "       0.38794743, 0.11148475, 0.50130744, 0.39023806, 0.33860929,\n",
    "       0.51078252, 0.55261129, 0.44028743, 0.26917858, 0.56469864,\n",
    "       0.31766604, 0.34845983])\n",
    "\n",
    "plt.plot(classic, bayes, 'ro', label='alpha')\n",
    "plt.xlabel('classic')\n",
    "plt.ylabel('bayes')"
   ]
  },
  {
   "cell_type": "markdown",
   "metadata": {},
   "source": [
    "### Model comparison for single subject\n",
    "In this section three models are compared with respect to their Akaike Information Criterion (AIC score). AIC enables comparision of models with different number of free parameters. AIC is defined as:\n",
    "$$AIC = G^2 + 2k$$ "
   ]
  },
  {
   "cell_type": "code",
   "execution_count": 22,
   "metadata": {},
   "outputs": [],
   "source": [
    "subject = 1\n",
    "\n",
    "results = {}\n",
    "results['model1'] = {'k': 1, 'g_square': None, 'x': None}\n",
    "results['model2'] = {'k': 2, 'g_square': None, 'x': None}\n",
    "results['model3'] = {'k': 4, 'g_square': None, 'x': None}\n",
    "\n",
    "### Model 1 #################################################################\n",
    "bounds1 = Bounds([0], [1])\n",
    "\n",
    "def cost_model1(x):\n",
    "    '''Optimization function for model 1.'''\n",
    "    g_rew = g_square(beh, meta, subject, 0, model1(beh, meta, subject, 0, x))\n",
    "    g_pun = g_square(beh, meta, subject, 1, model1(beh, meta, subject, 1, x))\n",
    "    return g_rew  + g_pun\n",
    "\n",
    "x0 = np.array([.5])\n",
    "\n",
    "res1 = minimize(cost_model1, x0, method='SLSQP', bounds=bounds1)\n",
    "results['model1']['g_square'] = res1['fun']\n",
    "results['model1']['x'] = res1['x']\n",
    "\n",
    "### Model 2 #################################################################\n",
    "bounds2 = Bounds([0, 0], [1, np.inf])\n",
    "\n",
    "def cost_model2(x):\n",
    "    '''Optimization function for model 2.'''\n",
    "    g_rew = g_square(beh, meta, subject, 0, \n",
    "                     model2(beh, meta, subject, 0, x[0], x[1]))\n",
    "    g_pun = g_square(beh, meta, subject, 1, \n",
    "                     model2(beh, meta, subject, 1, x[0], x[1]))\n",
    "    return g_rew + g_pun\n",
    "\n",
    "x0 = np.array([.5, 1])\n",
    "\n",
    "res2 = minimize(cost_model2, x0, method='SLSQP', bounds=bounds2)    \n",
    "results['model2']['g_square'] = res2['fun']\n",
    "results['model2']['x'] = res2['x']\n",
    "\n",
    "# ### Model 3 #################################################################\n",
    "bounds3 = Bounds([0, 0, 0, 0], [1, np.inf, np.inf, 1])\n",
    "\n",
    "def cost_model3(x):\n",
    "    '''Optimization function for model 3.'''\n",
    "    g_rew = g_square(beh, meta, subject, 0, \n",
    "                     model3(beh, meta, subject, 0, x[0], x[1], x[2], x[3]))\n",
    "    g_pun = g_square(beh, meta, subject, 1, \n",
    "                     model3(beh, meta, subject, 1, x[0], x[1], x[2], x[3]))\n",
    "    return g_rew + g_pun\n",
    "\n",
    "x0 = np.array([.5, .5, 1, 1])\n",
    "\n",
    "res3 = minimize(cost_model3, x0, method='SLSQP', bounds=bounds3)    \n",
    "results['model3']['g_square'] = res3['fun'] \n",
    "results['model3']['x'] = res3['x']"
   ]
  },
  {
   "cell_type": "code",
   "execution_count": 23,
   "metadata": {},
   "outputs": [
    {
     "data": {
      "image/png": "[encoded data removed]",
      "text/plain": [
       "<Figure size 720x216 with 1 Axes>"
      ]
     },
     "metadata": {},
     "output_type": "display_data"
    }
   ],
   "source": [
    "aic = np.zeros(3)\n",
    "\n",
    "for i, model in enumerate(results):\n",
    "    aic[i] = results[model]['g_square'] + 2*results[model]['k']\n",
    "\n",
    "plt.style.use('seaborn-ticks')\n",
    "\n",
    "fig, ax = plt.subplots(facecolor='w', figsize=(10, 3))\n",
    "\n",
    "color = ['#01579B' for _ in range(3)]\n",
    "color[np.argmin(aic)] = '#A67C00'\n",
    "ax.barh(range(3), aic, color=color, alpha=.75)\n",
    "ax.set_xlabel('Akaike Information Criterion')\n",
    "ax.set_yticks(range(3))\n",
    "ax.set_yticklabels(['model1', 'model2', 'model3'])\n",
    "ax.grid()"
   ]
  }
 ],
 "metadata": {
  "kernelspec": {
   "display_name": "Python 3",
   "language": "python",
   "name": "python3"
  },
  "language_info": {
   "codemirror_mode": {
    "name": "ipython",
    "version": 3
   },
   "file_extension": ".py",
   "mimetype": "text/x-python",
   "name": "python",
   "nbconvert_exporter": "python",
   "pygments_lexer": "ipython3",
   "version": "3.7.3"
  }
 },
 "nbformat": 4,
 "nbformat_minor": 2
}
